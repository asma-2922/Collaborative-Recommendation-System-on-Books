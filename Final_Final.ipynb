{
 "cells": [
  {
   "cell_type": "markdown",
   "id": "4b02d5cb",
   "metadata": {},
   "source": [
    "---\n",
    "# 1. Description of the dataset\n",
    "---\n",
    "> Data set link : https://cseweb.ucsd.edu/~jmcauley/datasets.html#social_data. </br>\n",
    "> We are provided with the following dataset: </br>\n",
    ">  LibraryThing \n"
   ]
  },
  {
   "cell_type": "markdown",
   "id": "3b91f09e",
   "metadata": {},
   "source": [
    "###  *Description of review dataset*\n",
    "\n",
    ">* comment: The review or comment left by the user. \n",
    ">* nhelpful: The number of helpful votes received for the review.\n",
    ">* unixtime: A timestamp indicating when the review was posted.\n",
    ">* work: An identifier for the work being reviewed.\n",
    ">* user: Name of the user who wrote the review.\n",
    ">* stars: A numerical value representing the rating given in the review, on a scale of 0 to 5. \n",
    ">* time: The date when the review was posted.\n",
    ">* user_id - An identifier of the user who wrote the review."
   ]
  },
  {
   "cell_type": "markdown",
   "id": "abeb8e93",
   "metadata": {},
   "source": [
    "### *Importing the necessary libraries*"
   ]
  },
  {
   "cell_type": "code",
   "execution_count": 1,
   "id": "3410a6be",
   "metadata": {},
   "outputs": [
    {
     "name": "stderr",
     "output_type": "stream",
     "text": [
      "C:\\Users\\aasma\\anaconda3\\lib\\site-packages\\scipy\\__init__.py:155: UserWarning: A NumPy version >=1.18.5 and <1.25.0 is required for this version of SciPy (detected version 1.26.4\n",
      "  warnings.warn(f\"A NumPy version >={np_minversion} and <{np_maxversion}\"\n"
     ]
    }
   ],
   "source": [
    "import pandas as pd\n",
    "import numpy as np\n",
    "import matplotlib.pyplot as plt\n",
    "import seaborn as sns\n",
    "import pickle\n",
    "from sklearn.metrics import mean_squared_error\n",
    "import requests\n",
    "from bs4 import BeautifulSoup\n",
    "import warnings\n",
    "warnings.filterwarnings('ignore') "
   ]
  },
  {
   "cell_type": "markdown",
   "id": "a3d8b886",
   "metadata": {},
   "source": [
    "### *Importing the dataset*"
   ]
  },
  {
   "cell_type": "code",
   "execution_count": 2,
   "id": "b3734e55",
   "metadata": {
    "scrolled": false
   },
   "outputs": [
    {
     "data": {
      "text/html": [
       "<div>\n",
       "<style scoped>\n",
       "    .dataframe tbody tr th:only-of-type {\n",
       "        vertical-align: middle;\n",
       "    }\n",
       "\n",
       "    .dataframe tbody tr th {\n",
       "        vertical-align: top;\n",
       "    }\n",
       "\n",
       "    .dataframe thead th {\n",
       "        text-align: right;\n",
       "    }\n",
       "</style>\n",
       "<table border=\"1\" class=\"dataframe\">\n",
       "  <thead>\n",
       "    <tr style=\"text-align: right;\">\n",
       "      <th></th>\n",
       "      <th>Unnamed: 0</th>\n",
       "      <th>comment</th>\n",
       "      <th>nhelpful</th>\n",
       "      <th>unixtime</th>\n",
       "      <th>work</th>\n",
       "      <th>user</th>\n",
       "      <th>stars</th>\n",
       "      <th>time</th>\n",
       "      <th>user_id</th>\n",
       "    </tr>\n",
       "  </thead>\n",
       "  <tbody>\n",
       "    <tr>\n",
       "      <th>0</th>\n",
       "      <td>0</td>\n",
       "      <td>Every eveningthe brave queen of PersiaShahraza...</td>\n",
       "      <td>0</td>\n",
       "      <td>1332288000</td>\n",
       "      <td>73960</td>\n",
       "      <td>Elizabeth.Wong98</td>\n",
       "      <td>4.5</td>\n",
       "      <td>Mar 212012</td>\n",
       "      <td>0</td>\n",
       "    </tr>\n",
       "    <tr>\n",
       "      <th>1</th>\n",
       "      <td>1</td>\n",
       "      <td>Its the 1983-84 school year and Edward Zanni o...</td>\n",
       "      <td>0</td>\n",
       "      <td>1253404800</td>\n",
       "      <td>69413</td>\n",
       "      <td>rivkat</td>\n",
       "      <td>3.0</td>\n",
       "      <td>Sep 202009</td>\n",
       "      <td>1</td>\n",
       "    </tr>\n",
       "    <tr>\n",
       "      <th>2</th>\n",
       "      <td>2</td>\n",
       "      <td>I became privy to this bookwhen another author...</td>\n",
       "      <td>0</td>\n",
       "      <td>1299888000</td>\n",
       "      <td>9523995</td>\n",
       "      <td>suz.haugland</td>\n",
       "      <td>4.0</td>\n",
       "      <td>Mar 122011</td>\n",
       "      <td>2</td>\n",
       "    </tr>\n",
       "    <tr>\n",
       "      <th>3</th>\n",
       "      <td>3</td>\n",
       "      <td>.</td>\n",
       "      <td>0</td>\n",
       "      <td>1327276800</td>\n",
       "      <td>368228</td>\n",
       "      <td>amoskovacs</td>\n",
       "      <td>4.0</td>\n",
       "      <td>Jan 232012</td>\n",
       "      <td>3</td>\n",
       "    </tr>\n",
       "    <tr>\n",
       "      <th>4</th>\n",
       "      <td>4</td>\n",
       "      <td>This is a tremendous story of a freed woman an...</td>\n",
       "      <td>0</td>\n",
       "      <td>1329004800</td>\n",
       "      <td>11243828</td>\n",
       "      <td>CandyH</td>\n",
       "      <td>4.0</td>\n",
       "      <td>Feb 122012</td>\n",
       "      <td>4</td>\n",
       "    </tr>\n",
       "    <tr>\n",
       "      <th>...</th>\n",
       "      <td>...</td>\n",
       "      <td>...</td>\n",
       "      <td>...</td>\n",
       "      <td>...</td>\n",
       "      <td>...</td>\n",
       "      <td>...</td>\n",
       "      <td>...</td>\n",
       "      <td>...</td>\n",
       "      <td>...</td>\n",
       "    </tr>\n",
       "    <tr>\n",
       "      <th>1635945</th>\n",
       "      <td>1707065</td>\n",
       "      <td>This is quite possibly the cutest kids book I\\...</td>\n",
       "      <td>0</td>\n",
       "      <td>1327795200</td>\n",
       "      <td>129503</td>\n",
       "      <td>evementen</td>\n",
       "      <td>NaN</td>\n",
       "      <td>Jan 292012</td>\n",
       "      <td>29587</td>\n",
       "    </tr>\n",
       "    <tr>\n",
       "      <th>1635946</th>\n",
       "      <td>1707066</td>\n",
       "      <td>This is a fairy tale which is very much a Cupi...</td>\n",
       "      <td>0</td>\n",
       "      <td>1364688000</td>\n",
       "      <td>11749693</td>\n",
       "      <td>AmyMacEvilly</td>\n",
       "      <td>5.0</td>\n",
       "      <td>Mar 312013</td>\n",
       "      <td>15112</td>\n",
       "    </tr>\n",
       "    <tr>\n",
       "      <th>1635947</th>\n",
       "      <td>1707067</td>\n",
       "      <td>http://tamaranth.blogspot.com/1994/03/guilty-p...</td>\n",
       "      <td>0</td>\n",
       "      <td>1176681600</td>\n",
       "      <td>4873693</td>\n",
       "      <td>tamaranth</td>\n",
       "      <td>4.5</td>\n",
       "      <td>Apr 162007</td>\n",
       "      <td>1153</td>\n",
       "    </tr>\n",
       "    <tr>\n",
       "      <th>1635948</th>\n",
       "      <td>1707068</td>\n",
       "      <td>Despus del extraordinario xito de Los ojos ama...</td>\n",
       "      <td>0</td>\n",
       "      <td>1321920000</td>\n",
       "      <td>9705446</td>\n",
       "      <td>bibliosa</td>\n",
       "      <td>NaN</td>\n",
       "      <td>Nov 222011</td>\n",
       "      <td>15</td>\n",
       "    </tr>\n",
       "    <tr>\n",
       "      <th>1635949</th>\n",
       "      <td>1707069</td>\n",
       "      <td>I originally met most of the diseases covered ...</td>\n",
       "      <td>3</td>\n",
       "      <td>1188518400</td>\n",
       "      <td>32396</td>\n",
       "      <td>jlelliott</td>\n",
       "      <td>4.0</td>\n",
       "      <td>Aug 312007</td>\n",
       "      <td>13718</td>\n",
       "    </tr>\n",
       "  </tbody>\n",
       "</table>\n",
       "<p>1635950 rows × 9 columns</p>\n",
       "</div>"
      ],
      "text/plain": [
       "         Unnamed: 0                                            comment  \\\n",
       "0                 0  Every eveningthe brave queen of PersiaShahraza...   \n",
       "1                 1  Its the 1983-84 school year and Edward Zanni o...   \n",
       "2                 2  I became privy to this bookwhen another author...   \n",
       "3                 3                                              .       \n",
       "4                 4  This is a tremendous story of a freed woman an...   \n",
       "...             ...                                                ...   \n",
       "1635945     1707065  This is quite possibly the cutest kids book I\\...   \n",
       "1635946     1707066  This is a fairy tale which is very much a Cupi...   \n",
       "1635947     1707067  http://tamaranth.blogspot.com/1994/03/guilty-p...   \n",
       "1635948     1707068  Despus del extraordinario xito de Los ojos ama...   \n",
       "1635949     1707069  I originally met most of the diseases covered ...   \n",
       "\n",
       "         nhelpful    unixtime      work              user  stars        time  \\\n",
       "0               0  1332288000     73960  Elizabeth.Wong98    4.5  Mar 212012   \n",
       "1               0  1253404800     69413            rivkat    3.0  Sep 202009   \n",
       "2               0  1299888000   9523995      suz.haugland    4.0  Mar 122011   \n",
       "3               0  1327276800    368228        amoskovacs    4.0  Jan 232012   \n",
       "4               0  1329004800  11243828            CandyH    4.0  Feb 122012   \n",
       "...           ...         ...       ...               ...    ...         ...   \n",
       "1635945         0  1327795200    129503         evementen    NaN  Jan 292012   \n",
       "1635946         0  1364688000  11749693      AmyMacEvilly    5.0  Mar 312013   \n",
       "1635947         0  1176681600   4873693         tamaranth    4.5  Apr 162007   \n",
       "1635948         0  1321920000   9705446          bibliosa    NaN  Nov 222011   \n",
       "1635949         3  1188518400     32396         jlelliott    4.0  Aug 312007   \n",
       "\n",
       "         user_id  \n",
       "0              0  \n",
       "1              1  \n",
       "2              2  \n",
       "3              3  \n",
       "4              4  \n",
       "...          ...  \n",
       "1635945    29587  \n",
       "1635946    15112  \n",
       "1635947     1153  \n",
       "1635948       15  \n",
       "1635949    13718  \n",
       "\n",
       "[1635950 rows x 9 columns]"
      ]
     },
     "execution_count": 2,
     "metadata": {},
     "output_type": "execute_result"
    }
   ],
   "source": [
    "reviews = pd.read_csv('cleaned_review.csv')\n",
    "reviews"
   ]
  },
  {
   "cell_type": "markdown",
   "id": "011e2ac2",
   "metadata": {},
   "source": [
    "---\n",
    "# 2. Pre- Processing and Feature Extraction\n",
    "---"
   ]
  },
  {
   "cell_type": "code",
   "execution_count": 22,
   "id": "e2e507e0",
   "metadata": {},
   "outputs": [
    {
     "data": {
      "text/html": [
       "<div>\n",
       "<style scoped>\n",
       "    .dataframe tbody tr th:only-of-type {\n",
       "        vertical-align: middle;\n",
       "    }\n",
       "\n",
       "    .dataframe tbody tr th {\n",
       "        vertical-align: top;\n",
       "    }\n",
       "\n",
       "    .dataframe thead th {\n",
       "        text-align: right;\n",
       "    }\n",
       "</style>\n",
       "<table border=\"1\" class=\"dataframe\">\n",
       "  <thead>\n",
       "    <tr style=\"text-align: right;\">\n",
       "      <th></th>\n",
       "      <th>reviews = {}</th>\n",
       "    </tr>\n",
       "  </thead>\n",
       "  <tbody>\n",
       "    <tr>\n",
       "      <th>0</th>\n",
       "      <td>reviews[('73960', 'Elizabeth.Wong98')] = {'com...</td>\n",
       "    </tr>\n",
       "    <tr>\n",
       "      <th>1</th>\n",
       "      <td>reviews[('69413', 'rivkat')] = {'comment': 'It...</td>\n",
       "    </tr>\n",
       "    <tr>\n",
       "      <th>2</th>\n",
       "      <td>reviews[('9523995', 'suz.haugland')] = {'comme...</td>\n",
       "    </tr>\n",
       "    <tr>\n",
       "      <th>3</th>\n",
       "      <td>reviews[('368228', 'amoskovacs')] = {'comment'...</td>\n",
       "    </tr>\n",
       "    <tr>\n",
       "      <th>4</th>\n",
       "      <td>reviews[('11243828', 'CandyH')] = {'comment': ...</td>\n",
       "    </tr>\n",
       "    <tr>\n",
       "      <th>...</th>\n",
       "      <td>...</td>\n",
       "    </tr>\n",
       "    <tr>\n",
       "      <th>1707065</th>\n",
       "      <td>reviews[('129503', 'evementen')] = {'comment':...</td>\n",
       "    </tr>\n",
       "    <tr>\n",
       "      <th>1707066</th>\n",
       "      <td>reviews[('11749693', 'AmyMacEvilly')] = {'comm...</td>\n",
       "    </tr>\n",
       "    <tr>\n",
       "      <th>1707067</th>\n",
       "      <td>reviews[('4873693', 'tamaranth')] = {'comment'...</td>\n",
       "    </tr>\n",
       "    <tr>\n",
       "      <th>1707068</th>\n",
       "      <td>reviews[('9705446', 'bibliosa')] = {'comment':...</td>\n",
       "    </tr>\n",
       "    <tr>\n",
       "      <th>1707069</th>\n",
       "      <td>reviews[('32396', 'jlelliott')] = {'comment': ...</td>\n",
       "    </tr>\n",
       "  </tbody>\n",
       "</table>\n",
       "<p>1707070 rows × 1 columns</p>\n",
       "</div>"
      ],
      "text/plain": [
       "                                              reviews = {}\n",
       "0        reviews[('73960', 'Elizabeth.Wong98')] = {'com...\n",
       "1        reviews[('69413', 'rivkat')] = {'comment': 'It...\n",
       "2        reviews[('9523995', 'suz.haugland')] = {'comme...\n",
       "3        reviews[('368228', 'amoskovacs')] = {'comment'...\n",
       "4        reviews[('11243828', 'CandyH')] = {'comment': ...\n",
       "...                                                    ...\n",
       "1707065  reviews[('129503', 'evementen')] = {'comment':...\n",
       "1707066  reviews[('11749693', 'AmyMacEvilly')] = {'comm...\n",
       "1707067  reviews[('4873693', 'tamaranth')] = {'comment'...\n",
       "1707068  reviews[('9705446', 'bibliosa')] = {'comment':...\n",
       "1707069  reviews[('32396', 'jlelliott')] = {'comment': ...\n",
       "\n",
       "[1707070 rows x 1 columns]"
      ]
     },
     "execution_count": 22,
     "metadata": {},
     "output_type": "execute_result"
    }
   ],
   "source": [
    "# Reading the txt file\n",
    "data = pd.read_csv('reviews.txt', delimiter='\\t')\n",
    "data"
   ]
  },
  {
   "cell_type": "code",
   "execution_count": 23,
   "id": "a7981608",
   "metadata": {},
   "outputs": [
    {
     "data": {
      "text/plain": [
       "0          None\n",
       "1          None\n",
       "2          None\n",
       "3          None\n",
       "4          None\n",
       "           ... \n",
       "1707065    None\n",
       "1707066    None\n",
       "1707067    None\n",
       "1707068    None\n",
       "1707069    None\n",
       "Name: cleaned_review, Length: 1707070, dtype: object"
      ]
     },
     "execution_count": 23,
     "metadata": {},
     "output_type": "execute_result"
    }
   ],
   "source": [
    "# Copying the data from reviews column to a new column named 'cleaned_review' and cleaning the reviews text\n",
    "\n",
    "data['cleaned_review'] = data['reviews = {}'].apply(lambda x: x.split(']', 1)[1][3:])\n",
    "\n",
    "rows = []\n",
    "bad_chars = ['{', '}', \"'\", '\"']\n",
    "features = ['comment', 'nhelpful', 'unixtime', 'work', 'flags', 'user', 'stars', 'time']\n",
    "int_value_features = ['nhelpful', 'unixtime', 'work']\n",
    "def preprocess_data(content):\n",
    "    prevs = ''\n",
    "    dict = {}\n",
    "    \n",
    "    split_val = content.split(',')\n",
    "    \n",
    "    for i in range(len(split_val)):\n",
    "        i_clean = ''.join(c for c in split_val[i] if not c in bad_chars)\n",
    "        vals = i_clean.split(':', 1)\n",
    "\n",
    "        vals = [val.lstrip() for val in vals]\n",
    "        \n",
    "        if len(vals) == 1:\n",
    "            dict[prevs] += vals[0]\n",
    "\n",
    "        else:\n",
    "            if not vals[0] in features:\n",
    "                dict[prevs] = dict.get(prevs, '') + vals[0]\n",
    "\n",
    "            else:\n",
    "                prevs = vals[0]\n",
    "                dict[prevs] = ''\n",
    "\n",
    "            dict[prevs] = dict.get(prevs, '') + vals[1]\n",
    "\n",
    "    rows.append(dict)\n",
    "\n",
    "data['cleaned_review'].apply(lambda x: preprocess_data(x))"
   ]
  },
  {
   "cell_type": "code",
   "execution_count": 24,
   "id": "8b67a19e",
   "metadata": {},
   "outputs": [
    {
     "data": {
      "text/html": [
       "<div>\n",
       "<style scoped>\n",
       "    .dataframe tbody tr th:only-of-type {\n",
       "        vertical-align: middle;\n",
       "    }\n",
       "\n",
       "    .dataframe tbody tr th {\n",
       "        vertical-align: top;\n",
       "    }\n",
       "\n",
       "    .dataframe thead th {\n",
       "        text-align: right;\n",
       "    }\n",
       "</style>\n",
       "<table border=\"1\" class=\"dataframe\">\n",
       "  <thead>\n",
       "    <tr style=\"text-align: right;\">\n",
       "      <th></th>\n",
       "      <th>comment</th>\n",
       "      <th>nhelpful</th>\n",
       "      <th>unixtime</th>\n",
       "      <th>work</th>\n",
       "      <th>flags</th>\n",
       "      <th>user</th>\n",
       "      <th>stars</th>\n",
       "      <th>time</th>\n",
       "      <th></th>\n",
       "    </tr>\n",
       "  </thead>\n",
       "  <tbody>\n",
       "    <tr>\n",
       "      <th>0</th>\n",
       "      <td>Every eveningthe brave queen of PersiaShahraza...</td>\n",
       "      <td>0</td>\n",
       "      <td>1332288000</td>\n",
       "      <td>73960</td>\n",
       "      <td>[]</td>\n",
       "      <td>Elizabeth.Wong98</td>\n",
       "      <td>4.5</td>\n",
       "      <td>Mar 212012</td>\n",
       "      <td>NaN</td>\n",
       "    </tr>\n",
       "    <tr>\n",
       "      <th>1</th>\n",
       "      <td>Its the 1983-84 school year and Edward Zanni o...</td>\n",
       "      <td>0</td>\n",
       "      <td>1253404800</td>\n",
       "      <td>69413</td>\n",
       "      <td>[]</td>\n",
       "      <td>rivkat</td>\n",
       "      <td>3.0</td>\n",
       "      <td>Sep 202009</td>\n",
       "      <td>NaN</td>\n",
       "    </tr>\n",
       "    <tr>\n",
       "      <th>2</th>\n",
       "      <td>I became privy to this bookwhen another author...</td>\n",
       "      <td>0</td>\n",
       "      <td>1299888000</td>\n",
       "      <td>9523995</td>\n",
       "      <td>[]</td>\n",
       "      <td>suz.haugland</td>\n",
       "      <td>4.0</td>\n",
       "      <td>Mar 122011</td>\n",
       "      <td>NaN</td>\n",
       "    </tr>\n",
       "    <tr>\n",
       "      <th>3</th>\n",
       "      <td>.</td>\n",
       "      <td>0</td>\n",
       "      <td>1327276800</td>\n",
       "      <td>368228</td>\n",
       "      <td>[]</td>\n",
       "      <td>amoskovacs</td>\n",
       "      <td>4.0</td>\n",
       "      <td>Jan 232012</td>\n",
       "      <td>NaN</td>\n",
       "    </tr>\n",
       "    <tr>\n",
       "      <th>4</th>\n",
       "      <td>This is a tremendous story of a freed woman an...</td>\n",
       "      <td>0</td>\n",
       "      <td>1329004800</td>\n",
       "      <td>11243828</td>\n",
       "      <td>[]</td>\n",
       "      <td>CandyH</td>\n",
       "      <td>4.0</td>\n",
       "      <td>Feb 122012</td>\n",
       "      <td>NaN</td>\n",
       "    </tr>\n",
       "    <tr>\n",
       "      <th>...</th>\n",
       "      <td>...</td>\n",
       "      <td>...</td>\n",
       "      <td>...</td>\n",
       "      <td>...</td>\n",
       "      <td>...</td>\n",
       "      <td>...</td>\n",
       "      <td>...</td>\n",
       "      <td>...</td>\n",
       "      <td>...</td>\n",
       "    </tr>\n",
       "    <tr>\n",
       "      <th>1707065</th>\n",
       "      <td>This is quite possibly the cutest kids book I\\...</td>\n",
       "      <td>0</td>\n",
       "      <td>1327795200</td>\n",
       "      <td>129503</td>\n",
       "      <td>[]</td>\n",
       "      <td>evementen</td>\n",
       "      <td>NaN</td>\n",
       "      <td>Jan 292012</td>\n",
       "      <td>NaN</td>\n",
       "    </tr>\n",
       "    <tr>\n",
       "      <th>1707066</th>\n",
       "      <td>This is a fairy tale which is very much a Cupi...</td>\n",
       "      <td>0</td>\n",
       "      <td>1364688000</td>\n",
       "      <td>11749693</td>\n",
       "      <td>[]</td>\n",
       "      <td>AmyMacEvilly</td>\n",
       "      <td>5.0</td>\n",
       "      <td>Mar 312013</td>\n",
       "      <td>NaN</td>\n",
       "    </tr>\n",
       "    <tr>\n",
       "      <th>1707067</th>\n",
       "      <td>http://tamaranth.blogspot.com/1994/03/guilty-p...</td>\n",
       "      <td>0</td>\n",
       "      <td>1176681600</td>\n",
       "      <td>4873693</td>\n",
       "      <td>[]</td>\n",
       "      <td>tamaranth</td>\n",
       "      <td>4.5</td>\n",
       "      <td>Apr 162007</td>\n",
       "      <td>NaN</td>\n",
       "    </tr>\n",
       "    <tr>\n",
       "      <th>1707068</th>\n",
       "      <td>Despus del extraordinario xito de Los ojos ama...</td>\n",
       "      <td>0</td>\n",
       "      <td>1321920000</td>\n",
       "      <td>9705446</td>\n",
       "      <td>[]</td>\n",
       "      <td>bibliosa</td>\n",
       "      <td>NaN</td>\n",
       "      <td>Nov 222011</td>\n",
       "      <td>NaN</td>\n",
       "    </tr>\n",
       "    <tr>\n",
       "      <th>1707069</th>\n",
       "      <td>I originally met most of the diseases covered ...</td>\n",
       "      <td>3</td>\n",
       "      <td>1188518400</td>\n",
       "      <td>32396</td>\n",
       "      <td>[]</td>\n",
       "      <td>jlelliott</td>\n",
       "      <td>4.0</td>\n",
       "      <td>Aug 312007</td>\n",
       "      <td>NaN</td>\n",
       "    </tr>\n",
       "  </tbody>\n",
       "</table>\n",
       "<p>1707070 rows × 9 columns</p>\n",
       "</div>"
      ],
      "text/plain": [
       "                                                   comment nhelpful  \\\n",
       "0        Every eveningthe brave queen of PersiaShahraza...        0   \n",
       "1        Its the 1983-84 school year and Edward Zanni o...        0   \n",
       "2        I became privy to this bookwhen another author...        0   \n",
       "3                                                    .            0   \n",
       "4        This is a tremendous story of a freed woman an...        0   \n",
       "...                                                    ...      ...   \n",
       "1707065  This is quite possibly the cutest kids book I\\...        0   \n",
       "1707066  This is a fairy tale which is very much a Cupi...        0   \n",
       "1707067  http://tamaranth.blogspot.com/1994/03/guilty-p...        0   \n",
       "1707068  Despus del extraordinario xito de Los ojos ama...        0   \n",
       "1707069  I originally met most of the diseases covered ...        3   \n",
       "\n",
       "           unixtime      work flags              user stars        time       \n",
       "0        1332288000     73960    []  Elizabeth.Wong98   4.5  Mar 212012  NaN  \n",
       "1        1253404800     69413    []            rivkat   3.0  Sep 202009  NaN  \n",
       "2        1299888000   9523995    []      suz.haugland   4.0  Mar 122011  NaN  \n",
       "3        1327276800    368228    []        amoskovacs   4.0  Jan 232012  NaN  \n",
       "4        1329004800  11243828    []            CandyH   4.0  Feb 122012  NaN  \n",
       "...             ...       ...   ...               ...   ...         ...  ...  \n",
       "1707065  1327795200    129503    []         evementen   NaN  Jan 292012  NaN  \n",
       "1707066  1364688000  11749693    []      AmyMacEvilly   5.0  Mar 312013  NaN  \n",
       "1707067  1176681600   4873693    []         tamaranth   4.5  Apr 162007  NaN  \n",
       "1707068  1321920000   9705446    []          bibliosa   NaN  Nov 222011  NaN  \n",
       "1707069  1188518400     32396    []         jlelliott   4.0  Aug 312007  NaN  \n",
       "\n",
       "[1707070 rows x 9 columns]"
      ]
     },
     "execution_count": 24,
     "metadata": {},
     "output_type": "execute_result"
    }
   ],
   "source": [
    "# Creating a DataFrame from the dictionary, 'columns' orient implies that keys are columns and values are lists of column data.\n",
    "reviews = pd.DataFrame.from_dict(rows, orient='columns')\n",
    "reviews "
   ]
  },
  {
   "cell_type": "code",
   "execution_count": 33,
   "id": "5c27658d",
   "metadata": {},
   "outputs": [
    {
     "data": {
      "text/html": [
       "<div>\n",
       "<style scoped>\n",
       "    .dataframe tbody tr th:only-of-type {\n",
       "        vertical-align: middle;\n",
       "    }\n",
       "\n",
       "    .dataframe tbody tr th {\n",
       "        vertical-align: top;\n",
       "    }\n",
       "\n",
       "    .dataframe thead th {\n",
       "        text-align: right;\n",
       "    }\n",
       "</style>\n",
       "<table border=\"1\" class=\"dataframe\">\n",
       "  <thead>\n",
       "    <tr style=\"text-align: right;\">\n",
       "      <th></th>\n",
       "      <th>comment</th>\n",
       "      <th>nhelpful</th>\n",
       "      <th>unixtime</th>\n",
       "      <th>work</th>\n",
       "      <th>user</th>\n",
       "      <th>stars</th>\n",
       "      <th>time</th>\n",
       "      <th></th>\n",
       "      <th>user_id</th>\n",
       "    </tr>\n",
       "  </thead>\n",
       "  <tbody>\n",
       "    <tr>\n",
       "      <th>0</th>\n",
       "      <td>Every eveningthe brave queen of PersiaShahraza...</td>\n",
       "      <td>0</td>\n",
       "      <td>1332288000</td>\n",
       "      <td>73960</td>\n",
       "      <td>Elizabeth.Wong98</td>\n",
       "      <td>4.5</td>\n",
       "      <td>Mar 212012</td>\n",
       "      <td>NaN</td>\n",
       "      <td>0</td>\n",
       "    </tr>\n",
       "    <tr>\n",
       "      <th>1</th>\n",
       "      <td>Its the 1983-84 school year and Edward Zanni o...</td>\n",
       "      <td>0</td>\n",
       "      <td>1253404800</td>\n",
       "      <td>69413</td>\n",
       "      <td>rivkat</td>\n",
       "      <td>3.0</td>\n",
       "      <td>Sep 202009</td>\n",
       "      <td>NaN</td>\n",
       "      <td>1</td>\n",
       "    </tr>\n",
       "    <tr>\n",
       "      <th>2</th>\n",
       "      <td>I became privy to this bookwhen another author...</td>\n",
       "      <td>0</td>\n",
       "      <td>1299888000</td>\n",
       "      <td>9523995</td>\n",
       "      <td>suz.haugland</td>\n",
       "      <td>4.0</td>\n",
       "      <td>Mar 122011</td>\n",
       "      <td>NaN</td>\n",
       "      <td>2</td>\n",
       "    </tr>\n",
       "    <tr>\n",
       "      <th>3</th>\n",
       "      <td>.</td>\n",
       "      <td>0</td>\n",
       "      <td>1327276800</td>\n",
       "      <td>368228</td>\n",
       "      <td>amoskovacs</td>\n",
       "      <td>4.0</td>\n",
       "      <td>Jan 232012</td>\n",
       "      <td>NaN</td>\n",
       "      <td>3</td>\n",
       "    </tr>\n",
       "    <tr>\n",
       "      <th>4</th>\n",
       "      <td>This is a tremendous story of a freed woman an...</td>\n",
       "      <td>0</td>\n",
       "      <td>1329004800</td>\n",
       "      <td>11243828</td>\n",
       "      <td>CandyH</td>\n",
       "      <td>4.0</td>\n",
       "      <td>Feb 122012</td>\n",
       "      <td>NaN</td>\n",
       "      <td>4</td>\n",
       "    </tr>\n",
       "    <tr>\n",
       "      <th>...</th>\n",
       "      <td>...</td>\n",
       "      <td>...</td>\n",
       "      <td>...</td>\n",
       "      <td>...</td>\n",
       "      <td>...</td>\n",
       "      <td>...</td>\n",
       "      <td>...</td>\n",
       "      <td>...</td>\n",
       "      <td>...</td>\n",
       "    </tr>\n",
       "    <tr>\n",
       "      <th>1707065</th>\n",
       "      <td>This is quite possibly the cutest kids book I\\...</td>\n",
       "      <td>0</td>\n",
       "      <td>1327795200</td>\n",
       "      <td>129503</td>\n",
       "      <td>evementen</td>\n",
       "      <td>NaN</td>\n",
       "      <td>Jan 292012</td>\n",
       "      <td>NaN</td>\n",
       "      <td>28814</td>\n",
       "    </tr>\n",
       "    <tr>\n",
       "      <th>1707066</th>\n",
       "      <td>This is a fairy tale which is very much a Cupi...</td>\n",
       "      <td>0</td>\n",
       "      <td>1364688000</td>\n",
       "      <td>11749693</td>\n",
       "      <td>AmyMacEvilly</td>\n",
       "      <td>5.0</td>\n",
       "      <td>Mar 312013</td>\n",
       "      <td>NaN</td>\n",
       "      <td>14706</td>\n",
       "    </tr>\n",
       "    <tr>\n",
       "      <th>1707067</th>\n",
       "      <td>http://tamaranth.blogspot.com/1994/03/guilty-p...</td>\n",
       "      <td>0</td>\n",
       "      <td>1176681600</td>\n",
       "      <td>4873693</td>\n",
       "      <td>tamaranth</td>\n",
       "      <td>4.5</td>\n",
       "      <td>Apr 162007</td>\n",
       "      <td>NaN</td>\n",
       "      <td>1114</td>\n",
       "    </tr>\n",
       "    <tr>\n",
       "      <th>1707068</th>\n",
       "      <td>Despus del extraordinario xito de Los ojos ama...</td>\n",
       "      <td>0</td>\n",
       "      <td>1321920000</td>\n",
       "      <td>9705446</td>\n",
       "      <td>bibliosa</td>\n",
       "      <td>NaN</td>\n",
       "      <td>Nov 222011</td>\n",
       "      <td>NaN</td>\n",
       "      <td>15</td>\n",
       "    </tr>\n",
       "    <tr>\n",
       "      <th>1707069</th>\n",
       "      <td>I originally met most of the diseases covered ...</td>\n",
       "      <td>3</td>\n",
       "      <td>1188518400</td>\n",
       "      <td>32396</td>\n",
       "      <td>jlelliott</td>\n",
       "      <td>4.0</td>\n",
       "      <td>Aug 312007</td>\n",
       "      <td>NaN</td>\n",
       "      <td>13330</td>\n",
       "    </tr>\n",
       "  </tbody>\n",
       "</table>\n",
       "<p>1635950 rows × 9 columns</p>\n",
       "</div>"
      ],
      "text/plain": [
       "                                                   comment nhelpful  \\\n",
       "0        Every eveningthe brave queen of PersiaShahraza...        0   \n",
       "1        Its the 1983-84 school year and Edward Zanni o...        0   \n",
       "2        I became privy to this bookwhen another author...        0   \n",
       "3                                                    .            0   \n",
       "4        This is a tremendous story of a freed woman an...        0   \n",
       "...                                                    ...      ...   \n",
       "1707065  This is quite possibly the cutest kids book I\\...        0   \n",
       "1707066  This is a fairy tale which is very much a Cupi...        0   \n",
       "1707067  http://tamaranth.blogspot.com/1994/03/guilty-p...        0   \n",
       "1707068  Despus del extraordinario xito de Los ojos ama...        0   \n",
       "1707069  I originally met most of the diseases covered ...        3   \n",
       "\n",
       "           unixtime      work              user stars        time       \\\n",
       "0        1332288000     73960  Elizabeth.Wong98   4.5  Mar 212012  NaN   \n",
       "1        1253404800     69413            rivkat   3.0  Sep 202009  NaN   \n",
       "2        1299888000   9523995      suz.haugland   4.0  Mar 122011  NaN   \n",
       "3        1327276800    368228        amoskovacs   4.0  Jan 232012  NaN   \n",
       "4        1329004800  11243828            CandyH   4.0  Feb 122012  NaN   \n",
       "...             ...       ...               ...   ...         ...  ...   \n",
       "1707065  1327795200    129503         evementen   NaN  Jan 292012  NaN   \n",
       "1707066  1364688000  11749693      AmyMacEvilly   5.0  Mar 312013  NaN   \n",
       "1707067  1176681600   4873693         tamaranth   4.5  Apr 162007  NaN   \n",
       "1707068  1321920000   9705446          bibliosa   NaN  Nov 222011  NaN   \n",
       "1707069  1188518400     32396         jlelliott   4.0  Aug 312007  NaN   \n",
       "\n",
       "         user_id  \n",
       "0              0  \n",
       "1              1  \n",
       "2              2  \n",
       "3              3  \n",
       "4              4  \n",
       "...          ...  \n",
       "1707065    28814  \n",
       "1707066    14706  \n",
       "1707067     1114  \n",
       "1707068       15  \n",
       "1707069    13330  \n",
       "\n",
       "[1635950 rows x 9 columns]"
      ]
     },
     "execution_count": 33,
     "metadata": {},
     "output_type": "execute_result"
    }
   ],
   "source": [
    "# Assigning unique user-ids to the users\n",
    "\n",
    "user_id_dict = {}\n",
    "cnt = 0\n",
    "def set_user_id(user):\n",
    "    global cnt\n",
    "    if not user in user_id_dict:\n",
    "        user_id_dict[user] = cnt\n",
    "        cnt += 1\n",
    "\n",
    "    return user_id_dict[user]\n",
    "\n",
    "reviews['user_id'] = reviews['user'].apply(lambda x: set_user_id(x))\n",
    "reviews"
   ]
  },
  {
   "cell_type": "code",
   "execution_count": 28,
   "id": "86b9edb6",
   "metadata": {},
   "outputs": [],
   "source": [
    "# Dropping the 'flags' column from the dataFrame\n",
    "reviews = reviews.drop(['flags'], axis=1)\n",
    "reviews"
   ]
  },
  {
   "cell_type": "code",
   "execution_count": 31,
   "id": "f744cd5e",
   "metadata": {},
   "outputs": [],
   "source": [
    "# Saving the dataFrame to a CSV file\n",
    "reviews.to_csv('../data/cleaned_review.csv')"
   ]
  },
  {
   "cell_type": "code",
   "execution_count": 4,
   "id": "904941f9",
   "metadata": {},
   "outputs": [
    {
     "data": {
      "text/plain": [
       "Unnamed: 0         0\n",
       "comment          817\n",
       "nhelpful           0\n",
       "unixtime           0\n",
       "work               0\n",
       "user              87\n",
       "stars         272458\n",
       "time               0\n",
       "user_id            0\n",
       "dtype: int64"
      ]
     },
     "execution_count": 4,
     "metadata": {},
     "output_type": "execute_result"
    }
   ],
   "source": [
    "# Checking for missing values in the DataFrame.\n",
    "reviews.isnull().sum()"
   ]
  },
  {
   "cell_type": "markdown",
   "id": "01e35061",
   "metadata": {},
   "source": [
    "> Findings\n",
    "> - Comments for 817 reviews are not available.\n",
    "> - User names for 87 reviews are not available.\n",
    "> - Stars for 272,458 reviews are not available.\n",
    "\n",
    "> Let's remove reviews with missing information about stars\n"
   ]
  },
  {
   "cell_type": "code",
   "execution_count": 5,
   "id": "f521c214",
   "metadata": {},
   "outputs": [],
   "source": [
    "# Drops the rows(reviews) where the 'stars' column has missing values\n",
    "reviews = reviews.dropna(subset=['stars'])"
   ]
  },
  {
   "cell_type": "markdown",
   "id": "67c1924f",
   "metadata": {},
   "source": [
    "---\n",
    "# 3. Exploratary Data Analysis to understand the data\n",
    "---"
   ]
  },
  {
   "cell_type": "code",
   "execution_count": 5,
   "id": "a871aa79",
   "metadata": {},
   "outputs": [
    {
     "data": {
      "text/plain": [
       "(1635950, 9)"
      ]
     },
     "execution_count": 5,
     "metadata": {},
     "output_type": "execute_result"
    }
   ],
   "source": [
    "reviews.shape"
   ]
  },
  {
   "cell_type": "markdown",
   "id": "62b56eef",
   "metadata": {},
   "source": [
    "- This indicates that the DataFrame contains information about 1635950 reviews (rows) and 9 attributes of each review (columns)."
   ]
  },
  {
   "cell_type": "code",
   "execution_count": 6,
   "id": "7dc69636",
   "metadata": {},
   "outputs": [
    {
     "data": {
      "text/plain": [
       "Index(['Unnamed: 0', 'comment', 'nhelpful', 'unixtime', 'work', 'user',\n",
       "       'stars', 'time', 'user_id'],\n",
       "      dtype='object')"
      ]
     },
     "execution_count": 6,
     "metadata": {},
     "output_type": "execute_result"
    }
   ],
   "source": [
    "# Provides the list of column names\n",
    "reviews.columns"
   ]
  },
  {
   "cell_type": "code",
   "execution_count": 9,
   "id": "e52b8e43",
   "metadata": {},
   "outputs": [
    {
     "name": "stdout",
     "output_type": "stream",
     "text": [
      "Number of books =  482300\n"
     ]
    }
   ],
   "source": [
    "# Extracts number of unique books\n",
    "unique_books = reviews['work'].unique() \n",
    "print(\"Number of books = \" ,len(unique_books))"
   ]
  },
  {
   "cell_type": "code",
   "execution_count": 10,
   "id": "ec442e2d",
   "metadata": {},
   "outputs": [
    {
     "name": "stdout",
     "output_type": "stream",
     "text": [
      "Number of users =  81256\n"
     ]
    }
   ],
   "source": [
    "# Extracts number of unique users\n",
    "unique_users = reviews['user'].unique() \n",
    "print(\"Number of users = \" ,len(unique_users))"
   ]
  },
  {
   "cell_type": "code",
   "execution_count": 53,
   "id": "e6fcd508",
   "metadata": {},
   "outputs": [
    {
     "data": {
      "image/png": "[encoded data removed]",
      "text/plain": [
       "<Figure size 1000x600 with 1 Axes>"
      ]
     },
     "metadata": {},
     "output_type": "display_data"
    }
   ],
   "source": [
    "# Plot showing distribution of stars\n",
    "plt.figure(figsize=(10, 6))\n",
    "sns.kdeplot(reviews['stars'], shade=True)\n",
    "plt.xlabel('Stars')\n",
    "plt.ylabel('Density')\n",
    "plt.title('Distribution of ratings')\n",
    "plt.show()"
   ]
  },
  {
   "cell_type": "markdown",
   "id": "eaa81573",
   "metadata": {},
   "source": [
    "Findings:\n",
    "- Most data points cluster around higher star ratings (around 4 stars). This suggests that many products receive positive ratings."
   ]
  },
  {
   "cell_type": "code",
   "execution_count": 55,
   "id": "2675b127",
   "metadata": {
    "scrolled": false
   },
   "outputs": [
    {
     "data": {
      "image/png": "[encoded data removed]",
      "text/plain": [
       "<Figure size 1000x600 with 1 Axes>"
      ]
     },
     "metadata": {},
     "output_type": "display_data"
    }
   ],
   "source": [
    "# Scatter plot to show the relationship between average number of ratings for a particular book\n",
    "# with respect to the total number of ratings for that book\n",
    "\n",
    "work_stats = reviews.groupby('work').agg({'stars': ['mean', 'count']}).reset_index()\n",
    "work_stats.columns = ['work', 'avg_star', 'num_reviews']\n",
    "\n",
    "plt.figure(figsize=(10, 6))\n",
    "plt.scatter(work_stats['avg_star'], work_stats['num_reviews'], alpha=0.5, color='green')\n",
    "plt.title('Relation between average rating of books and its total number of ratings')\n",
    "plt.xlabel('Average ratings')\n",
    "plt.ylabel('Number of Reviews')\n",
    "plt.grid(True)\n",
    "plt.show()"
   ]
  },
  {
   "cell_type": "markdown",
   "id": "16c71150",
   "metadata": {},
   "source": [
    "Findings:\n",
    "- There is not much linear relationship between average star rating and the number of reviews. Some highly rated products have a low number of reviews, while others with similar ratings have more reviews."
   ]
  },
  {
   "cell_type": "code",
   "execution_count": 35,
   "id": "16353a39",
   "metadata": {
    "scrolled": false
   },
   "outputs": [
    {
     "data": {
      "image/png": "[encoded data removed]",
      "text/plain": [
       "<Figure size 600x400 with 2 Axes>"
      ]
     },
     "metadata": {},
     "output_type": "display_data"
    }
   ],
   "source": [
    "# Correlation Heatmap\n",
    "plt.figure(figsize=(6, 4))\n",
    "sns.heatmap(reviews[['stars', 'nhelpful']].corr(), annot=True, cmap='Blues')\n",
    "plt.title('Correlation Heatmap')\n",
    "plt.show()"
   ]
  },
  {
   "cell_type": "markdown",
   "id": "e1791ca6",
   "metadata": {},
   "source": [
    "---\n",
    "# 4. Webscrapping to get names of the book\n",
    "---"
   ]
  },
  {
   "cell_type": "code",
   "execution_count": 56,
   "id": "215231b0",
   "metadata": {},
   "outputs": [],
   "source": [
    "def get_book_name(work_id):\n",
    "    work_id = str(work_id)\n",
    "    url = f'https://www.librarything.com/work/{work_id}'\n",
    "    response = requests.get(url)\n",
    "    if response.status_code == 200:\n",
    "        soup = BeautifulSoup(response.text, 'html.parser')\n",
    "        # Extract the book name from the webpage\n",
    "        book_name_tag = soup.head.title\n",
    "        if book_name_tag:\n",
    "            book_name = book_name_tag.text.strip()\n",
    "            return book_name[:-15]\n",
    "        else:\n",
    "            return f\"Book name not found for work ID {work_id}\"\n",
    "\n",
    "    else:\n",
    "        return f\"Failed to retrieve information for work ID {work_id}. Status code: {response.status_code}\""
   ]
  },
  {
   "cell_type": "markdown",
   "id": "c6bbe2f4",
   "metadata": {},
   "source": [
    "---\n",
    "# 5. User - User Collabrative Filtering\n",
    "---"
   ]
  },
  {
   "cell_type": "code",
   "execution_count": 57,
   "id": "12225341",
   "metadata": {},
   "outputs": [],
   "source": [
    "# result_df = pd.read_parquet('result_df.parquet') \n",
    "# normalized_ratings_matrix = pd.read_parquet('normalized_ratings_matrix.parquet')\n",
    "# similarity_matrix = pd.read_parquet('similarity_matrix.parquet')\n",
    "# result_df_i = pd.read_parquet('result_df_i-i.parquet')\n",
    "# normalized_ratings_matrix_i = pd.read_parquet('normalized_ratings_matrix_i-i.parquet')\n",
    "# similarity_matrix_i = pd.read_parquet('similarity_matrix_i-i.parquet')"
   ]
  },
  {
   "cell_type": "markdown",
   "id": "38356221",
   "metadata": {},
   "source": [
    "> Printing the average reviews provided by each user in order to remove some users, considering that the size of the data set is too large to process."
   ]
  },
  {
   "cell_type": "code",
   "execution_count": 57,
   "id": "f08cc420",
   "metadata": {},
   "outputs": [
    {
     "name": "stdout",
     "output_type": "stream",
     "text": [
      "19.580784144765186\n"
     ]
    }
   ],
   "source": [
    "print(reviews.groupby('user').size().mean())"
   ]
  },
  {
   "cell_type": "code",
   "execution_count": 58,
   "id": "a69ed5c7",
   "metadata": {},
   "outputs": [
    {
     "data": {
      "text/plain": [
       "12076"
      ]
     },
     "execution_count": 58,
     "metadata": {},
     "output_type": "execute_result"
    }
   ],
   "source": [
    "min_reviews_threshold = 20\n",
    "user_review_counts = reviews.groupby('user_id').size()\n",
    "valid_users = list(set(user_review_counts[user_review_counts >= min_reviews_threshold].index))\n",
    "len(valid_users)"
   ]
  },
  {
   "cell_type": "markdown",
   "id": "cb4e32a9",
   "metadata": {},
   "source": [
    "> Removing the book_ids(works) that have an below-average number of reviews, considering that the size of the data set is too large to process."
   ]
  },
  {
   "cell_type": "code",
   "execution_count": 56,
   "id": "597e7de9",
   "metadata": {},
   "outputs": [
    {
     "data": {
      "text/plain": [
       "63681"
      ]
     },
     "execution_count": 56,
     "metadata": {},
     "output_type": "execute_result"
    }
   ],
   "source": [
    "min_reviews_threshold = reviews.groupby('work').size().mean()\n",
    "user_review_counts = reviews.groupby('work').size()\n",
    "valid_work = list(set(user_review_counts[user_review_counts >= min_reviews_threshold].index))\n",
    "len(valid_work)"
   ]
  },
  {
   "cell_type": "markdown",
   "id": "e0836359",
   "metadata": {},
   "source": [
    "> Creating new dataframe with filtered users and book_ids(work)"
   ]
  },
  {
   "cell_type": "code",
   "execution_count": 61,
   "id": "e537b3b7",
   "metadata": {},
   "outputs": [],
   "source": [
    "filtered_df = reviews[reviews.user_id.isin(valid_users)]\n",
    "filtered_df = filtered_df[filtered_df.work.isin(valid_work)]"
   ]
  },
  {
   "cell_type": "code",
   "execution_count": 66,
   "id": "fa15385f",
   "metadata": {},
   "outputs": [],
   "source": [
    "# User-Item matrix\n",
    "result_df = pd.pivot_table(filtered_df, values='stars', index='user_id', columns='work', aggfunc='mean')"
   ]
  },
  {
   "cell_type": "code",
   "execution_count": 15,
   "id": "e8ff4adb",
   "metadata": {
    "scrolled": false
   },
   "outputs": [
    {
     "data": {
      "text/html": [
       "<div>\n",
       "<style scoped>\n",
       "    .dataframe tbody tr th:only-of-type {\n",
       "        vertical-align: middle;\n",
       "    }\n",
       "\n",
       "    .dataframe tbody tr th {\n",
       "        vertical-align: top;\n",
       "    }\n",
       "\n",
       "    .dataframe thead th {\n",
       "        text-align: right;\n",
       "    }\n",
       "</style>\n",
       "<table border=\"1\" class=\"dataframe\">\n",
       "  <thead>\n",
       "    <tr style=\"text-align: right;\">\n",
       "      <th>work</th>\n",
       "      <th>17</th>\n",
       "      <th>26</th>\n",
       "      <th>39</th>\n",
       "      <th>42</th>\n",
       "      <th>93</th>\n",
       "      <th>95</th>\n",
       "      <th>97</th>\n",
       "      <th>98</th>\n",
       "      <th>102</th>\n",
       "      <th>107</th>\n",
       "      <th>...</th>\n",
       "      <th>14135445</th>\n",
       "      <th>14139624</th>\n",
       "      <th>14143332</th>\n",
       "      <th>14145440</th>\n",
       "      <th>14150364</th>\n",
       "      <th>14150628</th>\n",
       "      <th>14151863</th>\n",
       "      <th>14171927</th>\n",
       "      <th>14183985</th>\n",
       "      <th>14184045</th>\n",
       "    </tr>\n",
       "    <tr>\n",
       "      <th>user_id</th>\n",
       "      <th></th>\n",
       "      <th></th>\n",
       "      <th></th>\n",
       "      <th></th>\n",
       "      <th></th>\n",
       "      <th></th>\n",
       "      <th></th>\n",
       "      <th></th>\n",
       "      <th></th>\n",
       "      <th></th>\n",
       "      <th></th>\n",
       "      <th></th>\n",
       "      <th></th>\n",
       "      <th></th>\n",
       "      <th></th>\n",
       "      <th></th>\n",
       "      <th></th>\n",
       "      <th></th>\n",
       "      <th></th>\n",
       "      <th></th>\n",
       "      <th></th>\n",
       "    </tr>\n",
       "  </thead>\n",
       "  <tbody>\n",
       "    <tr>\n",
       "      <th>0</th>\n",
       "      <td>NaN</td>\n",
       "      <td>NaN</td>\n",
       "      <td>NaN</td>\n",
       "      <td>NaN</td>\n",
       "      <td>NaN</td>\n",
       "      <td>NaN</td>\n",
       "      <td>NaN</td>\n",
       "      <td>NaN</td>\n",
       "      <td>NaN</td>\n",
       "      <td>NaN</td>\n",
       "      <td>...</td>\n",
       "      <td>NaN</td>\n",
       "      <td>NaN</td>\n",
       "      <td>NaN</td>\n",
       "      <td>NaN</td>\n",
       "      <td>NaN</td>\n",
       "      <td>NaN</td>\n",
       "      <td>NaN</td>\n",
       "      <td>NaN</td>\n",
       "      <td>NaN</td>\n",
       "      <td>NaN</td>\n",
       "    </tr>\n",
       "    <tr>\n",
       "      <th>1</th>\n",
       "      <td>NaN</td>\n",
       "      <td>NaN</td>\n",
       "      <td>NaN</td>\n",
       "      <td>NaN</td>\n",
       "      <td>NaN</td>\n",
       "      <td>NaN</td>\n",
       "      <td>NaN</td>\n",
       "      <td>NaN</td>\n",
       "      <td>NaN</td>\n",
       "      <td>NaN</td>\n",
       "      <td>...</td>\n",
       "      <td>NaN</td>\n",
       "      <td>NaN</td>\n",
       "      <td>NaN</td>\n",
       "      <td>NaN</td>\n",
       "      <td>NaN</td>\n",
       "      <td>NaN</td>\n",
       "      <td>NaN</td>\n",
       "      <td>NaN</td>\n",
       "      <td>NaN</td>\n",
       "      <td>NaN</td>\n",
       "    </tr>\n",
       "    <tr>\n",
       "      <th>2</th>\n",
       "      <td>NaN</td>\n",
       "      <td>NaN</td>\n",
       "      <td>NaN</td>\n",
       "      <td>NaN</td>\n",
       "      <td>NaN</td>\n",
       "      <td>NaN</td>\n",
       "      <td>NaN</td>\n",
       "      <td>NaN</td>\n",
       "      <td>NaN</td>\n",
       "      <td>NaN</td>\n",
       "      <td>...</td>\n",
       "      <td>NaN</td>\n",
       "      <td>NaN</td>\n",
       "      <td>NaN</td>\n",
       "      <td>NaN</td>\n",
       "      <td>NaN</td>\n",
       "      <td>NaN</td>\n",
       "      <td>NaN</td>\n",
       "      <td>NaN</td>\n",
       "      <td>NaN</td>\n",
       "      <td>NaN</td>\n",
       "    </tr>\n",
       "    <tr>\n",
       "      <th>3</th>\n",
       "      <td>NaN</td>\n",
       "      <td>NaN</td>\n",
       "      <td>NaN</td>\n",
       "      <td>NaN</td>\n",
       "      <td>NaN</td>\n",
       "      <td>NaN</td>\n",
       "      <td>NaN</td>\n",
       "      <td>NaN</td>\n",
       "      <td>NaN</td>\n",
       "      <td>NaN</td>\n",
       "      <td>...</td>\n",
       "      <td>NaN</td>\n",
       "      <td>NaN</td>\n",
       "      <td>NaN</td>\n",
       "      <td>NaN</td>\n",
       "      <td>NaN</td>\n",
       "      <td>NaN</td>\n",
       "      <td>NaN</td>\n",
       "      <td>NaN</td>\n",
       "      <td>NaN</td>\n",
       "      <td>NaN</td>\n",
       "    </tr>\n",
       "    <tr>\n",
       "      <th>4</th>\n",
       "      <td>NaN</td>\n",
       "      <td>NaN</td>\n",
       "      <td>NaN</td>\n",
       "      <td>NaN</td>\n",
       "      <td>NaN</td>\n",
       "      <td>NaN</td>\n",
       "      <td>NaN</td>\n",
       "      <td>NaN</td>\n",
       "      <td>NaN</td>\n",
       "      <td>NaN</td>\n",
       "      <td>...</td>\n",
       "      <td>NaN</td>\n",
       "      <td>NaN</td>\n",
       "      <td>NaN</td>\n",
       "      <td>NaN</td>\n",
       "      <td>NaN</td>\n",
       "      <td>NaN</td>\n",
       "      <td>NaN</td>\n",
       "      <td>NaN</td>\n",
       "      <td>NaN</td>\n",
       "      <td>NaN</td>\n",
       "    </tr>\n",
       "    <tr>\n",
       "      <th>...</th>\n",
       "      <td>...</td>\n",
       "      <td>...</td>\n",
       "      <td>...</td>\n",
       "      <td>...</td>\n",
       "      <td>...</td>\n",
       "      <td>...</td>\n",
       "      <td>...</td>\n",
       "      <td>...</td>\n",
       "      <td>...</td>\n",
       "      <td>...</td>\n",
       "      <td>...</td>\n",
       "      <td>...</td>\n",
       "      <td>...</td>\n",
       "      <td>...</td>\n",
       "      <td>...</td>\n",
       "      <td>...</td>\n",
       "      <td>...</td>\n",
       "      <td>...</td>\n",
       "      <td>...</td>\n",
       "      <td>...</td>\n",
       "      <td>...</td>\n",
       "    </tr>\n",
       "    <tr>\n",
       "      <th>49671</th>\n",
       "      <td>NaN</td>\n",
       "      <td>NaN</td>\n",
       "      <td>NaN</td>\n",
       "      <td>NaN</td>\n",
       "      <td>NaN</td>\n",
       "      <td>NaN</td>\n",
       "      <td>NaN</td>\n",
       "      <td>NaN</td>\n",
       "      <td>NaN</td>\n",
       "      <td>NaN</td>\n",
       "      <td>...</td>\n",
       "      <td>NaN</td>\n",
       "      <td>NaN</td>\n",
       "      <td>NaN</td>\n",
       "      <td>NaN</td>\n",
       "      <td>NaN</td>\n",
       "      <td>NaN</td>\n",
       "      <td>NaN</td>\n",
       "      <td>NaN</td>\n",
       "      <td>NaN</td>\n",
       "      <td>NaN</td>\n",
       "    </tr>\n",
       "    <tr>\n",
       "      <th>49832</th>\n",
       "      <td>NaN</td>\n",
       "      <td>NaN</td>\n",
       "      <td>NaN</td>\n",
       "      <td>NaN</td>\n",
       "      <td>NaN</td>\n",
       "      <td>NaN</td>\n",
       "      <td>NaN</td>\n",
       "      <td>NaN</td>\n",
       "      <td>NaN</td>\n",
       "      <td>NaN</td>\n",
       "      <td>...</td>\n",
       "      <td>NaN</td>\n",
       "      <td>NaN</td>\n",
       "      <td>NaN</td>\n",
       "      <td>NaN</td>\n",
       "      <td>NaN</td>\n",
       "      <td>NaN</td>\n",
       "      <td>NaN</td>\n",
       "      <td>NaN</td>\n",
       "      <td>NaN</td>\n",
       "      <td>NaN</td>\n",
       "    </tr>\n",
       "    <tr>\n",
       "      <th>50517</th>\n",
       "      <td>NaN</td>\n",
       "      <td>NaN</td>\n",
       "      <td>NaN</td>\n",
       "      <td>NaN</td>\n",
       "      <td>NaN</td>\n",
       "      <td>NaN</td>\n",
       "      <td>NaN</td>\n",
       "      <td>NaN</td>\n",
       "      <td>NaN</td>\n",
       "      <td>NaN</td>\n",
       "      <td>...</td>\n",
       "      <td>NaN</td>\n",
       "      <td>NaN</td>\n",
       "      <td>NaN</td>\n",
       "      <td>NaN</td>\n",
       "      <td>NaN</td>\n",
       "      <td>NaN</td>\n",
       "      <td>NaN</td>\n",
       "      <td>NaN</td>\n",
       "      <td>NaN</td>\n",
       "      <td>NaN</td>\n",
       "    </tr>\n",
       "    <tr>\n",
       "      <th>53295</th>\n",
       "      <td>NaN</td>\n",
       "      <td>NaN</td>\n",
       "      <td>NaN</td>\n",
       "      <td>NaN</td>\n",
       "      <td>NaN</td>\n",
       "      <td>NaN</td>\n",
       "      <td>NaN</td>\n",
       "      <td>NaN</td>\n",
       "      <td>NaN</td>\n",
       "      <td>NaN</td>\n",
       "      <td>...</td>\n",
       "      <td>NaN</td>\n",
       "      <td>NaN</td>\n",
       "      <td>NaN</td>\n",
       "      <td>NaN</td>\n",
       "      <td>NaN</td>\n",
       "      <td>NaN</td>\n",
       "      <td>NaN</td>\n",
       "      <td>NaN</td>\n",
       "      <td>NaN</td>\n",
       "      <td>NaN</td>\n",
       "    </tr>\n",
       "    <tr>\n",
       "      <th>54331</th>\n",
       "      <td>NaN</td>\n",
       "      <td>NaN</td>\n",
       "      <td>NaN</td>\n",
       "      <td>NaN</td>\n",
       "      <td>NaN</td>\n",
       "      <td>NaN</td>\n",
       "      <td>NaN</td>\n",
       "      <td>NaN</td>\n",
       "      <td>NaN</td>\n",
       "      <td>NaN</td>\n",
       "      <td>...</td>\n",
       "      <td>NaN</td>\n",
       "      <td>NaN</td>\n",
       "      <td>NaN</td>\n",
       "      <td>NaN</td>\n",
       "      <td>NaN</td>\n",
       "      <td>NaN</td>\n",
       "      <td>NaN</td>\n",
       "      <td>NaN</td>\n",
       "      <td>NaN</td>\n",
       "      <td>NaN</td>\n",
       "    </tr>\n",
       "  </tbody>\n",
       "</table>\n",
       "<p>12028 rows × 63593 columns</p>\n",
       "</div>"
      ],
      "text/plain": [
       "work     17        26        39        42        93        95        97        \\\n",
       "user_id                                                                         \n",
       "0             NaN       NaN       NaN       NaN       NaN       NaN       NaN   \n",
       "1             NaN       NaN       NaN       NaN       NaN       NaN       NaN   \n",
       "2             NaN       NaN       NaN       NaN       NaN       NaN       NaN   \n",
       "3             NaN       NaN       NaN       NaN       NaN       NaN       NaN   \n",
       "4             NaN       NaN       NaN       NaN       NaN       NaN       NaN   \n",
       "...           ...       ...       ...       ...       ...       ...       ...   \n",
       "49671         NaN       NaN       NaN       NaN       NaN       NaN       NaN   \n",
       "49832         NaN       NaN       NaN       NaN       NaN       NaN       NaN   \n",
       "50517         NaN       NaN       NaN       NaN       NaN       NaN       NaN   \n",
       "53295         NaN       NaN       NaN       NaN       NaN       NaN       NaN   \n",
       "54331         NaN       NaN       NaN       NaN       NaN       NaN       NaN   \n",
       "\n",
       "work     98        102       107       ...  14135445  14139624  14143332  \\\n",
       "user_id                                ...                                 \n",
       "0             NaN       NaN       NaN  ...       NaN       NaN       NaN   \n",
       "1             NaN       NaN       NaN  ...       NaN       NaN       NaN   \n",
       "2             NaN       NaN       NaN  ...       NaN       NaN       NaN   \n",
       "3             NaN       NaN       NaN  ...       NaN       NaN       NaN   \n",
       "4             NaN       NaN       NaN  ...       NaN       NaN       NaN   \n",
       "...           ...       ...       ...  ...       ...       ...       ...   \n",
       "49671         NaN       NaN       NaN  ...       NaN       NaN       NaN   \n",
       "49832         NaN       NaN       NaN  ...       NaN       NaN       NaN   \n",
       "50517         NaN       NaN       NaN  ...       NaN       NaN       NaN   \n",
       "53295         NaN       NaN       NaN  ...       NaN       NaN       NaN   \n",
       "54331         NaN       NaN       NaN  ...       NaN       NaN       NaN   \n",
       "\n",
       "work     14145440  14150364  14150628  14151863  14171927  14183985  14184045  \n",
       "user_id                                                                        \n",
       "0             NaN       NaN       NaN       NaN       NaN       NaN       NaN  \n",
       "1             NaN       NaN       NaN       NaN       NaN       NaN       NaN  \n",
       "2             NaN       NaN       NaN       NaN       NaN       NaN       NaN  \n",
       "3             NaN       NaN       NaN       NaN       NaN       NaN       NaN  \n",
       "4             NaN       NaN       NaN       NaN       NaN       NaN       NaN  \n",
       "...           ...       ...       ...       ...       ...       ...       ...  \n",
       "49671         NaN       NaN       NaN       NaN       NaN       NaN       NaN  \n",
       "49832         NaN       NaN       NaN       NaN       NaN       NaN       NaN  \n",
       "50517         NaN       NaN       NaN       NaN       NaN       NaN       NaN  \n",
       "53295         NaN       NaN       NaN       NaN       NaN       NaN       NaN  \n",
       "54331         NaN       NaN       NaN       NaN       NaN       NaN       NaN  \n",
       "\n",
       "[12028 rows x 63593 columns]"
      ]
     },
     "execution_count": 15,
     "metadata": {},
     "output_type": "execute_result"
    }
   ],
   "source": [
    "result_df"
   ]
  },
  {
   "cell_type": "markdown",
   "id": "e4c132ba",
   "metadata": {},
   "source": [
    "- This is the user-item matrix with 12028 user and 63593 items."
   ]
  },
  {
   "cell_type": "code",
   "execution_count": 26,
   "id": "eb601eee",
   "metadata": {},
   "outputs": [
    {
     "data": {
      "text/html": [
       "<div>\n",
       "<style scoped>\n",
       "    .dataframe tbody tr th:only-of-type {\n",
       "        vertical-align: middle;\n",
       "    }\n",
       "\n",
       "    .dataframe tbody tr th {\n",
       "        vertical-align: top;\n",
       "    }\n",
       "\n",
       "    .dataframe thead th {\n",
       "        text-align: right;\n",
       "    }\n",
       "</style>\n",
       "<table border=\"1\" class=\"dataframe\">\n",
       "  <thead>\n",
       "    <tr style=\"text-align: right;\">\n",
       "      <th>work</th>\n",
       "      <th>17</th>\n",
       "      <th>26</th>\n",
       "      <th>39</th>\n",
       "      <th>42</th>\n",
       "      <th>93</th>\n",
       "      <th>95</th>\n",
       "      <th>97</th>\n",
       "      <th>98</th>\n",
       "      <th>102</th>\n",
       "      <th>107</th>\n",
       "      <th>...</th>\n",
       "      <th>14135445</th>\n",
       "      <th>14139624</th>\n",
       "      <th>14143332</th>\n",
       "      <th>14145440</th>\n",
       "      <th>14150364</th>\n",
       "      <th>14150628</th>\n",
       "      <th>14151863</th>\n",
       "      <th>14171927</th>\n",
       "      <th>14183985</th>\n",
       "      <th>14184045</th>\n",
       "    </tr>\n",
       "  </thead>\n",
       "  <tbody>\n",
       "    <tr>\n",
       "      <th>count</th>\n",
       "      <td>21.000000</td>\n",
       "      <td>15.000000</td>\n",
       "      <td>47.000000</td>\n",
       "      <td>12.000000</td>\n",
       "      <td>5.000000</td>\n",
       "      <td>20.000000</td>\n",
       "      <td>6.000000</td>\n",
       "      <td>7.000000</td>\n",
       "      <td>13.0</td>\n",
       "      <td>20.00000</td>\n",
       "      <td>...</td>\n",
       "      <td>5.000000</td>\n",
       "      <td>5.0</td>\n",
       "      <td>3.000000</td>\n",
       "      <td>1.0</td>\n",
       "      <td>16.00000</td>\n",
       "      <td>3.000000</td>\n",
       "      <td>4.000000</td>\n",
       "      <td>4.00</td>\n",
       "      <td>4.0</td>\n",
       "      <td>18.000000</td>\n",
       "    </tr>\n",
       "    <tr>\n",
       "      <th>mean</th>\n",
       "      <td>3.809524</td>\n",
       "      <td>3.100000</td>\n",
       "      <td>4.234043</td>\n",
       "      <td>3.875000</td>\n",
       "      <td>4.000000</td>\n",
       "      <td>4.100000</td>\n",
       "      <td>4.250000</td>\n",
       "      <td>4.571429</td>\n",
       "      <td>4.5</td>\n",
       "      <td>4.10000</td>\n",
       "      <td>...</td>\n",
       "      <td>4.900000</td>\n",
       "      <td>5.0</td>\n",
       "      <td>3.333333</td>\n",
       "      <td>3.0</td>\n",
       "      <td>3.90625</td>\n",
       "      <td>3.500000</td>\n",
       "      <td>3.750000</td>\n",
       "      <td>4.75</td>\n",
       "      <td>5.0</td>\n",
       "      <td>4.361111</td>\n",
       "    </tr>\n",
       "    <tr>\n",
       "      <th>std</th>\n",
       "      <td>1.005935</td>\n",
       "      <td>0.948683</td>\n",
       "      <td>0.877565</td>\n",
       "      <td>0.742386</td>\n",
       "      <td>0.935414</td>\n",
       "      <td>0.575829</td>\n",
       "      <td>0.612372</td>\n",
       "      <td>0.534522</td>\n",
       "      <td>0.5</td>\n",
       "      <td>0.66094</td>\n",
       "      <td>...</td>\n",
       "      <td>0.223607</td>\n",
       "      <td>0.0</td>\n",
       "      <td>0.577350</td>\n",
       "      <td>NaN</td>\n",
       "      <td>0.82095</td>\n",
       "      <td>2.598076</td>\n",
       "      <td>0.288675</td>\n",
       "      <td>0.50</td>\n",
       "      <td>0.0</td>\n",
       "      <td>0.763228</td>\n",
       "    </tr>\n",
       "    <tr>\n",
       "      <th>min</th>\n",
       "      <td>2.000000</td>\n",
       "      <td>0.500000</td>\n",
       "      <td>1.000000</td>\n",
       "      <td>3.000000</td>\n",
       "      <td>3.000000</td>\n",
       "      <td>3.000000</td>\n",
       "      <td>3.500000</td>\n",
       "      <td>4.000000</td>\n",
       "      <td>4.0</td>\n",
       "      <td>3.00000</td>\n",
       "      <td>...</td>\n",
       "      <td>4.500000</td>\n",
       "      <td>5.0</td>\n",
       "      <td>3.000000</td>\n",
       "      <td>3.0</td>\n",
       "      <td>2.50000</td>\n",
       "      <td>0.500000</td>\n",
       "      <td>3.500000</td>\n",
       "      <td>4.00</td>\n",
       "      <td>5.0</td>\n",
       "      <td>3.000000</td>\n",
       "    </tr>\n",
       "    <tr>\n",
       "      <th>25%</th>\n",
       "      <td>3.000000</td>\n",
       "      <td>3.000000</td>\n",
       "      <td>4.000000</td>\n",
       "      <td>3.000000</td>\n",
       "      <td>3.000000</td>\n",
       "      <td>4.000000</td>\n",
       "      <td>4.000000</td>\n",
       "      <td>4.000000</td>\n",
       "      <td>4.0</td>\n",
       "      <td>3.87500</td>\n",
       "      <td>...</td>\n",
       "      <td>5.000000</td>\n",
       "      <td>5.0</td>\n",
       "      <td>3.000000</td>\n",
       "      <td>3.0</td>\n",
       "      <td>3.37500</td>\n",
       "      <td>2.750000</td>\n",
       "      <td>3.500000</td>\n",
       "      <td>4.75</td>\n",
       "      <td>5.0</td>\n",
       "      <td>4.000000</td>\n",
       "    </tr>\n",
       "    <tr>\n",
       "      <th>50%</th>\n",
       "      <td>4.000000</td>\n",
       "      <td>3.000000</td>\n",
       "      <td>4.000000</td>\n",
       "      <td>4.000000</td>\n",
       "      <td>4.500000</td>\n",
       "      <td>4.000000</td>\n",
       "      <td>4.000000</td>\n",
       "      <td>5.000000</td>\n",
       "      <td>4.5</td>\n",
       "      <td>4.00000</td>\n",
       "      <td>...</td>\n",
       "      <td>5.000000</td>\n",
       "      <td>5.0</td>\n",
       "      <td>3.000000</td>\n",
       "      <td>3.0</td>\n",
       "      <td>4.00000</td>\n",
       "      <td>5.000000</td>\n",
       "      <td>3.750000</td>\n",
       "      <td>5.00</td>\n",
       "      <td>5.0</td>\n",
       "      <td>4.750000</td>\n",
       "    </tr>\n",
       "    <tr>\n",
       "      <th>75%</th>\n",
       "      <td>5.000000</td>\n",
       "      <td>3.250000</td>\n",
       "      <td>5.000000</td>\n",
       "      <td>4.125000</td>\n",
       "      <td>4.500000</td>\n",
       "      <td>4.500000</td>\n",
       "      <td>4.750000</td>\n",
       "      <td>5.000000</td>\n",
       "      <td>5.0</td>\n",
       "      <td>4.50000</td>\n",
       "      <td>...</td>\n",
       "      <td>5.000000</td>\n",
       "      <td>5.0</td>\n",
       "      <td>3.500000</td>\n",
       "      <td>3.0</td>\n",
       "      <td>4.62500</td>\n",
       "      <td>5.000000</td>\n",
       "      <td>4.000000</td>\n",
       "      <td>5.00</td>\n",
       "      <td>5.0</td>\n",
       "      <td>5.000000</td>\n",
       "    </tr>\n",
       "    <tr>\n",
       "      <th>max</th>\n",
       "      <td>5.000000</td>\n",
       "      <td>5.000000</td>\n",
       "      <td>5.000000</td>\n",
       "      <td>5.000000</td>\n",
       "      <td>5.000000</td>\n",
       "      <td>5.000000</td>\n",
       "      <td>5.000000</td>\n",
       "      <td>5.000000</td>\n",
       "      <td>5.0</td>\n",
       "      <td>5.00000</td>\n",
       "      <td>...</td>\n",
       "      <td>5.000000</td>\n",
       "      <td>5.0</td>\n",
       "      <td>4.000000</td>\n",
       "      <td>3.0</td>\n",
       "      <td>5.00000</td>\n",
       "      <td>5.000000</td>\n",
       "      <td>4.000000</td>\n",
       "      <td>5.00</td>\n",
       "      <td>5.0</td>\n",
       "      <td>5.000000</td>\n",
       "    </tr>\n",
       "  </tbody>\n",
       "</table>\n",
       "<p>8 rows × 63593 columns</p>\n",
       "</div>"
      ],
      "text/plain": [
       "work    17         26         39         42        93         95        \\\n",
       "count  21.000000  15.000000  47.000000  12.000000  5.000000  20.000000   \n",
       "mean    3.809524   3.100000   4.234043   3.875000  4.000000   4.100000   \n",
       "std     1.005935   0.948683   0.877565   0.742386  0.935414   0.575829   \n",
       "min     2.000000   0.500000   1.000000   3.000000  3.000000   3.000000   \n",
       "25%     3.000000   3.000000   4.000000   3.000000  3.000000   4.000000   \n",
       "50%     4.000000   3.000000   4.000000   4.000000  4.500000   4.000000   \n",
       "75%     5.000000   3.250000   5.000000   4.125000  4.500000   4.500000   \n",
       "max     5.000000   5.000000   5.000000   5.000000  5.000000   5.000000   \n",
       "\n",
       "work   97        98        102       107       ...  14135445  14139624  \\\n",
       "count  6.000000  7.000000      13.0  20.00000  ...  5.000000       5.0   \n",
       "mean   4.250000  4.571429       4.5   4.10000  ...  4.900000       5.0   \n",
       "std    0.612372  0.534522       0.5   0.66094  ...  0.223607       0.0   \n",
       "min    3.500000  4.000000       4.0   3.00000  ...  4.500000       5.0   \n",
       "25%    4.000000  4.000000       4.0   3.87500  ...  5.000000       5.0   \n",
       "50%    4.000000  5.000000       4.5   4.00000  ...  5.000000       5.0   \n",
       "75%    4.750000  5.000000       5.0   4.50000  ...  5.000000       5.0   \n",
       "max    5.000000  5.000000       5.0   5.00000  ...  5.000000       5.0   \n",
       "\n",
       "work   14143332  14145440  14150364  14150628  14151863  14171927  14183985  \\\n",
       "count  3.000000       1.0  16.00000  3.000000  4.000000      4.00       4.0   \n",
       "mean   3.333333       3.0   3.90625  3.500000  3.750000      4.75       5.0   \n",
       "std    0.577350       NaN   0.82095  2.598076  0.288675      0.50       0.0   \n",
       "min    3.000000       3.0   2.50000  0.500000  3.500000      4.00       5.0   \n",
       "25%    3.000000       3.0   3.37500  2.750000  3.500000      4.75       5.0   \n",
       "50%    3.000000       3.0   4.00000  5.000000  3.750000      5.00       5.0   \n",
       "75%    3.500000       3.0   4.62500  5.000000  4.000000      5.00       5.0   \n",
       "max    4.000000       3.0   5.00000  5.000000  4.000000      5.00       5.0   \n",
       "\n",
       "work    14184045  \n",
       "count  18.000000  \n",
       "mean    4.361111  \n",
       "std     0.763228  \n",
       "min     3.000000  \n",
       "25%     4.000000  \n",
       "50%     4.750000  \n",
       "75%     5.000000  \n",
       "max     5.000000  \n",
       "\n",
       "[8 rows x 63593 columns]"
      ]
     },
     "execution_count": 26,
     "metadata": {},
     "output_type": "execute_result"
    }
   ],
   "source": [
    "result_df.describe()"
   ]
  },
  {
   "cell_type": "markdown",
   "id": "5407af31",
   "metadata": {},
   "source": [
    "> Normalizing the rating by subtracting the mean of those users."
   ]
  },
  {
   "cell_type": "code",
   "execution_count": 16,
   "id": "a574b1dd",
   "metadata": {},
   "outputs": [
    {
     "data": {
      "text/html": [
       "<div>\n",
       "<style scoped>\n",
       "    .dataframe tbody tr th:only-of-type {\n",
       "        vertical-align: middle;\n",
       "    }\n",
       "\n",
       "    .dataframe tbody tr th {\n",
       "        vertical-align: top;\n",
       "    }\n",
       "\n",
       "    .dataframe thead th {\n",
       "        text-align: right;\n",
       "    }\n",
       "</style>\n",
       "<table border=\"1\" class=\"dataframe\">\n",
       "  <thead>\n",
       "    <tr style=\"text-align: right;\">\n",
       "      <th></th>\n",
       "      <th>17</th>\n",
       "      <th>26</th>\n",
       "      <th>39</th>\n",
       "      <th>42</th>\n",
       "      <th>93</th>\n",
       "      <th>95</th>\n",
       "      <th>97</th>\n",
       "      <th>98</th>\n",
       "      <th>102</th>\n",
       "      <th>107</th>\n",
       "      <th>...</th>\n",
       "      <th>14135445</th>\n",
       "      <th>14139624</th>\n",
       "      <th>14143332</th>\n",
       "      <th>14145440</th>\n",
       "      <th>14150364</th>\n",
       "      <th>14150628</th>\n",
       "      <th>14151863</th>\n",
       "      <th>14171927</th>\n",
       "      <th>14183985</th>\n",
       "      <th>14184045</th>\n",
       "    </tr>\n",
       "    <tr>\n",
       "      <th>user_id</th>\n",
       "      <th></th>\n",
       "      <th></th>\n",
       "      <th></th>\n",
       "      <th></th>\n",
       "      <th></th>\n",
       "      <th></th>\n",
       "      <th></th>\n",
       "      <th></th>\n",
       "      <th></th>\n",
       "      <th></th>\n",
       "      <th></th>\n",
       "      <th></th>\n",
       "      <th></th>\n",
       "      <th></th>\n",
       "      <th></th>\n",
       "      <th></th>\n",
       "      <th></th>\n",
       "      <th></th>\n",
       "      <th></th>\n",
       "      <th></th>\n",
       "      <th></th>\n",
       "    </tr>\n",
       "  </thead>\n",
       "  <tbody>\n",
       "    <tr>\n",
       "      <th>0</th>\n",
       "      <td>NaN</td>\n",
       "      <td>NaN</td>\n",
       "      <td>NaN</td>\n",
       "      <td>NaN</td>\n",
       "      <td>NaN</td>\n",
       "      <td>NaN</td>\n",
       "      <td>NaN</td>\n",
       "      <td>NaN</td>\n",
       "      <td>NaN</td>\n",
       "      <td>NaN</td>\n",
       "      <td>...</td>\n",
       "      <td>NaN</td>\n",
       "      <td>NaN</td>\n",
       "      <td>NaN</td>\n",
       "      <td>NaN</td>\n",
       "      <td>NaN</td>\n",
       "      <td>NaN</td>\n",
       "      <td>NaN</td>\n",
       "      <td>NaN</td>\n",
       "      <td>NaN</td>\n",
       "      <td>NaN</td>\n",
       "    </tr>\n",
       "    <tr>\n",
       "      <th>1</th>\n",
       "      <td>NaN</td>\n",
       "      <td>NaN</td>\n",
       "      <td>NaN</td>\n",
       "      <td>NaN</td>\n",
       "      <td>NaN</td>\n",
       "      <td>NaN</td>\n",
       "      <td>NaN</td>\n",
       "      <td>NaN</td>\n",
       "      <td>NaN</td>\n",
       "      <td>NaN</td>\n",
       "      <td>...</td>\n",
       "      <td>NaN</td>\n",
       "      <td>NaN</td>\n",
       "      <td>NaN</td>\n",
       "      <td>NaN</td>\n",
       "      <td>NaN</td>\n",
       "      <td>NaN</td>\n",
       "      <td>NaN</td>\n",
       "      <td>NaN</td>\n",
       "      <td>NaN</td>\n",
       "      <td>NaN</td>\n",
       "    </tr>\n",
       "    <tr>\n",
       "      <th>2</th>\n",
       "      <td>NaN</td>\n",
       "      <td>NaN</td>\n",
       "      <td>NaN</td>\n",
       "      <td>NaN</td>\n",
       "      <td>NaN</td>\n",
       "      <td>NaN</td>\n",
       "      <td>NaN</td>\n",
       "      <td>NaN</td>\n",
       "      <td>NaN</td>\n",
       "      <td>NaN</td>\n",
       "      <td>...</td>\n",
       "      <td>NaN</td>\n",
       "      <td>NaN</td>\n",
       "      <td>NaN</td>\n",
       "      <td>NaN</td>\n",
       "      <td>NaN</td>\n",
       "      <td>NaN</td>\n",
       "      <td>NaN</td>\n",
       "      <td>NaN</td>\n",
       "      <td>NaN</td>\n",
       "      <td>NaN</td>\n",
       "    </tr>\n",
       "    <tr>\n",
       "      <th>3</th>\n",
       "      <td>NaN</td>\n",
       "      <td>NaN</td>\n",
       "      <td>NaN</td>\n",
       "      <td>NaN</td>\n",
       "      <td>NaN</td>\n",
       "      <td>NaN</td>\n",
       "      <td>NaN</td>\n",
       "      <td>NaN</td>\n",
       "      <td>NaN</td>\n",
       "      <td>NaN</td>\n",
       "      <td>...</td>\n",
       "      <td>NaN</td>\n",
       "      <td>NaN</td>\n",
       "      <td>NaN</td>\n",
       "      <td>NaN</td>\n",
       "      <td>NaN</td>\n",
       "      <td>NaN</td>\n",
       "      <td>NaN</td>\n",
       "      <td>NaN</td>\n",
       "      <td>NaN</td>\n",
       "      <td>NaN</td>\n",
       "    </tr>\n",
       "    <tr>\n",
       "      <th>4</th>\n",
       "      <td>NaN</td>\n",
       "      <td>NaN</td>\n",
       "      <td>NaN</td>\n",
       "      <td>NaN</td>\n",
       "      <td>NaN</td>\n",
       "      <td>NaN</td>\n",
       "      <td>NaN</td>\n",
       "      <td>NaN</td>\n",
       "      <td>NaN</td>\n",
       "      <td>NaN</td>\n",
       "      <td>...</td>\n",
       "      <td>NaN</td>\n",
       "      <td>NaN</td>\n",
       "      <td>NaN</td>\n",
       "      <td>NaN</td>\n",
       "      <td>NaN</td>\n",
       "      <td>NaN</td>\n",
       "      <td>NaN</td>\n",
       "      <td>NaN</td>\n",
       "      <td>NaN</td>\n",
       "      <td>NaN</td>\n",
       "    </tr>\n",
       "    <tr>\n",
       "      <th>...</th>\n",
       "      <td>...</td>\n",
       "      <td>...</td>\n",
       "      <td>...</td>\n",
       "      <td>...</td>\n",
       "      <td>...</td>\n",
       "      <td>...</td>\n",
       "      <td>...</td>\n",
       "      <td>...</td>\n",
       "      <td>...</td>\n",
       "      <td>...</td>\n",
       "      <td>...</td>\n",
       "      <td>...</td>\n",
       "      <td>...</td>\n",
       "      <td>...</td>\n",
       "      <td>...</td>\n",
       "      <td>...</td>\n",
       "      <td>...</td>\n",
       "      <td>...</td>\n",
       "      <td>...</td>\n",
       "      <td>...</td>\n",
       "      <td>...</td>\n",
       "    </tr>\n",
       "    <tr>\n",
       "      <th>49671</th>\n",
       "      <td>NaN</td>\n",
       "      <td>NaN</td>\n",
       "      <td>NaN</td>\n",
       "      <td>NaN</td>\n",
       "      <td>NaN</td>\n",
       "      <td>NaN</td>\n",
       "      <td>NaN</td>\n",
       "      <td>NaN</td>\n",
       "      <td>NaN</td>\n",
       "      <td>NaN</td>\n",
       "      <td>...</td>\n",
       "      <td>NaN</td>\n",
       "      <td>NaN</td>\n",
       "      <td>NaN</td>\n",
       "      <td>NaN</td>\n",
       "      <td>NaN</td>\n",
       "      <td>NaN</td>\n",
       "      <td>NaN</td>\n",
       "      <td>NaN</td>\n",
       "      <td>NaN</td>\n",
       "      <td>NaN</td>\n",
       "    </tr>\n",
       "    <tr>\n",
       "      <th>49832</th>\n",
       "      <td>NaN</td>\n",
       "      <td>NaN</td>\n",
       "      <td>NaN</td>\n",
       "      <td>NaN</td>\n",
       "      <td>NaN</td>\n",
       "      <td>NaN</td>\n",
       "      <td>NaN</td>\n",
       "      <td>NaN</td>\n",
       "      <td>NaN</td>\n",
       "      <td>NaN</td>\n",
       "      <td>...</td>\n",
       "      <td>NaN</td>\n",
       "      <td>NaN</td>\n",
       "      <td>NaN</td>\n",
       "      <td>NaN</td>\n",
       "      <td>NaN</td>\n",
       "      <td>NaN</td>\n",
       "      <td>NaN</td>\n",
       "      <td>NaN</td>\n",
       "      <td>NaN</td>\n",
       "      <td>NaN</td>\n",
       "    </tr>\n",
       "    <tr>\n",
       "      <th>50517</th>\n",
       "      <td>NaN</td>\n",
       "      <td>NaN</td>\n",
       "      <td>NaN</td>\n",
       "      <td>NaN</td>\n",
       "      <td>NaN</td>\n",
       "      <td>NaN</td>\n",
       "      <td>NaN</td>\n",
       "      <td>NaN</td>\n",
       "      <td>NaN</td>\n",
       "      <td>NaN</td>\n",
       "      <td>...</td>\n",
       "      <td>NaN</td>\n",
       "      <td>NaN</td>\n",
       "      <td>NaN</td>\n",
       "      <td>NaN</td>\n",
       "      <td>NaN</td>\n",
       "      <td>NaN</td>\n",
       "      <td>NaN</td>\n",
       "      <td>NaN</td>\n",
       "      <td>NaN</td>\n",
       "      <td>NaN</td>\n",
       "    </tr>\n",
       "    <tr>\n",
       "      <th>53295</th>\n",
       "      <td>NaN</td>\n",
       "      <td>NaN</td>\n",
       "      <td>NaN</td>\n",
       "      <td>NaN</td>\n",
       "      <td>NaN</td>\n",
       "      <td>NaN</td>\n",
       "      <td>NaN</td>\n",
       "      <td>NaN</td>\n",
       "      <td>NaN</td>\n",
       "      <td>NaN</td>\n",
       "      <td>...</td>\n",
       "      <td>NaN</td>\n",
       "      <td>NaN</td>\n",
       "      <td>NaN</td>\n",
       "      <td>NaN</td>\n",
       "      <td>NaN</td>\n",
       "      <td>NaN</td>\n",
       "      <td>NaN</td>\n",
       "      <td>NaN</td>\n",
       "      <td>NaN</td>\n",
       "      <td>NaN</td>\n",
       "    </tr>\n",
       "    <tr>\n",
       "      <th>54331</th>\n",
       "      <td>NaN</td>\n",
       "      <td>NaN</td>\n",
       "      <td>NaN</td>\n",
       "      <td>NaN</td>\n",
       "      <td>NaN</td>\n",
       "      <td>NaN</td>\n",
       "      <td>NaN</td>\n",
       "      <td>NaN</td>\n",
       "      <td>NaN</td>\n",
       "      <td>NaN</td>\n",
       "      <td>...</td>\n",
       "      <td>NaN</td>\n",
       "      <td>NaN</td>\n",
       "      <td>NaN</td>\n",
       "      <td>NaN</td>\n",
       "      <td>NaN</td>\n",
       "      <td>NaN</td>\n",
       "      <td>NaN</td>\n",
       "      <td>NaN</td>\n",
       "      <td>NaN</td>\n",
       "      <td>NaN</td>\n",
       "    </tr>\n",
       "  </tbody>\n",
       "</table>\n",
       "<p>12028 rows × 63593 columns</p>\n",
       "</div>"
      ],
      "text/plain": [
       "         17  26  39  42  93  95  97  98  102  107  ...  14135445  14139624  \\\n",
       "user_id                                            ...                       \n",
       "0       NaN NaN NaN NaN NaN NaN NaN NaN  NaN  NaN  ...       NaN       NaN   \n",
       "1       NaN NaN NaN NaN NaN NaN NaN NaN  NaN  NaN  ...       NaN       NaN   \n",
       "2       NaN NaN NaN NaN NaN NaN NaN NaN  NaN  NaN  ...       NaN       NaN   \n",
       "3       NaN NaN NaN NaN NaN NaN NaN NaN  NaN  NaN  ...       NaN       NaN   \n",
       "4       NaN NaN NaN NaN NaN NaN NaN NaN  NaN  NaN  ...       NaN       NaN   \n",
       "...      ..  ..  ..  ..  ..  ..  ..  ..  ...  ...  ...       ...       ...   \n",
       "49671   NaN NaN NaN NaN NaN NaN NaN NaN  NaN  NaN  ...       NaN       NaN   \n",
       "49832   NaN NaN NaN NaN NaN NaN NaN NaN  NaN  NaN  ...       NaN       NaN   \n",
       "50517   NaN NaN NaN NaN NaN NaN NaN NaN  NaN  NaN  ...       NaN       NaN   \n",
       "53295   NaN NaN NaN NaN NaN NaN NaN NaN  NaN  NaN  ...       NaN       NaN   \n",
       "54331   NaN NaN NaN NaN NaN NaN NaN NaN  NaN  NaN  ...       NaN       NaN   \n",
       "\n",
       "         14143332  14145440  14150364  14150628  14151863  14171927  14183985  \\\n",
       "user_id                                                                         \n",
       "0             NaN       NaN       NaN       NaN       NaN       NaN       NaN   \n",
       "1             NaN       NaN       NaN       NaN       NaN       NaN       NaN   \n",
       "2             NaN       NaN       NaN       NaN       NaN       NaN       NaN   \n",
       "3             NaN       NaN       NaN       NaN       NaN       NaN       NaN   \n",
       "4             NaN       NaN       NaN       NaN       NaN       NaN       NaN   \n",
       "...           ...       ...       ...       ...       ...       ...       ...   \n",
       "49671         NaN       NaN       NaN       NaN       NaN       NaN       NaN   \n",
       "49832         NaN       NaN       NaN       NaN       NaN       NaN       NaN   \n",
       "50517         NaN       NaN       NaN       NaN       NaN       NaN       NaN   \n",
       "53295         NaN       NaN       NaN       NaN       NaN       NaN       NaN   \n",
       "54331         NaN       NaN       NaN       NaN       NaN       NaN       NaN   \n",
       "\n",
       "         14184045  \n",
       "user_id            \n",
       "0             NaN  \n",
       "1             NaN  \n",
       "2             NaN  \n",
       "3             NaN  \n",
       "4             NaN  \n",
       "...           ...  \n",
       "49671         NaN  \n",
       "49832         NaN  \n",
       "50517         NaN  \n",
       "53295         NaN  \n",
       "54331         NaN  \n",
       "\n",
       "[12028 rows x 63593 columns]"
      ]
     },
     "execution_count": 16,
     "metadata": {},
     "output_type": "execute_result"
    }
   ],
   "source": [
    "normalized_ratings_matrix = result_df.subtract(result_df.mean(axis=1), axis=0)\n",
    "normalized_ratings_matrix"
   ]
  },
  {
   "cell_type": "markdown",
   "id": "9bd79f5c",
   "metadata": {},
   "source": [
    "> Calculating a similarity matrix using pearson's correlation for every user. "
   ]
  },
  {
   "cell_type": "code",
   "execution_count": 17,
   "id": "d52cd6a4",
   "metadata": {},
   "outputs": [
    {
     "data": {
      "text/html": [
       "<div>\n",
       "<style scoped>\n",
       "    .dataframe tbody tr th:only-of-type {\n",
       "        vertical-align: middle;\n",
       "    }\n",
       "\n",
       "    .dataframe tbody tr th {\n",
       "        vertical-align: top;\n",
       "    }\n",
       "\n",
       "    .dataframe thead th {\n",
       "        text-align: right;\n",
       "    }\n",
       "</style>\n",
       "<table border=\"1\" class=\"dataframe\">\n",
       "  <thead>\n",
       "    <tr style=\"text-align: right;\">\n",
       "      <th></th>\n",
       "      <th>0</th>\n",
       "      <th>1</th>\n",
       "      <th>2</th>\n",
       "      <th>3</th>\n",
       "      <th>4</th>\n",
       "      <th>5</th>\n",
       "      <th>6</th>\n",
       "      <th>7</th>\n",
       "      <th>8</th>\n",
       "      <th>10</th>\n",
       "      <th>...</th>\n",
       "      <th>48512</th>\n",
       "      <th>48587</th>\n",
       "      <th>48949</th>\n",
       "      <th>48997</th>\n",
       "      <th>49380</th>\n",
       "      <th>49671</th>\n",
       "      <th>49832</th>\n",
       "      <th>50517</th>\n",
       "      <th>53295</th>\n",
       "      <th>54331</th>\n",
       "    </tr>\n",
       "    <tr>\n",
       "      <th>user_id</th>\n",
       "      <th></th>\n",
       "      <th></th>\n",
       "      <th></th>\n",
       "      <th></th>\n",
       "      <th></th>\n",
       "      <th></th>\n",
       "      <th></th>\n",
       "      <th></th>\n",
       "      <th></th>\n",
       "      <th></th>\n",
       "      <th></th>\n",
       "      <th></th>\n",
       "      <th></th>\n",
       "      <th></th>\n",
       "      <th></th>\n",
       "      <th></th>\n",
       "      <th></th>\n",
       "      <th></th>\n",
       "      <th></th>\n",
       "      <th></th>\n",
       "      <th></th>\n",
       "    </tr>\n",
       "  </thead>\n",
       "  <tbody>\n",
       "    <tr>\n",
       "      <th>0</th>\n",
       "      <td>1.0</td>\n",
       "      <td>NaN</td>\n",
       "      <td>NaN</td>\n",
       "      <td>NaN</td>\n",
       "      <td>NaN</td>\n",
       "      <td>NaN</td>\n",
       "      <td>NaN</td>\n",
       "      <td>NaN</td>\n",
       "      <td>NaN</td>\n",
       "      <td>NaN</td>\n",
       "      <td>...</td>\n",
       "      <td>NaN</td>\n",
       "      <td>NaN</td>\n",
       "      <td>NaN</td>\n",
       "      <td>NaN</td>\n",
       "      <td>NaN</td>\n",
       "      <td>NaN</td>\n",
       "      <td>NaN</td>\n",
       "      <td>NaN</td>\n",
       "      <td>NaN</td>\n",
       "      <td>NaN</td>\n",
       "    </tr>\n",
       "    <tr>\n",
       "      <th>1</th>\n",
       "      <td>NaN</td>\n",
       "      <td>1.0</td>\n",
       "      <td>NaN</td>\n",
       "      <td>NaN</td>\n",
       "      <td>1.0</td>\n",
       "      <td>0.500427</td>\n",
       "      <td>NaN</td>\n",
       "      <td>0.872872</td>\n",
       "      <td>NaN</td>\n",
       "      <td>1.000000</td>\n",
       "      <td>...</td>\n",
       "      <td>NaN</td>\n",
       "      <td>NaN</td>\n",
       "      <td>NaN</td>\n",
       "      <td>NaN</td>\n",
       "      <td>NaN</td>\n",
       "      <td>NaN</td>\n",
       "      <td>NaN</td>\n",
       "      <td>NaN</td>\n",
       "      <td>NaN</td>\n",
       "      <td>NaN</td>\n",
       "    </tr>\n",
       "    <tr>\n",
       "      <th>2</th>\n",
       "      <td>NaN</td>\n",
       "      <td>NaN</td>\n",
       "      <td>1.0</td>\n",
       "      <td>NaN</td>\n",
       "      <td>NaN</td>\n",
       "      <td>NaN</td>\n",
       "      <td>NaN</td>\n",
       "      <td>NaN</td>\n",
       "      <td>NaN</td>\n",
       "      <td>NaN</td>\n",
       "      <td>...</td>\n",
       "      <td>NaN</td>\n",
       "      <td>NaN</td>\n",
       "      <td>NaN</td>\n",
       "      <td>NaN</td>\n",
       "      <td>NaN</td>\n",
       "      <td>NaN</td>\n",
       "      <td>NaN</td>\n",
       "      <td>NaN</td>\n",
       "      <td>NaN</td>\n",
       "      <td>NaN</td>\n",
       "    </tr>\n",
       "    <tr>\n",
       "      <th>3</th>\n",
       "      <td>NaN</td>\n",
       "      <td>NaN</td>\n",
       "      <td>NaN</td>\n",
       "      <td>1.0</td>\n",
       "      <td>NaN</td>\n",
       "      <td>0.312019</td>\n",
       "      <td>NaN</td>\n",
       "      <td>NaN</td>\n",
       "      <td>NaN</td>\n",
       "      <td>-0.261899</td>\n",
       "      <td>...</td>\n",
       "      <td>NaN</td>\n",
       "      <td>NaN</td>\n",
       "      <td>NaN</td>\n",
       "      <td>NaN</td>\n",
       "      <td>NaN</td>\n",
       "      <td>NaN</td>\n",
       "      <td>NaN</td>\n",
       "      <td>NaN</td>\n",
       "      <td>NaN</td>\n",
       "      <td>NaN</td>\n",
       "    </tr>\n",
       "    <tr>\n",
       "      <th>4</th>\n",
       "      <td>NaN</td>\n",
       "      <td>1.0</td>\n",
       "      <td>NaN</td>\n",
       "      <td>NaN</td>\n",
       "      <td>1.0</td>\n",
       "      <td>0.676481</td>\n",
       "      <td>NaN</td>\n",
       "      <td>NaN</td>\n",
       "      <td>NaN</td>\n",
       "      <td>NaN</td>\n",
       "      <td>...</td>\n",
       "      <td>NaN</td>\n",
       "      <td>NaN</td>\n",
       "      <td>NaN</td>\n",
       "      <td>NaN</td>\n",
       "      <td>NaN</td>\n",
       "      <td>NaN</td>\n",
       "      <td>NaN</td>\n",
       "      <td>NaN</td>\n",
       "      <td>NaN</td>\n",
       "      <td>NaN</td>\n",
       "    </tr>\n",
       "    <tr>\n",
       "      <th>...</th>\n",
       "      <td>...</td>\n",
       "      <td>...</td>\n",
       "      <td>...</td>\n",
       "      <td>...</td>\n",
       "      <td>...</td>\n",
       "      <td>...</td>\n",
       "      <td>...</td>\n",
       "      <td>...</td>\n",
       "      <td>...</td>\n",
       "      <td>...</td>\n",
       "      <td>...</td>\n",
       "      <td>...</td>\n",
       "      <td>...</td>\n",
       "      <td>...</td>\n",
       "      <td>...</td>\n",
       "      <td>...</td>\n",
       "      <td>...</td>\n",
       "      <td>...</td>\n",
       "      <td>...</td>\n",
       "      <td>...</td>\n",
       "      <td>...</td>\n",
       "    </tr>\n",
       "    <tr>\n",
       "      <th>49671</th>\n",
       "      <td>NaN</td>\n",
       "      <td>NaN</td>\n",
       "      <td>NaN</td>\n",
       "      <td>NaN</td>\n",
       "      <td>NaN</td>\n",
       "      <td>1.000000</td>\n",
       "      <td>NaN</td>\n",
       "      <td>NaN</td>\n",
       "      <td>NaN</td>\n",
       "      <td>NaN</td>\n",
       "      <td>...</td>\n",
       "      <td>NaN</td>\n",
       "      <td>NaN</td>\n",
       "      <td>NaN</td>\n",
       "      <td>NaN</td>\n",
       "      <td>NaN</td>\n",
       "      <td>1.0</td>\n",
       "      <td>NaN</td>\n",
       "      <td>NaN</td>\n",
       "      <td>NaN</td>\n",
       "      <td>NaN</td>\n",
       "    </tr>\n",
       "    <tr>\n",
       "      <th>49832</th>\n",
       "      <td>NaN</td>\n",
       "      <td>NaN</td>\n",
       "      <td>NaN</td>\n",
       "      <td>NaN</td>\n",
       "      <td>NaN</td>\n",
       "      <td>NaN</td>\n",
       "      <td>NaN</td>\n",
       "      <td>NaN</td>\n",
       "      <td>NaN</td>\n",
       "      <td>NaN</td>\n",
       "      <td>...</td>\n",
       "      <td>NaN</td>\n",
       "      <td>NaN</td>\n",
       "      <td>NaN</td>\n",
       "      <td>NaN</td>\n",
       "      <td>NaN</td>\n",
       "      <td>NaN</td>\n",
       "      <td>1.0</td>\n",
       "      <td>NaN</td>\n",
       "      <td>NaN</td>\n",
       "      <td>NaN</td>\n",
       "    </tr>\n",
       "    <tr>\n",
       "      <th>50517</th>\n",
       "      <td>NaN</td>\n",
       "      <td>NaN</td>\n",
       "      <td>NaN</td>\n",
       "      <td>NaN</td>\n",
       "      <td>NaN</td>\n",
       "      <td>NaN</td>\n",
       "      <td>NaN</td>\n",
       "      <td>NaN</td>\n",
       "      <td>NaN</td>\n",
       "      <td>NaN</td>\n",
       "      <td>...</td>\n",
       "      <td>NaN</td>\n",
       "      <td>NaN</td>\n",
       "      <td>NaN</td>\n",
       "      <td>NaN</td>\n",
       "      <td>NaN</td>\n",
       "      <td>NaN</td>\n",
       "      <td>NaN</td>\n",
       "      <td>1.0</td>\n",
       "      <td>NaN</td>\n",
       "      <td>NaN</td>\n",
       "    </tr>\n",
       "    <tr>\n",
       "      <th>53295</th>\n",
       "      <td>NaN</td>\n",
       "      <td>NaN</td>\n",
       "      <td>NaN</td>\n",
       "      <td>NaN</td>\n",
       "      <td>NaN</td>\n",
       "      <td>NaN</td>\n",
       "      <td>NaN</td>\n",
       "      <td>NaN</td>\n",
       "      <td>NaN</td>\n",
       "      <td>NaN</td>\n",
       "      <td>...</td>\n",
       "      <td>NaN</td>\n",
       "      <td>NaN</td>\n",
       "      <td>NaN</td>\n",
       "      <td>NaN</td>\n",
       "      <td>NaN</td>\n",
       "      <td>NaN</td>\n",
       "      <td>NaN</td>\n",
       "      <td>NaN</td>\n",
       "      <td>1.0</td>\n",
       "      <td>NaN</td>\n",
       "    </tr>\n",
       "    <tr>\n",
       "      <th>54331</th>\n",
       "      <td>NaN</td>\n",
       "      <td>NaN</td>\n",
       "      <td>NaN</td>\n",
       "      <td>NaN</td>\n",
       "      <td>NaN</td>\n",
       "      <td>NaN</td>\n",
       "      <td>NaN</td>\n",
       "      <td>NaN</td>\n",
       "      <td>NaN</td>\n",
       "      <td>NaN</td>\n",
       "      <td>...</td>\n",
       "      <td>NaN</td>\n",
       "      <td>NaN</td>\n",
       "      <td>NaN</td>\n",
       "      <td>NaN</td>\n",
       "      <td>NaN</td>\n",
       "      <td>NaN</td>\n",
       "      <td>NaN</td>\n",
       "      <td>NaN</td>\n",
       "      <td>NaN</td>\n",
       "      <td>1.0</td>\n",
       "    </tr>\n",
       "  </tbody>\n",
       "</table>\n",
       "<p>12028 rows × 12028 columns</p>\n",
       "</div>"
      ],
      "text/plain": [
       "           0    1    2    3    4         5   6         7   8        10  ...  \\\n",
       "user_id                                                                 ...   \n",
       "0        1.0  NaN  NaN  NaN  NaN       NaN NaN       NaN NaN       NaN  ...   \n",
       "1        NaN  1.0  NaN  NaN  1.0  0.500427 NaN  0.872872 NaN  1.000000  ...   \n",
       "2        NaN  NaN  1.0  NaN  NaN       NaN NaN       NaN NaN       NaN  ...   \n",
       "3        NaN  NaN  NaN  1.0  NaN  0.312019 NaN       NaN NaN -0.261899  ...   \n",
       "4        NaN  1.0  NaN  NaN  1.0  0.676481 NaN       NaN NaN       NaN  ...   \n",
       "...      ...  ...  ...  ...  ...       ...  ..       ...  ..       ...  ...   \n",
       "49671    NaN  NaN  NaN  NaN  NaN  1.000000 NaN       NaN NaN       NaN  ...   \n",
       "49832    NaN  NaN  NaN  NaN  NaN       NaN NaN       NaN NaN       NaN  ...   \n",
       "50517    NaN  NaN  NaN  NaN  NaN       NaN NaN       NaN NaN       NaN  ...   \n",
       "53295    NaN  NaN  NaN  NaN  NaN       NaN NaN       NaN NaN       NaN  ...   \n",
       "54331    NaN  NaN  NaN  NaN  NaN       NaN NaN       NaN NaN       NaN  ...   \n",
       "\n",
       "         48512  48587  48949  48997  49380  49671  49832  50517  53295  54331  \n",
       "user_id                                                                        \n",
       "0          NaN    NaN    NaN    NaN    NaN    NaN    NaN    NaN    NaN    NaN  \n",
       "1          NaN    NaN    NaN    NaN    NaN    NaN    NaN    NaN    NaN    NaN  \n",
       "2          NaN    NaN    NaN    NaN    NaN    NaN    NaN    NaN    NaN    NaN  \n",
       "3          NaN    NaN    NaN    NaN    NaN    NaN    NaN    NaN    NaN    NaN  \n",
       "4          NaN    NaN    NaN    NaN    NaN    NaN    NaN    NaN    NaN    NaN  \n",
       "...        ...    ...    ...    ...    ...    ...    ...    ...    ...    ...  \n",
       "49671      NaN    NaN    NaN    NaN    NaN    1.0    NaN    NaN    NaN    NaN  \n",
       "49832      NaN    NaN    NaN    NaN    NaN    NaN    1.0    NaN    NaN    NaN  \n",
       "50517      NaN    NaN    NaN    NaN    NaN    NaN    NaN    1.0    NaN    NaN  \n",
       "53295      NaN    NaN    NaN    NaN    NaN    NaN    NaN    NaN    1.0    NaN  \n",
       "54331      NaN    NaN    NaN    NaN    NaN    NaN    NaN    NaN    NaN    1.0  \n",
       "\n",
       "[12028 rows x 12028 columns]"
      ]
     },
     "execution_count": 17,
     "metadata": {},
     "output_type": "execute_result"
    }
   ],
   "source": [
    "similarity_matrix = result_df.T.corr()\n",
    "similarity_matrix"
   ]
  },
  {
   "cell_type": "markdown",
   "id": "517cdfbc",
   "metadata": {},
   "source": [
    "> Finding the mean rating for each user so, we can use this value as the user's average rating when generating queries."
   ]
  },
  {
   "cell_type": "code",
   "execution_count": 19,
   "id": "59ae5864",
   "metadata": {},
   "outputs": [
    {
     "data": {
      "text/plain": [
       "user_id\n",
       "0        4.350000\n",
       "1        3.299731\n",
       "2        4.350000\n",
       "3        3.248614\n",
       "4        3.588462\n",
       "           ...   \n",
       "49671    2.777778\n",
       "49832    4.357143\n",
       "50517    3.727273\n",
       "53295    4.076923\n",
       "54331    4.000000\n",
       "Length: 12028, dtype: float64"
      ]
     },
     "execution_count": 19,
     "metadata": {},
     "output_type": "execute_result"
    }
   ],
   "source": [
    "user_means = result_df.mean(axis=1)\n",
    "user_means"
   ]
  },
  {
   "cell_type": "markdown",
   "id": "af8a3b09",
   "metadata": {},
   "source": [
    "> Function that calculates a predicted rating for a given user (u) and item (i)"
   ]
  },
  {
   "cell_type": "code",
   "execution_count": 20,
   "id": "1bce2b69",
   "metadata": {},
   "outputs": [],
   "source": [
    "def calculate_score(u, i):\n",
    "    if i not in result_df.columns:\n",
    "        return 2.5\n",
    "\n",
    "    if u not in similarity_matrix.index:\n",
    "        return 2.5\n",
    "\n",
    "    similarity_scores = similarity_matrix[str(u)].drop(index=u, errors='ignore')\n",
    "    normalized_ratings = normalized_ratings_matrix[str(i)].drop(index=u, errors='ignore')\n",
    "    normalized_ratings.dropna(inplace=True)\n",
    "    similarity_scores.dropna(inplace=True)\n",
    "    common_users = normalized_ratings.index.intersection(similarity_scores.index)\n",
    "\n",
    "    \n",
    "    similarity_scores = similarity_scores.loc[common_users]\n",
    "    normalized_ratings = normalized_ratings.loc[common_users]\n",
    "    if similarity_scores.empty or normalized_ratings.empty :\n",
    "        return 2.5\n",
    "\n",
    "    total_score = (normalized_ratings * similarity_scores).sum().sum()\n",
    "    total_weight = np.sum(np.abs(similarity_scores))\n",
    "    if total_weight == 0:\n",
    "        return 2.5\n",
    "\n",
    "    avg_user_rating = user_means.loc[u]\n",
    "    return avg_user_rating + (total_score / total_weight)"
   ]
  },
  {
   "cell_type": "markdown",
   "id": "5e372df9",
   "metadata": {},
   "source": [
    "> Testing the system's performance on a random sample of 1000 ratings from the dataset and evaluating its accuracy using the root mean squared error (RMSE) metric."
   ]
  },
  {
   "cell_type": "code",
   "execution_count": 21,
   "id": "02bed4ce",
   "metadata": {},
   "outputs": [
    {
     "name": "stdout",
     "output_type": "stream",
     "text": [
      "0.7727548587004954\n"
     ]
    }
   ],
   "source": [
    "test = filtered_df.sample(1000)\n",
    "test_ratings = np.array(test[\"stars\"])\n",
    "user_item_pairs = zip(test[\"user_id\"], test[\"work\"])\n",
    "pred_ratings = np.array([calculate_score(user_id, work) for (user_id, work) in user_item_pairs])\n",
    "print(np.sqrt(mean_squared_error(test_ratings, pred_ratings)))"
   ]
  },
  {
   "cell_type": "code",
   "execution_count": 22,
   "id": "b393ee3f",
   "metadata": {},
   "outputs": [
    {
     "data": {
      "image/png": "[encoded data removed]",
      "text/plain": [
       "<Figure size 800x600 with 1 Axes>"
      ]
     },
     "metadata": {},
     "output_type": "display_data"
    },
    {
     "name": "stdout",
     "output_type": "stream",
     "text": [
      "Call 1 - MSE: 0.8403\n",
      "Call 2 - MSE: 0.7942\n",
      "Call 3 - MSE: 0.7945\n",
      "Call 4 - MSE: 0.7476\n",
      "Call 5 - MSE: 0.8030\n"
     ]
    }
   ],
   "source": [
    "# Plot\n",
    "num_calls = 5\n",
    "mse_values = []\n",
    "for call_num in range(num_calls):\n",
    "    test = filtered_df.sample(1000)\n",
    "    test_ratings = np.array(test[\"stars\"])\n",
    "    user_item_pairs = zip(test[\"user_id\"], test[\"work\"])\n",
    "    pred_ratings = np.array([calculate_score(user_id, work) for (user_id, work) in user_item_pairs])\n",
    "\n",
    "    mse = np.sqrt(mean_squared_error(test_ratings, pred_ratings))\n",
    "    mse_values.append(mse)\n",
    "plt.figure(figsize=(8, 6))\n",
    "plt.plot(range(1, num_calls + 1), mse_values, marker='o')\n",
    "plt.title('MSE Values for Five Different Calls')\n",
    "plt.xlabel('Call Number')\n",
    "plt.ylabel('MSE')\n",
    "plt.show()\n",
    "\n",
    "for call_num, mse in enumerate(mse_values):\n",
    "    print(f'Call {call_num + 1} - MSE: {mse:.4f}')"
   ]
  },
  {
   "cell_type": "markdown",
   "id": "cc0e79f0",
   "metadata": {},
   "source": [
    "#### Recommendation function."
   ]
  },
  {
   "cell_type": "code",
   "execution_count": 24,
   "id": "ec7a46e6",
   "metadata": {},
   "outputs": [],
   "source": [
    "def get_popular_items(num_items=5):\n",
    "    work_stats = filtered_df.groupby('work')['stars'].agg(['mean', 'count'])\n",
    "    \n",
    "    work_stats['popularity_score'] = 0.5 * work_stats['mean'] + 0.5 * (work_stats['count'] / work_stats['count'].max())\n",
    "    \n",
    "    popular_works = work_stats.sort_values(by='popularity_score', ascending=False).head(num_items)\n",
    "    return pd.DataFrame({'work': popular_works.index})\n",
    "\n",
    "def get_seated_works(user_id, num_recommendations=5):\n",
    "    user_id = int(user_id)\n",
    "    if user_id not in filtered_df['user_id'].unique():\n",
    "        popular_works = get_popular_items(num_recommendations)\n",
    "        popular_works['book_name'] = popular_works['work'].apply(get_book_name)\n",
    "        return popular_works[['work', 'book_name']].to_dict(orient='records')\n",
    "    user_rated_works = filtered_df[filtered_df['user_id'] == user_id]['work'].unique()\n",
    "    all_works = filtered_df['work'].unique()\n",
    "    works_to_recommend = set(all_works) - set(user_rated_works)\n",
    "    pred_ratings = [calculate_score(user_id, work) for work in works_to_recommend]\n",
    "    recommendations_df = pd.DataFrame({'work': list(works_to_recommend), 'predicted_rating': pred_ratings})\n",
    "    recommendations_df = recommendations_df.sort_values(by='predicted_rating', ascending=False)\n",
    "    top_recommendations = recommendations_df.head(num_recommendations)\n",
    "    top_recommendations['book_name'] = top_recommendations['work'].apply(get_book_name)\n",
    "\n",
    "    return top_recommendations[['work', 'book_name']].to_dict(orient='records')"
   ]
  },
  {
   "cell_type": "code",
   "execution_count": 26,
   "id": "f52cd58f",
   "metadata": {
    "scrolled": true
   },
   "outputs": [
    {
     "data": {
      "text/plain": [
       "[{'work': 4979986,\n",
       "  'book_name': 'The Hunger Games by Suzanne Collins | LibraryThing'},\n",
       " {'work': 393681,\n",
       "  'book_name': 'The Book Thief by Markus Zusak | LibraryThing'},\n",
       " {'work': 12698221,\n",
       "  'book_name': 'A Luminous Future: Growing up in Transylvania in the Shadow of Communism by Teodor Flonta | LibraryThing'},\n",
       " {'work': 46079,\n",
       "  'book_name': 'The Valley of Vision: A Collection of Puritan Prayers & Devotions by Arthur Bennett | LibraryThing'},\n",
       " {'work': 13110141,\n",
       "  'book_name': 'A Conscious Void by Nathan Hassall | LibraryThing'}]"
      ]
     },
     "execution_count": 26,
     "metadata": {},
     "output_type": "execute_result"
    }
   ],
   "source": [
    "get_seated_works(9)"
   ]
  },
  {
   "cell_type": "markdown",
   "id": "c791edd4",
   "metadata": {},
   "source": [
    "#### Running on local-host using Tkinter"
   ]
  },
  {
   "cell_type": "code",
   "execution_count": 36,
   "id": "0562dd4f",
   "metadata": {},
   "outputs": [
    {
     "name": "stdout",
     "output_type": "stream",
     "text": [
      "rd is [55116, 13436973, 8187182, 13087756, 3563994]\n"
     ]
    }
   ],
   "source": [
    "import tkinter as tk\n",
    "from tkinter import Text\n",
    "from tkintermapview import TkinterMapView\n",
    "\n",
    "from tkinterhtml import HtmlFrame\n",
    "from tkintermapview import TkinterMapView\n",
    "from here_map_widget import Map, Marker, GeoJSON, Icon\n",
    "\n",
    "class Recommendation:\n",
    "    def __init__(self, root, recommendation_model):\n",
    "        self.root = root\n",
    "        self.root.title(\"Recommendation System\")\n",
    "        self.recommendation_model = recommendation_model\n",
    "\n",
    "        # User ID Input\n",
    "        self.user_id_label = tk.Label(root, text=\"Enter User ID:\")\n",
    "        self.user_id_label.pack()\n",
    "        self.user_id_entry = tk.Entry(root)\n",
    "        self.user_id_entry.pack()\n",
    "\n",
    "        # Button to trigger recommendations\n",
    "        self.recommend_button = tk.Button(root, text=\"Get Recommendations\", command=self.get_recommendations)\n",
    "        self.recommend_button.pack()\n",
    "\n",
    "        # Output Area\n",
    "        self.output_label = tk.Label(root, text=\"Recommendations:\")\n",
    "        self.output_label.pack()\n",
    "        self.output_text = Text(root, height=10, width=50)\n",
    "        self.output_text.pack()\n",
    "\n",
    "    def get_recommendations(self):\n",
    "        user_id = self.user_id_entry.get()\n",
    "\n",
    "        # Placeholder function for recommendation model\n",
    "        r_d = get_seated_works(user_id)\n",
    "        print('rd is', r_d)\n",
    "        # Display recommendations\n",
    "        self.output_text.delete(1.0, tk.END)\n",
    "        r_d = pd.DataFrame(r_d, columns=['work'])\n",
    "        # Check if re_df is available and display it\n",
    "        self.output_text.insert(tk.END, r_d)\n",
    "\n",
    "\n",
    "    def recommendation_model(user_id, search_query):\n",
    "        f_d = None  # DataFrame of recommendations\n",
    "        r_d = None  # Some other recommendation data\n",
    "        recommendations_map = None  # Map data\n",
    "    \n",
    "        f_d, r_d, recommendations_map = reco(user_id,search_query)\n",
    "        return f_d, r_d, recommendations_map\n",
    "\n",
    "def main():\n",
    "    recommendation_model = None\n",
    "\n",
    "    root = tk.Tk()\n",
    "    app = Recommendation(root, recommendation_model)\n",
    "    root.mainloop()\n",
    "\n",
    "if __name__ == \"__main__\":\n",
    "    main()"
   ]
  },
  {
   "cell_type": "markdown",
   "id": "a19b2f9f",
   "metadata": {},
   "source": [
    "---\n",
    "# 6. Item - Item Collabrative Filtering\n",
    "---"
   ]
  },
  {
   "cell_type": "markdown",
   "id": "74fba3cc",
   "metadata": {},
   "source": [
    "> Filtering the data considering that the size of the data set is too large to process."
   ]
  },
  {
   "cell_type": "code",
   "execution_count": 28,
   "id": "8e95392f",
   "metadata": {},
   "outputs": [
    {
     "data": {
      "text/plain": [
       "23705"
      ]
     },
     "execution_count": 28,
     "metadata": {},
     "output_type": "execute_result"
    }
   ],
   "source": [
    "user_review_counts = df.groupby('work').size()\n",
    "valid_work = list(set(user_review_counts[user_review_counts >= 10].index))\n",
    "len(valid_work)"
   ]
  },
  {
   "cell_type": "code",
   "execution_count": 29,
   "id": "d850f871",
   "metadata": {},
   "outputs": [
    {
     "data": {
      "text/plain": [
       "12076"
      ]
     },
     "execution_count": 29,
     "metadata": {},
     "output_type": "execute_result"
    }
   ],
   "source": [
    "user_review_counts = df.groupby('user_id').size()\n",
    "valid_users = list(set(user_review_counts[user_review_counts >= 20].index))\n",
    "len(valid_users)"
   ]
  },
  {
   "cell_type": "markdown",
   "id": "65e44313",
   "metadata": {},
   "source": [
    "> Creating new dataframe with filtered users and book_ids(work)"
   ]
  },
  {
   "cell_type": "code",
   "execution_count": 30,
   "id": "aa9f70a2",
   "metadata": {},
   "outputs": [],
   "source": [
    "filtered_df_i = df[df.user_id.isin(valid_users)]\n",
    "filtered_df_i = filtered_df[filtered_df.work.isin(valid_work)]"
   ]
  },
  {
   "cell_type": "code",
   "execution_count": 51,
   "id": "d0e07e78",
   "metadata": {},
   "outputs": [],
   "source": [
    "result_df_i = pd.pivot_table(filtered_df, values='stars', index='work', columns='user_id', aggfunc='mean')"
   ]
  },
  {
   "cell_type": "code",
   "execution_count": 31,
   "id": "ba02572f",
   "metadata": {},
   "outputs": [
    {
     "data": {
      "text/html": [
       "<div>\n",
       "<style scoped>\n",
       "    .dataframe tbody tr th:only-of-type {\n",
       "        vertical-align: middle;\n",
       "    }\n",
       "\n",
       "    .dataframe tbody tr th {\n",
       "        vertical-align: top;\n",
       "    }\n",
       "\n",
       "    .dataframe thead th {\n",
       "        text-align: right;\n",
       "    }\n",
       "</style>\n",
       "<table border=\"1\" class=\"dataframe\">\n",
       "  <thead>\n",
       "    <tr style=\"text-align: right;\">\n",
       "      <th>user_id</th>\n",
       "      <th>0</th>\n",
       "      <th>1</th>\n",
       "      <th>2</th>\n",
       "      <th>3</th>\n",
       "      <th>4</th>\n",
       "      <th>5</th>\n",
       "      <th>6</th>\n",
       "      <th>7</th>\n",
       "      <th>8</th>\n",
       "      <th>10</th>\n",
       "      <th>...</th>\n",
       "      <th>48512</th>\n",
       "      <th>48587</th>\n",
       "      <th>48949</th>\n",
       "      <th>48997</th>\n",
       "      <th>49380</th>\n",
       "      <th>49671</th>\n",
       "      <th>49832</th>\n",
       "      <th>50517</th>\n",
       "      <th>53295</th>\n",
       "      <th>54331</th>\n",
       "    </tr>\n",
       "    <tr>\n",
       "      <th>work</th>\n",
       "      <th></th>\n",
       "      <th></th>\n",
       "      <th></th>\n",
       "      <th></th>\n",
       "      <th></th>\n",
       "      <th></th>\n",
       "      <th></th>\n",
       "      <th></th>\n",
       "      <th></th>\n",
       "      <th></th>\n",
       "      <th></th>\n",
       "      <th></th>\n",
       "      <th></th>\n",
       "      <th></th>\n",
       "      <th></th>\n",
       "      <th></th>\n",
       "      <th></th>\n",
       "      <th></th>\n",
       "      <th></th>\n",
       "      <th></th>\n",
       "      <th></th>\n",
       "    </tr>\n",
       "  </thead>\n",
       "  <tbody>\n",
       "    <tr>\n",
       "      <th>17</th>\n",
       "      <td>NaN</td>\n",
       "      <td>NaN</td>\n",
       "      <td>NaN</td>\n",
       "      <td>NaN</td>\n",
       "      <td>NaN</td>\n",
       "      <td>NaN</td>\n",
       "      <td>NaN</td>\n",
       "      <td>NaN</td>\n",
       "      <td>NaN</td>\n",
       "      <td>NaN</td>\n",
       "      <td>...</td>\n",
       "      <td>NaN</td>\n",
       "      <td>NaN</td>\n",
       "      <td>NaN</td>\n",
       "      <td>NaN</td>\n",
       "      <td>NaN</td>\n",
       "      <td>NaN</td>\n",
       "      <td>NaN</td>\n",
       "      <td>NaN</td>\n",
       "      <td>NaN</td>\n",
       "      <td>NaN</td>\n",
       "    </tr>\n",
       "    <tr>\n",
       "      <th>26</th>\n",
       "      <td>NaN</td>\n",
       "      <td>NaN</td>\n",
       "      <td>NaN</td>\n",
       "      <td>NaN</td>\n",
       "      <td>NaN</td>\n",
       "      <td>NaN</td>\n",
       "      <td>NaN</td>\n",
       "      <td>NaN</td>\n",
       "      <td>NaN</td>\n",
       "      <td>NaN</td>\n",
       "      <td>...</td>\n",
       "      <td>NaN</td>\n",
       "      <td>NaN</td>\n",
       "      <td>NaN</td>\n",
       "      <td>NaN</td>\n",
       "      <td>NaN</td>\n",
       "      <td>NaN</td>\n",
       "      <td>NaN</td>\n",
       "      <td>NaN</td>\n",
       "      <td>NaN</td>\n",
       "      <td>NaN</td>\n",
       "    </tr>\n",
       "    <tr>\n",
       "      <th>39</th>\n",
       "      <td>NaN</td>\n",
       "      <td>NaN</td>\n",
       "      <td>NaN</td>\n",
       "      <td>NaN</td>\n",
       "      <td>NaN</td>\n",
       "      <td>NaN</td>\n",
       "      <td>NaN</td>\n",
       "      <td>NaN</td>\n",
       "      <td>NaN</td>\n",
       "      <td>NaN</td>\n",
       "      <td>...</td>\n",
       "      <td>NaN</td>\n",
       "      <td>NaN</td>\n",
       "      <td>NaN</td>\n",
       "      <td>NaN</td>\n",
       "      <td>NaN</td>\n",
       "      <td>NaN</td>\n",
       "      <td>NaN</td>\n",
       "      <td>NaN</td>\n",
       "      <td>NaN</td>\n",
       "      <td>NaN</td>\n",
       "    </tr>\n",
       "    <tr>\n",
       "      <th>42</th>\n",
       "      <td>NaN</td>\n",
       "      <td>NaN</td>\n",
       "      <td>NaN</td>\n",
       "      <td>NaN</td>\n",
       "      <td>NaN</td>\n",
       "      <td>NaN</td>\n",
       "      <td>NaN</td>\n",
       "      <td>NaN</td>\n",
       "      <td>NaN</td>\n",
       "      <td>NaN</td>\n",
       "      <td>...</td>\n",
       "      <td>NaN</td>\n",
       "      <td>NaN</td>\n",
       "      <td>NaN</td>\n",
       "      <td>NaN</td>\n",
       "      <td>NaN</td>\n",
       "      <td>NaN</td>\n",
       "      <td>NaN</td>\n",
       "      <td>NaN</td>\n",
       "      <td>NaN</td>\n",
       "      <td>NaN</td>\n",
       "    </tr>\n",
       "    <tr>\n",
       "      <th>95</th>\n",
       "      <td>NaN</td>\n",
       "      <td>NaN</td>\n",
       "      <td>NaN</td>\n",
       "      <td>NaN</td>\n",
       "      <td>NaN</td>\n",
       "      <td>NaN</td>\n",
       "      <td>NaN</td>\n",
       "      <td>NaN</td>\n",
       "      <td>NaN</td>\n",
       "      <td>NaN</td>\n",
       "      <td>...</td>\n",
       "      <td>NaN</td>\n",
       "      <td>NaN</td>\n",
       "      <td>NaN</td>\n",
       "      <td>NaN</td>\n",
       "      <td>NaN</td>\n",
       "      <td>NaN</td>\n",
       "      <td>NaN</td>\n",
       "      <td>NaN</td>\n",
       "      <td>NaN</td>\n",
       "      <td>NaN</td>\n",
       "    </tr>\n",
       "    <tr>\n",
       "      <th>...</th>\n",
       "      <td>...</td>\n",
       "      <td>...</td>\n",
       "      <td>...</td>\n",
       "      <td>...</td>\n",
       "      <td>...</td>\n",
       "      <td>...</td>\n",
       "      <td>...</td>\n",
       "      <td>...</td>\n",
       "      <td>...</td>\n",
       "      <td>...</td>\n",
       "      <td>...</td>\n",
       "      <td>...</td>\n",
       "      <td>...</td>\n",
       "      <td>...</td>\n",
       "      <td>...</td>\n",
       "      <td>...</td>\n",
       "      <td>...</td>\n",
       "      <td>...</td>\n",
       "      <td>...</td>\n",
       "      <td>...</td>\n",
       "      <td>...</td>\n",
       "    </tr>\n",
       "    <tr>\n",
       "      <th>14038411</th>\n",
       "      <td>NaN</td>\n",
       "      <td>NaN</td>\n",
       "      <td>NaN</td>\n",
       "      <td>NaN</td>\n",
       "      <td>NaN</td>\n",
       "      <td>NaN</td>\n",
       "      <td>NaN</td>\n",
       "      <td>NaN</td>\n",
       "      <td>NaN</td>\n",
       "      <td>NaN</td>\n",
       "      <td>...</td>\n",
       "      <td>NaN</td>\n",
       "      <td>NaN</td>\n",
       "      <td>NaN</td>\n",
       "      <td>NaN</td>\n",
       "      <td>NaN</td>\n",
       "      <td>NaN</td>\n",
       "      <td>NaN</td>\n",
       "      <td>NaN</td>\n",
       "      <td>NaN</td>\n",
       "      <td>NaN</td>\n",
       "    </tr>\n",
       "    <tr>\n",
       "      <th>14059398</th>\n",
       "      <td>NaN</td>\n",
       "      <td>NaN</td>\n",
       "      <td>NaN</td>\n",
       "      <td>NaN</td>\n",
       "      <td>NaN</td>\n",
       "      <td>NaN</td>\n",
       "      <td>NaN</td>\n",
       "      <td>NaN</td>\n",
       "      <td>NaN</td>\n",
       "      <td>NaN</td>\n",
       "      <td>...</td>\n",
       "      <td>NaN</td>\n",
       "      <td>NaN</td>\n",
       "      <td>NaN</td>\n",
       "      <td>NaN</td>\n",
       "      <td>NaN</td>\n",
       "      <td>NaN</td>\n",
       "      <td>NaN</td>\n",
       "      <td>NaN</td>\n",
       "      <td>NaN</td>\n",
       "      <td>NaN</td>\n",
       "    </tr>\n",
       "    <tr>\n",
       "      <th>14059400</th>\n",
       "      <td>NaN</td>\n",
       "      <td>NaN</td>\n",
       "      <td>NaN</td>\n",
       "      <td>NaN</td>\n",
       "      <td>NaN</td>\n",
       "      <td>NaN</td>\n",
       "      <td>NaN</td>\n",
       "      <td>NaN</td>\n",
       "      <td>NaN</td>\n",
       "      <td>NaN</td>\n",
       "      <td>...</td>\n",
       "      <td>NaN</td>\n",
       "      <td>NaN</td>\n",
       "      <td>NaN</td>\n",
       "      <td>NaN</td>\n",
       "      <td>NaN</td>\n",
       "      <td>NaN</td>\n",
       "      <td>NaN</td>\n",
       "      <td>NaN</td>\n",
       "      <td>NaN</td>\n",
       "      <td>NaN</td>\n",
       "    </tr>\n",
       "    <tr>\n",
       "      <th>14150364</th>\n",
       "      <td>NaN</td>\n",
       "      <td>NaN</td>\n",
       "      <td>NaN</td>\n",
       "      <td>NaN</td>\n",
       "      <td>NaN</td>\n",
       "      <td>NaN</td>\n",
       "      <td>NaN</td>\n",
       "      <td>NaN</td>\n",
       "      <td>NaN</td>\n",
       "      <td>NaN</td>\n",
       "      <td>...</td>\n",
       "      <td>NaN</td>\n",
       "      <td>NaN</td>\n",
       "      <td>NaN</td>\n",
       "      <td>NaN</td>\n",
       "      <td>NaN</td>\n",
       "      <td>NaN</td>\n",
       "      <td>NaN</td>\n",
       "      <td>NaN</td>\n",
       "      <td>NaN</td>\n",
       "      <td>NaN</td>\n",
       "    </tr>\n",
       "    <tr>\n",
       "      <th>14184045</th>\n",
       "      <td>NaN</td>\n",
       "      <td>NaN</td>\n",
       "      <td>NaN</td>\n",
       "      <td>NaN</td>\n",
       "      <td>NaN</td>\n",
       "      <td>NaN</td>\n",
       "      <td>NaN</td>\n",
       "      <td>NaN</td>\n",
       "      <td>NaN</td>\n",
       "      <td>NaN</td>\n",
       "      <td>...</td>\n",
       "      <td>NaN</td>\n",
       "      <td>NaN</td>\n",
       "      <td>NaN</td>\n",
       "      <td>NaN</td>\n",
       "      <td>NaN</td>\n",
       "      <td>NaN</td>\n",
       "      <td>NaN</td>\n",
       "      <td>NaN</td>\n",
       "      <td>NaN</td>\n",
       "      <td>NaN</td>\n",
       "    </tr>\n",
       "  </tbody>\n",
       "</table>\n",
       "<p>23695 rows × 11936 columns</p>\n",
       "</div>"
      ],
      "text/plain": [
       "user_id   0      1      2      3      4      5      6      7      8      \\\n",
       "work                                                                      \n",
       "17          NaN    NaN    NaN    NaN    NaN    NaN    NaN    NaN    NaN   \n",
       "26          NaN    NaN    NaN    NaN    NaN    NaN    NaN    NaN    NaN   \n",
       "39          NaN    NaN    NaN    NaN    NaN    NaN    NaN    NaN    NaN   \n",
       "42          NaN    NaN    NaN    NaN    NaN    NaN    NaN    NaN    NaN   \n",
       "95          NaN    NaN    NaN    NaN    NaN    NaN    NaN    NaN    NaN   \n",
       "...         ...    ...    ...    ...    ...    ...    ...    ...    ...   \n",
       "14038411    NaN    NaN    NaN    NaN    NaN    NaN    NaN    NaN    NaN   \n",
       "14059398    NaN    NaN    NaN    NaN    NaN    NaN    NaN    NaN    NaN   \n",
       "14059400    NaN    NaN    NaN    NaN    NaN    NaN    NaN    NaN    NaN   \n",
       "14150364    NaN    NaN    NaN    NaN    NaN    NaN    NaN    NaN    NaN   \n",
       "14184045    NaN    NaN    NaN    NaN    NaN    NaN    NaN    NaN    NaN   \n",
       "\n",
       "user_id   10     ...  48512  48587  48949  48997  49380  49671  49832  50517  \\\n",
       "work             ...                                                           \n",
       "17          NaN  ...    NaN    NaN    NaN    NaN    NaN    NaN    NaN    NaN   \n",
       "26          NaN  ...    NaN    NaN    NaN    NaN    NaN    NaN    NaN    NaN   \n",
       "39          NaN  ...    NaN    NaN    NaN    NaN    NaN    NaN    NaN    NaN   \n",
       "42          NaN  ...    NaN    NaN    NaN    NaN    NaN    NaN    NaN    NaN   \n",
       "95          NaN  ...    NaN    NaN    NaN    NaN    NaN    NaN    NaN    NaN   \n",
       "...         ...  ...    ...    ...    ...    ...    ...    ...    ...    ...   \n",
       "14038411    NaN  ...    NaN    NaN    NaN    NaN    NaN    NaN    NaN    NaN   \n",
       "14059398    NaN  ...    NaN    NaN    NaN    NaN    NaN    NaN    NaN    NaN   \n",
       "14059400    NaN  ...    NaN    NaN    NaN    NaN    NaN    NaN    NaN    NaN   \n",
       "14150364    NaN  ...    NaN    NaN    NaN    NaN    NaN    NaN    NaN    NaN   \n",
       "14184045    NaN  ...    NaN    NaN    NaN    NaN    NaN    NaN    NaN    NaN   \n",
       "\n",
       "user_id   53295  54331  \n",
       "work                    \n",
       "17          NaN    NaN  \n",
       "26          NaN    NaN  \n",
       "39          NaN    NaN  \n",
       "42          NaN    NaN  \n",
       "95          NaN    NaN  \n",
       "...         ...    ...  \n",
       "14038411    NaN    NaN  \n",
       "14059398    NaN    NaN  \n",
       "14059400    NaN    NaN  \n",
       "14150364    NaN    NaN  \n",
       "14184045    NaN    NaN  \n",
       "\n",
       "[23695 rows x 11936 columns]"
      ]
     },
     "execution_count": 31,
     "metadata": {},
     "output_type": "execute_result"
    }
   ],
   "source": [
    "result_df_i"
   ]
  },
  {
   "cell_type": "markdown",
   "id": "6bfc3069",
   "metadata": {},
   "source": [
    "- This is the user-item matrix with 23695 user and 11936 items."
   ]
  },
  {
   "cell_type": "markdown",
   "id": "75d182ee",
   "metadata": {},
   "source": [
    "> Normalizing the ratings"
   ]
  },
  {
   "cell_type": "code",
   "execution_count": 32,
   "id": "59023744",
   "metadata": {},
   "outputs": [
    {
     "data": {
      "text/html": [
       "<div>\n",
       "<style scoped>\n",
       "    .dataframe tbody tr th:only-of-type {\n",
       "        vertical-align: middle;\n",
       "    }\n",
       "\n",
       "    .dataframe tbody tr th {\n",
       "        vertical-align: top;\n",
       "    }\n",
       "\n",
       "    .dataframe thead th {\n",
       "        text-align: right;\n",
       "    }\n",
       "</style>\n",
       "<table border=\"1\" class=\"dataframe\">\n",
       "  <thead>\n",
       "    <tr style=\"text-align: right;\">\n",
       "      <th>user_id</th>\n",
       "      <th>0</th>\n",
       "      <th>1</th>\n",
       "      <th>2</th>\n",
       "      <th>3</th>\n",
       "      <th>4</th>\n",
       "      <th>5</th>\n",
       "      <th>6</th>\n",
       "      <th>7</th>\n",
       "      <th>8</th>\n",
       "      <th>10</th>\n",
       "      <th>...</th>\n",
       "      <th>48512</th>\n",
       "      <th>48587</th>\n",
       "      <th>48949</th>\n",
       "      <th>48997</th>\n",
       "      <th>49380</th>\n",
       "      <th>49671</th>\n",
       "      <th>49832</th>\n",
       "      <th>50517</th>\n",
       "      <th>53295</th>\n",
       "      <th>54331</th>\n",
       "    </tr>\n",
       "    <tr>\n",
       "      <th>work</th>\n",
       "      <th></th>\n",
       "      <th></th>\n",
       "      <th></th>\n",
       "      <th></th>\n",
       "      <th></th>\n",
       "      <th></th>\n",
       "      <th></th>\n",
       "      <th></th>\n",
       "      <th></th>\n",
       "      <th></th>\n",
       "      <th></th>\n",
       "      <th></th>\n",
       "      <th></th>\n",
       "      <th></th>\n",
       "      <th></th>\n",
       "      <th></th>\n",
       "      <th></th>\n",
       "      <th></th>\n",
       "      <th></th>\n",
       "      <th></th>\n",
       "      <th></th>\n",
       "    </tr>\n",
       "  </thead>\n",
       "  <tbody>\n",
       "    <tr>\n",
       "      <th>17</th>\n",
       "      <td>NaN</td>\n",
       "      <td>NaN</td>\n",
       "      <td>NaN</td>\n",
       "      <td>NaN</td>\n",
       "      <td>NaN</td>\n",
       "      <td>NaN</td>\n",
       "      <td>NaN</td>\n",
       "      <td>NaN</td>\n",
       "      <td>NaN</td>\n",
       "      <td>NaN</td>\n",
       "      <td>...</td>\n",
       "      <td>NaN</td>\n",
       "      <td>NaN</td>\n",
       "      <td>NaN</td>\n",
       "      <td>NaN</td>\n",
       "      <td>NaN</td>\n",
       "      <td>NaN</td>\n",
       "      <td>NaN</td>\n",
       "      <td>NaN</td>\n",
       "      <td>NaN</td>\n",
       "      <td>NaN</td>\n",
       "    </tr>\n",
       "    <tr>\n",
       "      <th>26</th>\n",
       "      <td>NaN</td>\n",
       "      <td>NaN</td>\n",
       "      <td>NaN</td>\n",
       "      <td>NaN</td>\n",
       "      <td>NaN</td>\n",
       "      <td>NaN</td>\n",
       "      <td>NaN</td>\n",
       "      <td>NaN</td>\n",
       "      <td>NaN</td>\n",
       "      <td>NaN</td>\n",
       "      <td>...</td>\n",
       "      <td>NaN</td>\n",
       "      <td>NaN</td>\n",
       "      <td>NaN</td>\n",
       "      <td>NaN</td>\n",
       "      <td>NaN</td>\n",
       "      <td>NaN</td>\n",
       "      <td>NaN</td>\n",
       "      <td>NaN</td>\n",
       "      <td>NaN</td>\n",
       "      <td>NaN</td>\n",
       "    </tr>\n",
       "    <tr>\n",
       "      <th>39</th>\n",
       "      <td>NaN</td>\n",
       "      <td>NaN</td>\n",
       "      <td>NaN</td>\n",
       "      <td>NaN</td>\n",
       "      <td>NaN</td>\n",
       "      <td>NaN</td>\n",
       "      <td>NaN</td>\n",
       "      <td>NaN</td>\n",
       "      <td>NaN</td>\n",
       "      <td>NaN</td>\n",
       "      <td>...</td>\n",
       "      <td>NaN</td>\n",
       "      <td>NaN</td>\n",
       "      <td>NaN</td>\n",
       "      <td>NaN</td>\n",
       "      <td>NaN</td>\n",
       "      <td>NaN</td>\n",
       "      <td>NaN</td>\n",
       "      <td>NaN</td>\n",
       "      <td>NaN</td>\n",
       "      <td>NaN</td>\n",
       "    </tr>\n",
       "    <tr>\n",
       "      <th>42</th>\n",
       "      <td>NaN</td>\n",
       "      <td>NaN</td>\n",
       "      <td>NaN</td>\n",
       "      <td>NaN</td>\n",
       "      <td>NaN</td>\n",
       "      <td>NaN</td>\n",
       "      <td>NaN</td>\n",
       "      <td>NaN</td>\n",
       "      <td>NaN</td>\n",
       "      <td>NaN</td>\n",
       "      <td>...</td>\n",
       "      <td>NaN</td>\n",
       "      <td>NaN</td>\n",
       "      <td>NaN</td>\n",
       "      <td>NaN</td>\n",
       "      <td>NaN</td>\n",
       "      <td>NaN</td>\n",
       "      <td>NaN</td>\n",
       "      <td>NaN</td>\n",
       "      <td>NaN</td>\n",
       "      <td>NaN</td>\n",
       "    </tr>\n",
       "    <tr>\n",
       "      <th>95</th>\n",
       "      <td>NaN</td>\n",
       "      <td>NaN</td>\n",
       "      <td>NaN</td>\n",
       "      <td>NaN</td>\n",
       "      <td>NaN</td>\n",
       "      <td>NaN</td>\n",
       "      <td>NaN</td>\n",
       "      <td>NaN</td>\n",
       "      <td>NaN</td>\n",
       "      <td>NaN</td>\n",
       "      <td>...</td>\n",
       "      <td>NaN</td>\n",
       "      <td>NaN</td>\n",
       "      <td>NaN</td>\n",
       "      <td>NaN</td>\n",
       "      <td>NaN</td>\n",
       "      <td>NaN</td>\n",
       "      <td>NaN</td>\n",
       "      <td>NaN</td>\n",
       "      <td>NaN</td>\n",
       "      <td>NaN</td>\n",
       "    </tr>\n",
       "    <tr>\n",
       "      <th>...</th>\n",
       "      <td>...</td>\n",
       "      <td>...</td>\n",
       "      <td>...</td>\n",
       "      <td>...</td>\n",
       "      <td>...</td>\n",
       "      <td>...</td>\n",
       "      <td>...</td>\n",
       "      <td>...</td>\n",
       "      <td>...</td>\n",
       "      <td>...</td>\n",
       "      <td>...</td>\n",
       "      <td>...</td>\n",
       "      <td>...</td>\n",
       "      <td>...</td>\n",
       "      <td>...</td>\n",
       "      <td>...</td>\n",
       "      <td>...</td>\n",
       "      <td>...</td>\n",
       "      <td>...</td>\n",
       "      <td>...</td>\n",
       "      <td>...</td>\n",
       "    </tr>\n",
       "    <tr>\n",
       "      <th>14038411</th>\n",
       "      <td>NaN</td>\n",
       "      <td>NaN</td>\n",
       "      <td>NaN</td>\n",
       "      <td>NaN</td>\n",
       "      <td>NaN</td>\n",
       "      <td>NaN</td>\n",
       "      <td>NaN</td>\n",
       "      <td>NaN</td>\n",
       "      <td>NaN</td>\n",
       "      <td>NaN</td>\n",
       "      <td>...</td>\n",
       "      <td>NaN</td>\n",
       "      <td>NaN</td>\n",
       "      <td>NaN</td>\n",
       "      <td>NaN</td>\n",
       "      <td>NaN</td>\n",
       "      <td>NaN</td>\n",
       "      <td>NaN</td>\n",
       "      <td>NaN</td>\n",
       "      <td>NaN</td>\n",
       "      <td>NaN</td>\n",
       "    </tr>\n",
       "    <tr>\n",
       "      <th>14059398</th>\n",
       "      <td>NaN</td>\n",
       "      <td>NaN</td>\n",
       "      <td>NaN</td>\n",
       "      <td>NaN</td>\n",
       "      <td>NaN</td>\n",
       "      <td>NaN</td>\n",
       "      <td>NaN</td>\n",
       "      <td>NaN</td>\n",
       "      <td>NaN</td>\n",
       "      <td>NaN</td>\n",
       "      <td>...</td>\n",
       "      <td>NaN</td>\n",
       "      <td>NaN</td>\n",
       "      <td>NaN</td>\n",
       "      <td>NaN</td>\n",
       "      <td>NaN</td>\n",
       "      <td>NaN</td>\n",
       "      <td>NaN</td>\n",
       "      <td>NaN</td>\n",
       "      <td>NaN</td>\n",
       "      <td>NaN</td>\n",
       "    </tr>\n",
       "    <tr>\n",
       "      <th>14059400</th>\n",
       "      <td>NaN</td>\n",
       "      <td>NaN</td>\n",
       "      <td>NaN</td>\n",
       "      <td>NaN</td>\n",
       "      <td>NaN</td>\n",
       "      <td>NaN</td>\n",
       "      <td>NaN</td>\n",
       "      <td>NaN</td>\n",
       "      <td>NaN</td>\n",
       "      <td>NaN</td>\n",
       "      <td>...</td>\n",
       "      <td>NaN</td>\n",
       "      <td>NaN</td>\n",
       "      <td>NaN</td>\n",
       "      <td>NaN</td>\n",
       "      <td>NaN</td>\n",
       "      <td>NaN</td>\n",
       "      <td>NaN</td>\n",
       "      <td>NaN</td>\n",
       "      <td>NaN</td>\n",
       "      <td>NaN</td>\n",
       "    </tr>\n",
       "    <tr>\n",
       "      <th>14150364</th>\n",
       "      <td>NaN</td>\n",
       "      <td>NaN</td>\n",
       "      <td>NaN</td>\n",
       "      <td>NaN</td>\n",
       "      <td>NaN</td>\n",
       "      <td>NaN</td>\n",
       "      <td>NaN</td>\n",
       "      <td>NaN</td>\n",
       "      <td>NaN</td>\n",
       "      <td>NaN</td>\n",
       "      <td>...</td>\n",
       "      <td>NaN</td>\n",
       "      <td>NaN</td>\n",
       "      <td>NaN</td>\n",
       "      <td>NaN</td>\n",
       "      <td>NaN</td>\n",
       "      <td>NaN</td>\n",
       "      <td>NaN</td>\n",
       "      <td>NaN</td>\n",
       "      <td>NaN</td>\n",
       "      <td>NaN</td>\n",
       "    </tr>\n",
       "    <tr>\n",
       "      <th>14184045</th>\n",
       "      <td>NaN</td>\n",
       "      <td>NaN</td>\n",
       "      <td>NaN</td>\n",
       "      <td>NaN</td>\n",
       "      <td>NaN</td>\n",
       "      <td>NaN</td>\n",
       "      <td>NaN</td>\n",
       "      <td>NaN</td>\n",
       "      <td>NaN</td>\n",
       "      <td>NaN</td>\n",
       "      <td>...</td>\n",
       "      <td>NaN</td>\n",
       "      <td>NaN</td>\n",
       "      <td>NaN</td>\n",
       "      <td>NaN</td>\n",
       "      <td>NaN</td>\n",
       "      <td>NaN</td>\n",
       "      <td>NaN</td>\n",
       "      <td>NaN</td>\n",
       "      <td>NaN</td>\n",
       "      <td>NaN</td>\n",
       "    </tr>\n",
       "  </tbody>\n",
       "</table>\n",
       "<p>23695 rows × 11936 columns</p>\n",
       "</div>"
      ],
      "text/plain": [
       "user_id   0      1      2      3      4      5      6      7      8      \\\n",
       "work                                                                      \n",
       "17          NaN    NaN    NaN    NaN    NaN    NaN    NaN    NaN    NaN   \n",
       "26          NaN    NaN    NaN    NaN    NaN    NaN    NaN    NaN    NaN   \n",
       "39          NaN    NaN    NaN    NaN    NaN    NaN    NaN    NaN    NaN   \n",
       "42          NaN    NaN    NaN    NaN    NaN    NaN    NaN    NaN    NaN   \n",
       "95          NaN    NaN    NaN    NaN    NaN    NaN    NaN    NaN    NaN   \n",
       "...         ...    ...    ...    ...    ...    ...    ...    ...    ...   \n",
       "14038411    NaN    NaN    NaN    NaN    NaN    NaN    NaN    NaN    NaN   \n",
       "14059398    NaN    NaN    NaN    NaN    NaN    NaN    NaN    NaN    NaN   \n",
       "14059400    NaN    NaN    NaN    NaN    NaN    NaN    NaN    NaN    NaN   \n",
       "14150364    NaN    NaN    NaN    NaN    NaN    NaN    NaN    NaN    NaN   \n",
       "14184045    NaN    NaN    NaN    NaN    NaN    NaN    NaN    NaN    NaN   \n",
       "\n",
       "user_id   10     ...  48512  48587  48949  48997  49380  49671  49832  50517  \\\n",
       "work             ...                                                           \n",
       "17          NaN  ...    NaN    NaN    NaN    NaN    NaN    NaN    NaN    NaN   \n",
       "26          NaN  ...    NaN    NaN    NaN    NaN    NaN    NaN    NaN    NaN   \n",
       "39          NaN  ...    NaN    NaN    NaN    NaN    NaN    NaN    NaN    NaN   \n",
       "42          NaN  ...    NaN    NaN    NaN    NaN    NaN    NaN    NaN    NaN   \n",
       "95          NaN  ...    NaN    NaN    NaN    NaN    NaN    NaN    NaN    NaN   \n",
       "...         ...  ...    ...    ...    ...    ...    ...    ...    ...    ...   \n",
       "14038411    NaN  ...    NaN    NaN    NaN    NaN    NaN    NaN    NaN    NaN   \n",
       "14059398    NaN  ...    NaN    NaN    NaN    NaN    NaN    NaN    NaN    NaN   \n",
       "14059400    NaN  ...    NaN    NaN    NaN    NaN    NaN    NaN    NaN    NaN   \n",
       "14150364    NaN  ...    NaN    NaN    NaN    NaN    NaN    NaN    NaN    NaN   \n",
       "14184045    NaN  ...    NaN    NaN    NaN    NaN    NaN    NaN    NaN    NaN   \n",
       "\n",
       "user_id   53295  54331  \n",
       "work                    \n",
       "17          NaN    NaN  \n",
       "26          NaN    NaN  \n",
       "39          NaN    NaN  \n",
       "42          NaN    NaN  \n",
       "95          NaN    NaN  \n",
       "...         ...    ...  \n",
       "14038411    NaN    NaN  \n",
       "14059398    NaN    NaN  \n",
       "14059400    NaN    NaN  \n",
       "14150364    NaN    NaN  \n",
       "14184045    NaN    NaN  \n",
       "\n",
       "[23695 rows x 11936 columns]"
      ]
     },
     "execution_count": 32,
     "metadata": {},
     "output_type": "execute_result"
    }
   ],
   "source": [
    "normalized_ratings_matrix_i = result_df_i.subtract(result_df_i.mean(axis=1), axis=0)\n",
    "normalized_ratings_matrix_i"
   ]
  },
  {
   "cell_type": "markdown",
   "id": "11f6e0b7",
   "metadata": {},
   "source": [
    "> Calculating a similarity matrix using pearson's correlation."
   ]
  },
  {
   "cell_type": "code",
   "execution_count": 33,
   "id": "ec307afb",
   "metadata": {
    "scrolled": false
   },
   "outputs": [
    {
     "data": {
      "text/html": [
       "<div>\n",
       "<style scoped>\n",
       "    .dataframe tbody tr th:only-of-type {\n",
       "        vertical-align: middle;\n",
       "    }\n",
       "\n",
       "    .dataframe tbody tr th {\n",
       "        vertical-align: top;\n",
       "    }\n",
       "\n",
       "    .dataframe thead th {\n",
       "        text-align: right;\n",
       "    }\n",
       "</style>\n",
       "<table border=\"1\" class=\"dataframe\">\n",
       "  <thead>\n",
       "    <tr style=\"text-align: right;\">\n",
       "      <th>work</th>\n",
       "      <th>17</th>\n",
       "      <th>26</th>\n",
       "      <th>39</th>\n",
       "      <th>42</th>\n",
       "      <th>95</th>\n",
       "      <th>102</th>\n",
       "      <th>107</th>\n",
       "      <th>109</th>\n",
       "      <th>111</th>\n",
       "      <th>113</th>\n",
       "      <th>...</th>\n",
       "      <th>13916138</th>\n",
       "      <th>13992951</th>\n",
       "      <th>14027081</th>\n",
       "      <th>14032585</th>\n",
       "      <th>14036722</th>\n",
       "      <th>14038411</th>\n",
       "      <th>14059398</th>\n",
       "      <th>14059400</th>\n",
       "      <th>14150364</th>\n",
       "      <th>14184045</th>\n",
       "    </tr>\n",
       "    <tr>\n",
       "      <th>work</th>\n",
       "      <th></th>\n",
       "      <th></th>\n",
       "      <th></th>\n",
       "      <th></th>\n",
       "      <th></th>\n",
       "      <th></th>\n",
       "      <th></th>\n",
       "      <th></th>\n",
       "      <th></th>\n",
       "      <th></th>\n",
       "      <th></th>\n",
       "      <th></th>\n",
       "      <th></th>\n",
       "      <th></th>\n",
       "      <th></th>\n",
       "      <th></th>\n",
       "      <th></th>\n",
       "      <th></th>\n",
       "      <th></th>\n",
       "      <th></th>\n",
       "      <th></th>\n",
       "    </tr>\n",
       "  </thead>\n",
       "  <tbody>\n",
       "    <tr>\n",
       "      <th>17</th>\n",
       "      <td>1.0</td>\n",
       "      <td>NaN</td>\n",
       "      <td>1.0</td>\n",
       "      <td>NaN</td>\n",
       "      <td>NaN</td>\n",
       "      <td>NaN</td>\n",
       "      <td>NaN</td>\n",
       "      <td>NaN</td>\n",
       "      <td>NaN</td>\n",
       "      <td>-1.000000</td>\n",
       "      <td>...</td>\n",
       "      <td>NaN</td>\n",
       "      <td>NaN</td>\n",
       "      <td>NaN</td>\n",
       "      <td>NaN</td>\n",
       "      <td>NaN</td>\n",
       "      <td>NaN</td>\n",
       "      <td>NaN</td>\n",
       "      <td>NaN</td>\n",
       "      <td>NaN</td>\n",
       "      <td>NaN</td>\n",
       "    </tr>\n",
       "    <tr>\n",
       "      <th>26</th>\n",
       "      <td>NaN</td>\n",
       "      <td>1.0</td>\n",
       "      <td>NaN</td>\n",
       "      <td>NaN</td>\n",
       "      <td>NaN</td>\n",
       "      <td>NaN</td>\n",
       "      <td>NaN</td>\n",
       "      <td>NaN</td>\n",
       "      <td>NaN</td>\n",
       "      <td>NaN</td>\n",
       "      <td>...</td>\n",
       "      <td>NaN</td>\n",
       "      <td>NaN</td>\n",
       "      <td>NaN</td>\n",
       "      <td>NaN</td>\n",
       "      <td>NaN</td>\n",
       "      <td>NaN</td>\n",
       "      <td>NaN</td>\n",
       "      <td>NaN</td>\n",
       "      <td>NaN</td>\n",
       "      <td>NaN</td>\n",
       "    </tr>\n",
       "    <tr>\n",
       "      <th>39</th>\n",
       "      <td>1.0</td>\n",
       "      <td>NaN</td>\n",
       "      <td>1.0</td>\n",
       "      <td>NaN</td>\n",
       "      <td>NaN</td>\n",
       "      <td>NaN</td>\n",
       "      <td>NaN</td>\n",
       "      <td>NaN</td>\n",
       "      <td>NaN</td>\n",
       "      <td>0.894427</td>\n",
       "      <td>...</td>\n",
       "      <td>NaN</td>\n",
       "      <td>NaN</td>\n",
       "      <td>NaN</td>\n",
       "      <td>NaN</td>\n",
       "      <td>NaN</td>\n",
       "      <td>NaN</td>\n",
       "      <td>NaN</td>\n",
       "      <td>NaN</td>\n",
       "      <td>NaN</td>\n",
       "      <td>NaN</td>\n",
       "    </tr>\n",
       "    <tr>\n",
       "      <th>42</th>\n",
       "      <td>NaN</td>\n",
       "      <td>NaN</td>\n",
       "      <td>NaN</td>\n",
       "      <td>1.0</td>\n",
       "      <td>NaN</td>\n",
       "      <td>NaN</td>\n",
       "      <td>NaN</td>\n",
       "      <td>NaN</td>\n",
       "      <td>NaN</td>\n",
       "      <td>NaN</td>\n",
       "      <td>...</td>\n",
       "      <td>NaN</td>\n",
       "      <td>NaN</td>\n",
       "      <td>NaN</td>\n",
       "      <td>NaN</td>\n",
       "      <td>NaN</td>\n",
       "      <td>NaN</td>\n",
       "      <td>NaN</td>\n",
       "      <td>NaN</td>\n",
       "      <td>NaN</td>\n",
       "      <td>NaN</td>\n",
       "    </tr>\n",
       "    <tr>\n",
       "      <th>95</th>\n",
       "      <td>NaN</td>\n",
       "      <td>NaN</td>\n",
       "      <td>NaN</td>\n",
       "      <td>NaN</td>\n",
       "      <td>1.0</td>\n",
       "      <td>NaN</td>\n",
       "      <td>NaN</td>\n",
       "      <td>NaN</td>\n",
       "      <td>NaN</td>\n",
       "      <td>NaN</td>\n",
       "      <td>...</td>\n",
       "      <td>NaN</td>\n",
       "      <td>NaN</td>\n",
       "      <td>NaN</td>\n",
       "      <td>NaN</td>\n",
       "      <td>NaN</td>\n",
       "      <td>NaN</td>\n",
       "      <td>NaN</td>\n",
       "      <td>NaN</td>\n",
       "      <td>NaN</td>\n",
       "      <td>NaN</td>\n",
       "    </tr>\n",
       "    <tr>\n",
       "      <th>...</th>\n",
       "      <td>...</td>\n",
       "      <td>...</td>\n",
       "      <td>...</td>\n",
       "      <td>...</td>\n",
       "      <td>...</td>\n",
       "      <td>...</td>\n",
       "      <td>...</td>\n",
       "      <td>...</td>\n",
       "      <td>...</td>\n",
       "      <td>...</td>\n",
       "      <td>...</td>\n",
       "      <td>...</td>\n",
       "      <td>...</td>\n",
       "      <td>...</td>\n",
       "      <td>...</td>\n",
       "      <td>...</td>\n",
       "      <td>...</td>\n",
       "      <td>...</td>\n",
       "      <td>...</td>\n",
       "      <td>...</td>\n",
       "      <td>...</td>\n",
       "    </tr>\n",
       "    <tr>\n",
       "      <th>14038411</th>\n",
       "      <td>NaN</td>\n",
       "      <td>NaN</td>\n",
       "      <td>NaN</td>\n",
       "      <td>NaN</td>\n",
       "      <td>NaN</td>\n",
       "      <td>NaN</td>\n",
       "      <td>NaN</td>\n",
       "      <td>NaN</td>\n",
       "      <td>NaN</td>\n",
       "      <td>-0.065272</td>\n",
       "      <td>...</td>\n",
       "      <td>NaN</td>\n",
       "      <td>NaN</td>\n",
       "      <td>NaN</td>\n",
       "      <td>NaN</td>\n",
       "      <td>1.0</td>\n",
       "      <td>1.0</td>\n",
       "      <td>NaN</td>\n",
       "      <td>NaN</td>\n",
       "      <td>1.0</td>\n",
       "      <td>NaN</td>\n",
       "    </tr>\n",
       "    <tr>\n",
       "      <th>14059398</th>\n",
       "      <td>NaN</td>\n",
       "      <td>NaN</td>\n",
       "      <td>NaN</td>\n",
       "      <td>NaN</td>\n",
       "      <td>NaN</td>\n",
       "      <td>NaN</td>\n",
       "      <td>NaN</td>\n",
       "      <td>NaN</td>\n",
       "      <td>NaN</td>\n",
       "      <td>NaN</td>\n",
       "      <td>...</td>\n",
       "      <td>NaN</td>\n",
       "      <td>NaN</td>\n",
       "      <td>NaN</td>\n",
       "      <td>NaN</td>\n",
       "      <td>NaN</td>\n",
       "      <td>NaN</td>\n",
       "      <td>1.0</td>\n",
       "      <td>NaN</td>\n",
       "      <td>NaN</td>\n",
       "      <td>NaN</td>\n",
       "    </tr>\n",
       "    <tr>\n",
       "      <th>14059400</th>\n",
       "      <td>NaN</td>\n",
       "      <td>NaN</td>\n",
       "      <td>NaN</td>\n",
       "      <td>NaN</td>\n",
       "      <td>NaN</td>\n",
       "      <td>NaN</td>\n",
       "      <td>NaN</td>\n",
       "      <td>NaN</td>\n",
       "      <td>NaN</td>\n",
       "      <td>0.188982</td>\n",
       "      <td>...</td>\n",
       "      <td>NaN</td>\n",
       "      <td>NaN</td>\n",
       "      <td>NaN</td>\n",
       "      <td>NaN</td>\n",
       "      <td>NaN</td>\n",
       "      <td>NaN</td>\n",
       "      <td>NaN</td>\n",
       "      <td>1.0</td>\n",
       "      <td>NaN</td>\n",
       "      <td>NaN</td>\n",
       "    </tr>\n",
       "    <tr>\n",
       "      <th>14150364</th>\n",
       "      <td>NaN</td>\n",
       "      <td>NaN</td>\n",
       "      <td>NaN</td>\n",
       "      <td>NaN</td>\n",
       "      <td>NaN</td>\n",
       "      <td>NaN</td>\n",
       "      <td>NaN</td>\n",
       "      <td>NaN</td>\n",
       "      <td>NaN</td>\n",
       "      <td>NaN</td>\n",
       "      <td>...</td>\n",
       "      <td>NaN</td>\n",
       "      <td>NaN</td>\n",
       "      <td>NaN</td>\n",
       "      <td>NaN</td>\n",
       "      <td>NaN</td>\n",
       "      <td>1.0</td>\n",
       "      <td>NaN</td>\n",
       "      <td>NaN</td>\n",
       "      <td>1.0</td>\n",
       "      <td>NaN</td>\n",
       "    </tr>\n",
       "    <tr>\n",
       "      <th>14184045</th>\n",
       "      <td>NaN</td>\n",
       "      <td>NaN</td>\n",
       "      <td>NaN</td>\n",
       "      <td>NaN</td>\n",
       "      <td>NaN</td>\n",
       "      <td>NaN</td>\n",
       "      <td>NaN</td>\n",
       "      <td>NaN</td>\n",
       "      <td>NaN</td>\n",
       "      <td>0.254824</td>\n",
       "      <td>...</td>\n",
       "      <td>NaN</td>\n",
       "      <td>NaN</td>\n",
       "      <td>NaN</td>\n",
       "      <td>NaN</td>\n",
       "      <td>NaN</td>\n",
       "      <td>NaN</td>\n",
       "      <td>NaN</td>\n",
       "      <td>NaN</td>\n",
       "      <td>NaN</td>\n",
       "      <td>1.0</td>\n",
       "    </tr>\n",
       "  </tbody>\n",
       "</table>\n",
       "<p>23695 rows × 23695 columns</p>\n",
       "</div>"
      ],
      "text/plain": [
       "work      17        26        39        42        95        102       \\\n",
       "work                                                                   \n",
       "17             1.0       NaN       1.0       NaN       NaN       NaN   \n",
       "26             NaN       1.0       NaN       NaN       NaN       NaN   \n",
       "39             1.0       NaN       1.0       NaN       NaN       NaN   \n",
       "42             NaN       NaN       NaN       1.0       NaN       NaN   \n",
       "95             NaN       NaN       NaN       NaN       1.0       NaN   \n",
       "...            ...       ...       ...       ...       ...       ...   \n",
       "14038411       NaN       NaN       NaN       NaN       NaN       NaN   \n",
       "14059398       NaN       NaN       NaN       NaN       NaN       NaN   \n",
       "14059400       NaN       NaN       NaN       NaN       NaN       NaN   \n",
       "14150364       NaN       NaN       NaN       NaN       NaN       NaN   \n",
       "14184045       NaN       NaN       NaN       NaN       NaN       NaN   \n",
       "\n",
       "work      107       109       111       113       ...  13916138  13992951  \\\n",
       "work                                              ...                       \n",
       "17             NaN       NaN       NaN -1.000000  ...       NaN       NaN   \n",
       "26             NaN       NaN       NaN       NaN  ...       NaN       NaN   \n",
       "39             NaN       NaN       NaN  0.894427  ...       NaN       NaN   \n",
       "42             NaN       NaN       NaN       NaN  ...       NaN       NaN   \n",
       "95             NaN       NaN       NaN       NaN  ...       NaN       NaN   \n",
       "...            ...       ...       ...       ...  ...       ...       ...   \n",
       "14038411       NaN       NaN       NaN -0.065272  ...       NaN       NaN   \n",
       "14059398       NaN       NaN       NaN       NaN  ...       NaN       NaN   \n",
       "14059400       NaN       NaN       NaN  0.188982  ...       NaN       NaN   \n",
       "14150364       NaN       NaN       NaN       NaN  ...       NaN       NaN   \n",
       "14184045       NaN       NaN       NaN  0.254824  ...       NaN       NaN   \n",
       "\n",
       "work      14027081  14032585  14036722  14038411  14059398  14059400  \\\n",
       "work                                                                   \n",
       "17             NaN       NaN       NaN       NaN       NaN       NaN   \n",
       "26             NaN       NaN       NaN       NaN       NaN       NaN   \n",
       "39             NaN       NaN       NaN       NaN       NaN       NaN   \n",
       "42             NaN       NaN       NaN       NaN       NaN       NaN   \n",
       "95             NaN       NaN       NaN       NaN       NaN       NaN   \n",
       "...            ...       ...       ...       ...       ...       ...   \n",
       "14038411       NaN       NaN       1.0       1.0       NaN       NaN   \n",
       "14059398       NaN       NaN       NaN       NaN       1.0       NaN   \n",
       "14059400       NaN       NaN       NaN       NaN       NaN       1.0   \n",
       "14150364       NaN       NaN       NaN       1.0       NaN       NaN   \n",
       "14184045       NaN       NaN       NaN       NaN       NaN       NaN   \n",
       "\n",
       "work      14150364  14184045  \n",
       "work                          \n",
       "17             NaN       NaN  \n",
       "26             NaN       NaN  \n",
       "39             NaN       NaN  \n",
       "42             NaN       NaN  \n",
       "95             NaN       NaN  \n",
       "...            ...       ...  \n",
       "14038411       1.0       NaN  \n",
       "14059398       NaN       NaN  \n",
       "14059400       NaN       NaN  \n",
       "14150364       1.0       NaN  \n",
       "14184045       NaN       1.0  \n",
       "\n",
       "[23695 rows x 23695 columns]"
      ]
     },
     "execution_count": 33,
     "metadata": {},
     "output_type": "execute_result"
    }
   ],
   "source": [
    "similarity_matrix_i = result_df.T.corr()\n",
    "similarity_matrix_i"
   ]
  },
  {
   "cell_type": "markdown",
   "id": "93bd5ce5",
   "metadata": {},
   "source": [
    "> Finding the mean ratings"
   ]
  },
  {
   "cell_type": "code",
   "execution_count": 41,
   "id": "7f50168b",
   "metadata": {},
   "outputs": [
    {
     "data": {
      "text/plain": [
       "work\n",
       "17          3.809524\n",
       "26          3.100000\n",
       "39          4.234043\n",
       "42          3.875000\n",
       "95          4.100000\n",
       "              ...   \n",
       "14038411    4.016854\n",
       "14059398    3.642857\n",
       "14059400    3.421053\n",
       "14150364    3.906250\n",
       "14184045    4.361111\n",
       "Length: 23695, dtype: float64"
      ]
     },
     "execution_count": 41,
     "metadata": {},
     "output_type": "execute_result"
    }
   ],
   "source": [
    "item_means = result_df_i.mean(axis=1)\n",
    "item_means"
   ]
  },
  {
   "cell_type": "markdown",
   "id": "5888cbd5",
   "metadata": {},
   "source": [
    "> Function that calculates a predicted rating for a given user (u) and item (i)"
   ]
  },
  {
   "cell_type": "code",
   "execution_count": 42,
   "id": "facf92f9",
   "metadata": {},
   "outputs": [],
   "source": [
    "result_df_i_T = result_df_i.T"
   ]
  },
  {
   "cell_type": "code",
   "execution_count": 43,
   "id": "8d20c7dd",
   "metadata": {},
   "outputs": [],
   "source": [
    "def calculate_score_i(u, i):\n",
    "    if u not in result_df_i_T.index:\n",
    "        return 2.5\n",
    "    \n",
    "    if i not in normalized_ratings_matrix_i.index:\n",
    "        return 2.5\n",
    "\n",
    "    \n",
    "    similarity_scores = similarity_matrix_i[i].drop(index=i, errors='ignore')\n",
    "    normalized_ratings = normalized_ratings_matrix_i[u].drop(index=i, errors='ignore')\n",
    "    normalized_ratings.dropna(inplace=True)\n",
    "    similarity_scores.dropna(inplace=True)\n",
    "    common_users = normalized_ratings.index.intersection(similarity_scores.index)\n",
    "\n",
    "\n",
    "    similarity_scores = similarity_scores.loc[common_users]\n",
    "    normalized_ratings = normalized_ratings.loc[common_users]\n",
    "\n",
    "    if similarity_scores.empty or normalized_ratings.empty:\n",
    "        return 2.5\n",
    "    total_score = (normalized_ratings * similarity_scores).sum().sum()\n",
    "    total_weight = np.sum(np.abs(similarity_scores))\n",
    "    if total_weight == 0:\n",
    "        return 2.5\n",
    "\n",
    "    avg_item_rating = item_means.loc[i]\n",
    "    return avg_item_rating + (total_score / total_weight)"
   ]
  },
  {
   "cell_type": "code",
   "execution_count": 44,
   "id": "86cc5b31",
   "metadata": {},
   "outputs": [
    {
     "data": {
      "text/plain": [
       "4.094634312313114"
      ]
     },
     "execution_count": 44,
     "metadata": {},
     "output_type": "execute_result"
    }
   ],
   "source": [
    "calculate_score_i(3,17)"
   ]
  },
  {
   "cell_type": "markdown",
   "id": "3aff907c",
   "metadata": {},
   "source": [
    "> Testing the system's performance on a random sample of 1000 ratings from the dataset and evaluating its accuracy using the root mean squared error (RMSE) metric."
   ]
  },
  {
   "cell_type": "code",
   "execution_count": 45,
   "id": "c3469fa9",
   "metadata": {},
   "outputs": [
    {
     "name": "stdout",
     "output_type": "stream",
     "text": [
      "0.6091620128385276\n"
     ]
    }
   ],
   "source": [
    "test = filtered_df_i.sample(1000)\n",
    "test_ratings = np.array(test[\"stars\"])\n",
    "user_item_pairs = zip(test[\"user_id\"], test[\"work\"])\n",
    "pred_ratings = np.array([calculate_score_i(user_id, work) for (user_id, work) in user_item_pairs])\n",
    "print(np.sqrt(mean_squared_error(test_ratings, pred_ratings)))"
   ]
  },
  {
   "cell_type": "code",
   "execution_count": 46,
   "id": "6f498dba",
   "metadata": {},
   "outputs": [
    {
     "data": {
      "image/png": "[encoded data removed]",
      "text/plain": [
       "<Figure size 800x600 with 1 Axes>"
      ]
     },
     "metadata": {},
     "output_type": "display_data"
    },
    {
     "name": "stdout",
     "output_type": "stream",
     "text": [
      "Call 1 - MSE: 0.6143\n",
      "Call 2 - MSE: 0.5947\n",
      "Call 3 - MSE: 0.5961\n",
      "Call 4 - MSE: 0.5994\n",
      "Call 5 - MSE: 0.5797\n"
     ]
    }
   ],
   "source": [
    "#plot\n",
    "num_calls = 5\n",
    "mse_values = []\n",
    "for call_num in range(num_calls):\n",
    "    test = filtered_df_i.sample(1000)\n",
    "    test_ratings = np.array(test[\"stars\"])\n",
    "    user_item_pairs = zip(test[\"user_id\"], test[\"work\"])\n",
    "    pred_ratings = np.array([calculate_score_i(user_id, work) for (user_id, work) in user_item_pairs])\n",
    "\n",
    "    mse = np.sqrt(mean_squared_error(test_ratings, pred_ratings))\n",
    "    mse_values.append(mse)\n",
    "plt.figure(figsize=(8, 6))\n",
    "plt.plot(range(1, num_calls + 1), mse_values, marker='o')\n",
    "plt.title('MSE Values for Five Different Calls')\n",
    "plt.xlabel('Call Number')\n",
    "plt.ylabel('MSE')\n",
    "plt.show()\n",
    "\n",
    "for call_num, mse in enumerate(mse_values):\n",
    "    print(f'Call {call_num + 1} - MSE: {mse:.4f}')"
   ]
  },
  {
   "cell_type": "markdown",
   "id": "4611d58e",
   "metadata": {},
   "source": [
    "#### Recommendation function."
   ]
  },
  {
   "cell_type": "code",
   "execution_count": 47,
   "id": "99041e76",
   "metadata": {},
   "outputs": [],
   "source": [
    "def get_book_name(work_id):\n",
    "    work_id = str(work_id)\n",
    "    url = f'https://www.librarything.com/work/{work_id}'\n",
    "    response = requests.get(url)\n",
    "    if response.status_code == 200:\n",
    "        soup = BeautifulSoup(response.text, 'html.parser')\n",
    "        # Extract the book name from the webpage\n",
    "        book_name_tag = soup.head.title\n",
    "        if book_name_tag:\n",
    "            book_name = book_name_tag.text.strip()\n",
    "            return book_name[:-15]\n",
    "        else:\n",
    "            return f\"Book name not found for work ID {work_id}\"\n",
    "\n",
    "    else:\n",
    "        return f\"Failed to retrieve information for work ID {work_id}. Status code: {response.status_code}\"\n",
    "def get_popular_items(num_items=5):\n",
    "    work_stats = filtered_df_i.groupby('work')['stars'].agg(['mean', 'count'])\n",
    "    \n",
    "    work_stats['popularity_score'] = 0.5 * work_stats['mean'] + 0.5 * (work_stats['count'] / work_stats['count'].max())\n",
    "    \n",
    "    popular_works = work_stats.sort_values(by='popularity_score', ascending=False).head(num_items)\n",
    "    return pd.DataFrame({'work': popular_works.index})\n",
    "def get_seated_works_i(user_id, num_recommendations=5):\n",
    "    user_id = int(user_id)\n",
    "    if user_id not in filtered_df_i['user_id'].unique():\n",
    "        popular_works = get_popular_items(num_recommendations)\n",
    "        popular_works['book_name'] = popular_works['work'].apply(get_book_name)\n",
    "        return popular_works[['work', 'book_name']].to_dict(orient='records')\n",
    "    user_rated_works = filtered_df_i[filtered_df_i['user_id'] == user_id][['work', 'stars']]\n",
    "    all_works = filtered_df_i['work'].unique()\n",
    "    works_to_recommend = set(all_works) - set(user_rated_works['work'])\n",
    "    pred_ratings = [calculate_score_i(user_id, work) for work in works_to_recommend]\n",
    "    recommendations_df = pd.DataFrame({'work': list(works_to_recommend), 'predicted_rating': pred_ratings})\n",
    "    recommendations_df = recommendations_df.sort_values(by='predicted_rating', ascending=False)\n",
    "    top_recommendations = recommendations_df.head(num_recommendations)\n",
    "    # Retrieve book names for recommended works\n",
    "    top_recommendations['book_name'] = top_recommendations['work'].apply(get_book_name)\n",
    "\n",
    "    return top_recommendations[['work', 'book_name']].to_dict(orient='records')"
   ]
  },
  {
   "cell_type": "code",
   "execution_count": 48,
   "id": "041a6db9",
   "metadata": {},
   "outputs": [
    {
     "data": {
      "text/plain": [
       "[{'work': 4979986, 'book_name': 'The Hunger Games by Suzanne Collins'},\n",
       " {'work': 393681, 'book_name': 'The Book Thief by Markus Zusak'},\n",
       " {'work': 12698221,\n",
       "  'book_name': 'A Luminous Future: Growing up in Transylvania in the Shadow of Communism by Teodor Flonta'},\n",
       " {'work': 46079,\n",
       "  'book_name': 'The Valley of Vision: A Collection of Puritan Prayers & Devotions by Arthur Bennett'},\n",
       " {'work': 3874,\n",
       "  'book_name': 'Institutes of the Christian Religion by John Calvin'}]"
      ]
     },
     "execution_count": 48,
     "metadata": {},
     "output_type": "execute_result"
    }
   ],
   "source": [
    "get_seated_works_i(9)"
   ]
  },
  {
   "cell_type": "markdown",
   "id": "68c2baee",
   "metadata": {},
   "source": [
    "#### Running on local-host using Tkinter"
   ]
  },
  {
   "cell_type": "code",
   "execution_count": 138,
   "id": "7397308c",
   "metadata": {},
   "outputs": [
    {
     "name": "stderr",
     "output_type": "stream",
     "text": [
      "/var/folders/kr/f6pdywr55kjgnxhcg_n_j5jr0000gn/T/ipykernel_4441/708434916.py:28: SettingWithCopyWarning: \n",
      "A value is trying to be set on a copy of a slice from a DataFrame.\n",
      "Try using .loc[row_indexer,col_indexer] = value instead\n",
      "\n",
      "See the caveats in the documentation: https://pandas.pydata.org/pandas-docs/stable/user_guide/indexing.html#returning-a-view-versus-a-copy\n",
      "  top_recommendations['book_name'] = top_recommendations['work'].apply(get_book_name)\n"
     ]
    },
    {
     "name": "stdout",
     "output_type": "stream",
     "text": [
      "rd is [{'work': 561832, 'book_name': 'Framed by Frank Cottrell Boyce | LibraryThing'}, {'work': 2419729, 'book_name': 'Red Mandarin Dress by Qiu Xiaolong | LibraryThing'}, {'work': 767021, 'book_name': \"Mom's Cancer by Brian Fies | LibraryThing\"}, {'work': 6166269, 'book_name': 'Before I Lose My Style by Mike Kaspar | LibraryThing'}, {'work': 1362542, 'book_name': 'Crusade in Jeans by Thea Beckman | LibraryThing'}]\n"
     ]
    }
   ],
   "source": [
    "import tkinter as tk\n",
    "from tkinter import Text\n",
    "from tkintermapview import TkinterMapView\n",
    "\n",
    "from tkinterhtml import HtmlFrame\n",
    "from tkintermapview import TkinterMapView\n",
    "\n",
    "class Recommendation:\n",
    "    def __init__(self, root, recommendation_model):\n",
    "        self.root = root\n",
    "        self.root.title(\"Recommendation System\")\n",
    "        self.recommendation_model = recommendation_model\n",
    "\n",
    "        # User ID Input\n",
    "        self.user_id_label = tk.Label(root, text=\"Enter User ID:\")\n",
    "        self.user_id_label.pack()\n",
    "        self.user_id_entry = tk.Entry(root)\n",
    "        self.user_id_entry.pack()\n",
    "\n",
    "        # Button to trigger recommendations\n",
    "        self.recommend_button = tk.Button(root, text=\"Get Recommendations\", command=self.get_recommendations)\n",
    "        self.recommend_button.pack()\n",
    "\n",
    "        # Output Area\n",
    "        self.output_label = tk.Label(root, text=\"Recommendations:\")\n",
    "        self.output_label.pack()\n",
    "        self.output_text = Text(root, height=50, width=100)\n",
    "        self.output_text.pack()\n",
    "\n",
    "    def get_recommendations(self):\n",
    "        user_id = self.user_id_entry.get()\n",
    "\n",
    "        # Placeholder function for recommendation model\n",
    "        r_d = get_seated_works_i(user_id)\n",
    "        print('rd is', r_d)\n",
    "        # Display recommendations\n",
    "        self.output_text.delete(1.0, tk.END)\n",
    "        r_d = pd.DataFrame(r_d, columns=['work','book_name'])\n",
    "        # Check if re_df is available and display it\n",
    "        self.output_text.insert(tk.END, r_d)\n",
    "\n",
    "\n",
    "    def recommendation_model(user_id, search_query):\n",
    "        f_d = None  # DataFrame of recommendations\n",
    "        r_d = None  # Some other recommendation data\n",
    "        recommendations_map = None  # Map data\n",
    "    \n",
    "        f_d, r_d, recommendations_map = reco(user_id,search_query)\n",
    "        return f_d, r_d, recommendations_map\n",
    "\n",
    "def main():\n",
    "    recommendation_model = None\n",
    "\n",
    "    root = tk.Tk()\n",
    "    app = Recommendation(root, recommendation_model)\n",
    "    root.mainloop()\n",
    "\n",
    "if __name__ == \"__main__\":\n",
    "    main()\n"
   ]
  },
  {
   "cell_type": "markdown",
   "id": "5979fcb5",
   "metadata": {},
   "source": [
    "---\n",
    "# 7. Matrix Factorization\n",
    "---"
   ]
  },
  {
   "cell_type": "code",
   "execution_count": 1,
   "id": "c02f5809",
   "metadata": {
    "_cell_guid": "b1076dfc-b9ad-4769-8c92-a6c4dae69d19",
    "_uuid": "8f2839f25d086af736a60e9eeb907d3b93b6e0e5",
    "execution": {
     "iopub.execute_input": "2024-03-07T11:43:43.026666Z",
     "iopub.status.busy": "2024-03-07T11:43:43.026346Z",
     "iopub.status.idle": "2024-03-07T11:43:56.678166Z",
     "shell.execute_reply": "2024-03-07T11:43:56.677156Z",
     "shell.execute_reply.started": "2024-03-07T11:43:43.026633Z"
    },
    "id": "YL81hroJZQtN"
   },
   "outputs": [],
   "source": [
    "import numpy as np\n",
    "import pandas as pd\n",
    "\n",
    "from sklearn.model_selection import train_test_split\n",
    "\n",
    "import tensorflow as tf\n",
    "from tensorflow import keras"
   ]
  },
  {
   "cell_type": "code",
   "execution_count": 4,
   "id": "c8ca612f",
   "metadata": {
    "colab": {
     "base_uri": "https://localhost:8080/"
    },
    "execution": {
     "iopub.execute_input": "2024-03-06T17:57:56.973652Z",
     "iopub.status.busy": "2024-03-06T17:57:56.973387Z",
     "iopub.status.idle": "2024-03-06T17:57:57.235894Z",
     "shell.execute_reply": "2024-03-06T17:57:57.234913Z",
     "shell.execute_reply.started": "2024-03-06T17:57:56.973629Z"
    },
    "id": "BCg1yHC0ZQtO",
    "outputId": "a14d4bbe-cee9-4dca-c297-124724bf250a"
   },
   "outputs": [
    {
     "name": "stdout",
     "output_type": "stream",
     "text": [
      "[PhysicalDevice(name='/physical_device:GPU:0', device_type='GPU')]\n"
     ]
    }
   ],
   "source": [
    "print(tf.config.list_physical_devices('GPU'))"
   ]
  },
  {
   "cell_type": "code",
   "execution_count": 21,
   "id": "2af2d264",
   "metadata": {
    "execution": {
     "iopub.execute_input": "2024-03-06T17:57:57.386539Z",
     "iopub.status.busy": "2024-03-06T17:57:57.384457Z",
     "iopub.status.idle": "2024-03-06T17:57:57.824087Z",
     "shell.execute_reply": "2024-03-06T17:57:57.823262Z",
     "shell.execute_reply.started": "2024-03-06T17:57:57.386499Z"
    },
    "id": "Ubft7FqaZQtR"
   },
   "outputs": [],
   "source": [
    "train = pd.read_csv('/kaggle/input/data-mf/Train_data.csv')\n",
    "test = pd.read_csv('/kaggle/input/data-mf/Test_leave_one_out.csv')"
   ]
  },
  {
   "cell_type": "code",
   "execution_count": 22,
   "id": "5b8da664",
   "metadata": {
    "execution": {
     "iopub.execute_input": "2024-03-06T17:58:05.124222Z",
     "iopub.status.busy": "2024-03-06T17:58:05.123467Z",
     "iopub.status.idle": "2024-03-06T17:58:05.128729Z",
     "shell.execute_reply": "2024-03-06T17:58:05.127488Z",
     "shell.execute_reply.started": "2024-03-06T17:58:05.124190Z"
    },
    "id": "Dj2fB9agZQtS"
   },
   "outputs": [],
   "source": [
    "n_latent_factors= 50\n",
    "n_users = len(train['user_id'].unique())\n",
    "n_books = len(train['work'].unique())"
   ]
  },
  {
   "cell_type": "code",
   "execution_count": 23,
   "id": "5bf6e926",
   "metadata": {
    "execution": {
     "iopub.execute_input": "2024-03-06T17:58:06.973141Z",
     "iopub.status.busy": "2024-03-06T17:58:06.972767Z",
     "iopub.status.idle": "2024-03-06T17:58:06.977445Z",
     "shell.execute_reply": "2024-03-06T17:58:06.976445Z",
     "shell.execute_reply.started": "2024-03-06T17:58:06.973110Z"
    },
    "id": "F3FE2Em4ZQtS"
   },
   "outputs": [],
   "source": [
    "batch_size=32\n",
    "epochs=50"
   ]
  },
  {
   "cell_type": "code",
   "execution_count": 26,
   "id": "b8cff287",
   "metadata": {
    "execution": {
     "iopub.execute_input": "2024-03-06T17:59:20.288784Z",
     "iopub.status.busy": "2024-03-06T17:59:20.287942Z",
     "iopub.status.idle": "2024-03-06T17:59:20.299100Z",
     "shell.execute_reply": "2024-03-06T17:59:20.298091Z",
     "shell.execute_reply.started": "2024-03-06T17:59:20.288749Z"
    },
    "id": "V9sr6lRKZQtS"
   },
   "outputs": [],
   "source": [
    "from keras import saving\n",
    "@saving.register_keras_serializable('My_layers')\n",
    "class MF_Model(keras.Model):\n",
    "    def __init__(self, n_users, n_books, n_latent_factors, dropout_rate= 0.3, **kwargs):\n",
    "        super(MF_Model, self).__init__(**kwargs)\n",
    "\n",
    "        self.n_users = n_users\n",
    "        self.n_books = n_books\n",
    "        self.n_latent_factors = n_latent_factors\n",
    "        self.dropout_rate = dropout_rate\n",
    "\n",
    "        self.user_embedding = keras.layers.Embedding(n_users, n_latent_factors, name='user_embedding')\n",
    "        self.book_embedding = keras.layers.Embedding(n_books, n_latent_factors, name='book_embedding')\n",
    "\n",
    "\n",
    "        self.user_flatten = keras.layers.Flatten(name='FlattenUsers')\n",
    "        self.book_flatten = keras.layers.Flatten(name='FlattenBooks')\n",
    "\n",
    "        self.dot_sim = keras.layers.Dot(axes=1, name='Similarity-Dot-Product')\n",
    "\n",
    "    def call(self, inputs):\n",
    "        user_input, book_input = inputs\n",
    "        user_embedding = self.user_embedding(user_input)\n",
    "        book_embedding = self.book_embedding(book_input)\n",
    "\n",
    "\n",
    "        user_vec = self.user_flatten(user_embedding)\n",
    "        book_vec = self.book_flatten(book_embedding)\n",
    "\n",
    "        sim = self.dot_sim([user_vec, book_vec])\n",
    "\n",
    "        return sim\n",
    "\n",
    "    def get_config(self):\n",
    "      config = super().get_config()\n",
    "      config.update({\n",
    "          'n_users': self.n_users,\n",
    "          'n_books': self.n_books,\n",
    "          'n_latent_factors': self.n_latent_factors,\n",
    "          'dropout_rate': self.dropout_rate\n",
    "      })\n",
    "\n",
    "      return config\n",
    "\n"
   ]
  },
  {
   "cell_type": "markdown",
   "id": "249fc3ff",
   "metadata": {},
   "source": [
    "- In this method, we have used neural network to find out the latent matrix of the users and the books. We have used Embedding layer to predict the latent factor matrices."
   ]
  },
  {
   "cell_type": "code",
   "execution_count": 27,
   "id": "f367e305",
   "metadata": {
    "execution": {
     "iopub.execute_input": "2024-03-06T17:59:24.410197Z",
     "iopub.status.busy": "2024-03-06T17:59:24.409478Z",
     "iopub.status.idle": "2024-03-06T17:59:24.416690Z",
     "shell.execute_reply": "2024-03-06T17:59:24.415639Z",
     "shell.execute_reply.started": "2024-03-06T17:59:24.410155Z"
    },
    "id": "LNJoBaZSZQtT"
   },
   "outputs": [],
   "source": [
    "checkpoint_cb = keras.callbacks.ModelCheckpoint(\"MF_model_Preyali.keras\", save_best_only=True, monitor='val_loss')\n",
    "early_stopping_cb = keras.callbacks.EarlyStopping(patience=5, restore_best_weights=True)\n",
    "lr_decay_cb = keras.callbacks.ReduceLROnPlateau(monitor='loss', patience=1, factor=0.5, min_lr=1e-8)"
   ]
  },
  {
   "cell_type": "code",
   "execution_count": 28,
   "id": "e729e0e9",
   "metadata": {
    "execution": {
     "iopub.execute_input": "2024-03-06T17:59:25.351188Z",
     "iopub.status.busy": "2024-03-06T17:59:25.350373Z",
     "iopub.status.idle": "2024-03-06T17:59:25.363826Z",
     "shell.execute_reply": "2024-03-06T17:59:25.362835Z",
     "shell.execute_reply.started": "2024-03-06T17:59:25.351153Z"
    },
    "id": "k1HuF8XgZQtT"
   },
   "outputs": [],
   "source": [
    "model = MF_Model(n_users, n_books, n_latent_factors)"
   ]
  },
  {
   "cell_type": "code",
   "execution_count": 29,
   "id": "9859871a",
   "metadata": {
    "execution": {
     "iopub.execute_input": "2024-03-06T17:59:26.441606Z",
     "iopub.status.busy": "2024-03-06T17:59:26.440894Z",
     "iopub.status.idle": "2024-03-06T17:59:26.901330Z",
     "shell.execute_reply": "2024-03-06T17:59:26.900517Z",
     "shell.execute_reply.started": "2024-03-06T17:59:26.441575Z"
    },
    "id": "2HWu8TqtZQtT"
   },
   "outputs": [],
   "source": [
    "model.compile(optimizer=tf.optimizers.Adam(), loss='mse', metrics=['mae', keras.metrics.R2Score()])"
   ]
  },
  {
   "cell_type": "code",
   "execution_count": 30,
   "id": "cbbd183e",
   "metadata": {
    "colab": {
     "base_uri": "https://localhost:8080/",
     "height": 351
    },
    "execution": {
     "iopub.execute_input": "2024-03-06T17:59:28.518627Z",
     "iopub.status.busy": "2024-03-06T17:59:28.518168Z",
     "iopub.status.idle": "2024-03-06T18:12:52.312219Z",
     "shell.execute_reply": "2024-03-06T18:12:52.311305Z",
     "shell.execute_reply.started": "2024-03-06T17:59:28.518591Z"
    },
    "id": "BP_8ENM3ZQtT",
    "outputId": "22b77468-3800-4fcc-9576-a9a004d76a12"
   },
   "outputs": [
    {
     "name": "stdout",
     "output_type": "stream",
     "text": [
      "Epoch 1/50\n",
      "\u001b[1m   33/15987\u001b[0m \u001b[37m━━━━━━━━━━━━━━━━━━━━\u001b[0m \u001b[1m1:16\u001b[0m 5ms/step - loss: 15.3620 - mae: 3.7991 - r2_score: -15.6752"
     ]
    },
    {
     "name": "stderr",
     "output_type": "stream",
     "text": [
      "WARNING: All log messages before absl::InitializeLog() is called are written to STDERR\n",
      "I0000 00:00:1709747970.586989     133 device_compiler.h:186] Compiled cluster using XLA!  This line is logged at most once for the lifetime of the process.\n"
     ]
    },
    {
     "name": "stdout",
     "output_type": "stream",
     "text": [
      "\u001b[1m15987/15987\u001b[0m \u001b[32m━━━━━━━━━━━━━━━━━━━━\u001b[0m\u001b[37m\u001b[0m \u001b[1m77s\u001b[0m 5ms/step - loss: 14.2172 - mae: 3.6053 - r2_score: -14.2246 - val_loss: 5.6159 - val_mae: 1.9589 - val_r2_score: -4.9890 - learning_rate: 0.0010\n",
      "Epoch 2/50\n",
      "\u001b[1m15987/15987\u001b[0m \u001b[32m━━━━━━━━━━━━━━━━━━━━\u001b[0m\u001b[37m\u001b[0m \u001b[1m73s\u001b[0m 5ms/step - loss: 3.6735 - mae: 1.5089 - r2_score: -2.9122 - val_loss: 2.2050 - val_mae: 1.1123 - val_r2_score: -1.3513 - learning_rate: 0.0010\n",
      "Epoch 3/50\n",
      "\u001b[1m15987/15987\u001b[0m \u001b[32m━━━━━━━━━━━━━━━━━━━━\u001b[0m\u001b[37m\u001b[0m \u001b[1m74s\u001b[0m 5ms/step - loss: 1.2623 - mae: 0.8474 - r2_score: -0.3429 - val_loss: 1.5677 - val_mae: 0.9331 - val_r2_score: -0.6719 - learning_rate: 0.0010\n",
      "Epoch 4/50\n",
      "\u001b[1m15987/15987\u001b[0m \u001b[32m━━━━━━━━━━━━━━━━━━━━\u001b[0m\u001b[37m\u001b[0m \u001b[1m74s\u001b[0m 5ms/step - loss: 0.7883 - mae: 0.6740 - r2_score: 0.1570 - val_loss: 1.3973 - val_mae: 0.8868 - val_r2_score: -0.4902 - learning_rate: 0.0010\n",
      "Epoch 5/50\n",
      "\u001b[1m15987/15987\u001b[0m \u001b[32m━━━━━━━━━━━━━━━━━━━━\u001b[0m\u001b[37m\u001b[0m \u001b[1m73s\u001b[0m 5ms/step - loss: 0.5884 - mae: 0.5846 - r2_score: 0.3699 - val_loss: 1.3498 - val_mae: 0.8749 - val_r2_score: -0.4396 - learning_rate: 0.0010\n",
      "Epoch 6/50\n",
      "\u001b[1m15987/15987\u001b[0m \u001b[32m━━━━━━━━━━━━━━━━━━━━\u001b[0m\u001b[37m\u001b[0m \u001b[1m73s\u001b[0m 5ms/step - loss: 0.4460 - mae: 0.5090 - r2_score: 0.5239 - val_loss: 1.3466 - val_mae: 0.8751 - val_r2_score: -0.4361 - learning_rate: 0.0010\n",
      "Epoch 7/50\n",
      "\u001b[1m15987/15987\u001b[0m \u001b[32m━━━━━━━━━━━━━━━━━━━━\u001b[0m\u001b[37m\u001b[0m \u001b[1m72s\u001b[0m 5ms/step - loss: 0.3405 - mae: 0.4453 - r2_score: 0.6366 - val_loss: 1.3651 - val_mae: 0.8824 - val_r2_score: -0.4559 - learning_rate: 0.0010\n",
      "Epoch 8/50\n",
      "\u001b[1m15987/15987\u001b[0m \u001b[32m━━━━━━━━━━━━━━━━━━━━\u001b[0m\u001b[37m\u001b[0m \u001b[1m72s\u001b[0m 4ms/step - loss: 0.2685 - mae: 0.3983 - r2_score: 0.7133 - val_loss: 1.3787 - val_mae: 0.8874 - val_r2_score: -0.4704 - learning_rate: 0.0010\n",
      "Epoch 9/50\n",
      "\u001b[1m15987/15987\u001b[0m \u001b[32m━━━━━━━━━━━━━━━━━━━━\u001b[0m\u001b[37m\u001b[0m \u001b[1m72s\u001b[0m 4ms/step - loss: 0.2193 - mae: 0.3627 - r2_score: 0.7655 - val_loss: 1.3945 - val_mae: 0.8934 - val_r2_score: -0.4873 - learning_rate: 0.0010\n",
      "Epoch 10/50\n",
      "\u001b[1m15987/15987\u001b[0m \u001b[32m━━━━━━━━━━━━━━━━━━━━\u001b[0m\u001b[37m\u001b[0m \u001b[1m72s\u001b[0m 4ms/step - loss: 0.1870 - mae: 0.3383 - r2_score: 0.8007 - val_loss: 1.4065 - val_mae: 0.8983 - val_r2_score: -0.5001 - learning_rate: 0.0010\n",
      "Epoch 11/50\n",
      "\u001b[1m15987/15987\u001b[0m \u001b[32m━━━━━━━━━━━━━━━━━━━━\u001b[0m\u001b[37m\u001b[0m \u001b[1m72s\u001b[0m 4ms/step - loss: 0.1669 - mae: 0.3211 - r2_score: 0.8227 - val_loss: 1.4137 - val_mae: 0.9010 - val_r2_score: -0.5077 - learning_rate: 0.0010\n"
     ]
    }
   ],
   "source": [
    "History = model.fit([train.user_id, train.work], train.stars, batch_size=batch_size, epochs=epochs, validation_split=0.2, callbacks=[checkpoint_cb, early_stopping_cb,lr_decay_cb], verbose=1)"
   ]
  },
  {
   "cell_type": "code",
   "execution_count": 31,
   "id": "87759ba0",
   "metadata": {
    "execution": {
     "iopub.execute_input": "2024-03-06T18:30:48.424575Z",
     "iopub.status.busy": "2024-03-06T18:30:48.423428Z",
     "iopub.status.idle": "2024-03-06T18:30:48.428710Z",
     "shell.execute_reply": "2024-03-06T18:30:48.427636Z",
     "shell.execute_reply.started": "2024-03-06T18:30:48.424539Z"
    },
    "id": "1ZQBZTbGZQtT"
   },
   "outputs": [],
   "source": [
    "import matplotlib.pyplot as plt"
   ]
  },
  {
   "cell_type": "code",
   "execution_count": 32,
   "id": "8a705776",
   "metadata": {
    "colab": {
     "base_uri": "https://localhost:8080/",
     "height": 472
    },
    "execution": {
     "iopub.execute_input": "2024-03-06T18:30:49.601583Z",
     "iopub.status.busy": "2024-03-06T18:30:49.601149Z",
     "iopub.status.idle": "2024-03-06T18:30:49.869582Z",
     "shell.execute_reply": "2024-03-06T18:30:49.868678Z",
     "shell.execute_reply.started": "2024-03-06T18:30:49.601550Z"
    },
    "id": "EeQQ5tP6ZQtT",
    "outputId": "4c6825e9-e701-448d-9962-9b1dcd20bf4e"
   },
   "outputs": [
    {
     "data": {
      "image/png": "[encoded data removed]",
      "text/plain": [
       "<Figure size 640x480 with 1 Axes>"
      ]
     },
     "metadata": {},
     "output_type": "display_data"
    }
   ],
   "source": [
    "plt.plot(History.history['loss'], 'g')\n",
    "plt.plot(History.history['val_loss'], 'b')\n",
    "plt.title('model loss')\n",
    "plt.xlabel('epoch')\n",
    "plt.ylabel('loss')\n",
    "plt.legend(['train', 'test'], loc='upper right')\n",
    "plt.grid(True)\n",
    "plt.show()"
   ]
  },
  {
   "cell_type": "markdown",
   "id": "78828c4d",
   "metadata": {},
   "source": [
    "- We can see the train and validation loss of the model."
   ]
  },
  {
   "cell_type": "code",
   "execution_count": 35,
   "id": "5a020727",
   "metadata": {
    "execution": {
     "iopub.execute_input": "2024-03-06T18:31:21.785692Z",
     "iopub.status.busy": "2024-03-06T18:31:21.785323Z",
     "iopub.status.idle": "2024-03-06T18:31:24.091028Z",
     "shell.execute_reply": "2024-03-06T18:31:24.090053Z",
     "shell.execute_reply.started": "2024-03-06T18:31:21.785665Z"
    },
    "id": "uMaczpncZQtU",
    "outputId": "dd7185d2-050b-436d-fb3a-0d316133f704"
   },
   "outputs": [
    {
     "name": "stdout",
     "output_type": "stream",
     "text": [
      "\u001b[1m989/989\u001b[0m \u001b[32m━━━━━━━━━━━━━━━━━━━━\u001b[0m\u001b[37m\u001b[0m \u001b[1m2s\u001b[0m 1ms/step\n"
     ]
    },
    {
     "data": {
      "text/plain": [
       "array([[ 3.9923649e+00],\n",
       "       [ 1.9760242e+00],\n",
       "       [ 4.5244470e+00],\n",
       "       ...,\n",
       "       [-2.8233815e-02],\n",
       "       [ 3.1641200e-03],\n",
       "       [-1.1413104e-03]], dtype=float32)"
      ]
     },
     "execution_count": 35,
     "metadata": {},
     "output_type": "execute_result"
    }
   ],
   "source": [
    "model.predict([test.user_id, test.work])"
   ]
  },
  {
   "cell_type": "code",
   "execution_count": 37,
   "id": "627bca88",
   "metadata": {
    "colab": {
     "base_uri": "https://localhost:8080/"
    },
    "execution": {
     "iopub.execute_input": "2024-03-06T18:31:35.220459Z",
     "iopub.status.busy": "2024-03-06T18:31:35.219566Z",
     "iopub.status.idle": "2024-03-06T18:31:36.903392Z",
     "shell.execute_reply": "2024-03-06T18:31:36.902452Z",
     "shell.execute_reply.started": "2024-03-06T18:31:35.220425Z"
    },
    "id": "oSRJMZbCZQtU",
    "outputId": "0a5cf2e3-45d1-4090-c9f7-d94ea1a8c9d4"
   },
   "outputs": [
    {
     "name": "stdout",
     "output_type": "stream",
     "text": [
      "\u001b[1m989/989\u001b[0m \u001b[32m━━━━━━━━━━━━━━━━━━━━\u001b[0m\u001b[37m\u001b[0m \u001b[1m2s\u001b[0m 2ms/step - loss: 9.5888 - mae: 2.6368 - r2_score: -7.8812\n"
     ]
    },
    {
     "data": {
      "text/plain": [
       "[12.972250938415527, 3.2604522705078125, -10.465714454650879]"
      ]
     },
     "execution_count": 37,
     "metadata": {},
     "output_type": "execute_result"
    }
   ],
   "source": [
    "model.evaluate([test.user_id, test.work], test.stars)"
   ]
  },
  {
   "cell_type": "markdown",
   "id": "afbcbdb7",
   "metadata": {},
   "source": [
    "- As we can see, the MSE of the training dataset is very high, so we have used another approach to predict the ratings."
   ]
  },
  {
   "cell_type": "code",
   "execution_count": 38,
   "id": "d3ae9611",
   "metadata": {
    "colab": {
     "base_uri": "https://localhost:8080/"
    },
    "execution": {
     "iopub.execute_input": "2024-03-06T18:32:22.518466Z",
     "iopub.status.busy": "2024-03-06T18:32:22.518060Z",
     "iopub.status.idle": "2024-03-06T18:32:22.525038Z",
     "shell.execute_reply": "2024-03-06T18:32:22.524124Z",
     "shell.execute_reply.started": "2024-03-06T18:32:22.518434Z"
    },
    "id": "Mi1k3vl_ZQtU",
    "outputId": "957890e5-5c88-405e-f99a-48b333f687e5"
   },
   "outputs": [
    {
     "data": {
      "text/plain": [
       "3.096578757273905"
      ]
     },
     "execution_count": 38,
     "metadata": {},
     "output_type": "execute_result"
    }
   ],
   "source": [
    "np.sqrt(9.5888)"
   ]
  },
  {
   "cell_type": "code",
   "execution_count": null,
   "id": "8e723fb3",
   "metadata": {
    "id": "B0T2FekZBQp0"
   },
   "outputs": [],
   "source": [
    "def make_recommendations(df, user, model, k = 10):\n",
    "    if not user in user2idx:\n",
    "        return 'Please review more books to get recommendations'\n",
    "    \n",
    "    rated_books = df[df['user_id'] == user]['work']\n",
    "    unrate_books = [i for i in books if i not in rated_books]\n",
    "    unrated_books = pd.DataFrame()\n",
    "    \n",
    "    unrated_books['work'] = unrate_books\n",
    "    \n",
    "    unrated_books['work_id']= unrated_books['work'].apply(lambda x: book2idx[x] if x in book2idx else None)\n",
    "    \n",
    "    unrated_books = unrated_books.dropna()\n",
    "    \n",
    "    unrated_books['user_id'] = user2idx[user]\n",
    "    unrated_books['original_user_id'] = user\n",
    "\n",
    "    unrated_books['rating'] = model.predict([unrated_books['user_id'], unrated_books['work_id']], verbose=0)\n",
    "    \n",
    "    \n",
    "    \n",
    "        \n",
    "    top_k = unrated_books.sort_values('rating', ascending=False).iloc[:k]\n",
    "    avg_ratings = df[df['work'].isin(top_k['work_id'].tolist())][['work', 'avg_rating']]\n",
    "\n",
    "    avg_ratings.drop_duplicates(subset='work', inplace=True)\n",
    "    \n",
    "    avg_ratings.rename(columns={'work': 'work_id'}, inplace=True)\n",
    "    \n",
    "    top_k = top_k.merge(avg_ratings, on='work_id', how='left')\n",
    "\n",
    "\n",
    "    return top_k"
   ]
  },
  {
   "cell_type": "markdown",
   "id": "b436ed2a",
   "metadata": {},
   "source": [
    "---\n",
    "# 8. Neural Network Collaborative Filtering\n",
    "---"
   ]
  },
  {
   "cell_type": "code",
   "execution_count": 133,
   "id": "c3cb55d2",
   "metadata": {
    "_cell_guid": "b1076dfc-b9ad-4769-8c92-a6c4dae69d19",
    "_uuid": "8f2839f25d086af736a60e9eeb907d3b93b6e0e5",
    "execution": {
     "iopub.execute_input": "2024-03-07T09:06:38.813971Z",
     "iopub.status.busy": "2024-03-07T09:06:38.813589Z",
     "iopub.status.idle": "2024-03-07T09:06:38.818616Z",
     "shell.execute_reply": "2024-03-07T09:06:38.817808Z",
     "shell.execute_reply.started": "2024-03-07T09:06:38.813943Z"
    }
   },
   "outputs": [],
   "source": [
    "import numpy as np\n",
    "import pandas as pd\n",
    "\n",
    "from sklearn.model_selection import train_test_split\n",
    "\n",
    "import tensorflow as tf\n",
    "from tensorflow import keras"
   ]
  },
  {
   "cell_type": "code",
   "execution_count": 2,
   "id": "a4c59fcd",
   "metadata": {
    "execution": {
     "iopub.execute_input": "2024-03-07T07:51:21.444319Z",
     "iopub.status.busy": "2024-03-07T07:51:21.443767Z",
     "iopub.status.idle": "2024-03-07T07:51:21.617687Z",
     "shell.execute_reply": "2024-03-07T07:51:21.616723Z",
     "shell.execute_reply.started": "2024-03-07T07:51:21.444292Z"
    }
   },
   "outputs": [
    {
     "name": "stdout",
     "output_type": "stream",
     "text": [
      "[PhysicalDevice(name='/physical_device:GPU:0', device_type='GPU')]\n"
     ]
    }
   ],
   "source": [
    "print(tf.config.list_physical_devices('GPU'))"
   ]
  },
  {
   "cell_type": "code",
   "execution_count": 3,
   "id": "51f7f7c6",
   "metadata": {
    "execution": {
     "iopub.execute_input": "2024-03-07T07:51:53.177893Z",
     "iopub.status.busy": "2024-03-07T07:51:53.177278Z",
     "iopub.status.idle": "2024-03-07T07:52:24.907878Z",
     "shell.execute_reply": "2024-03-07T07:52:24.906972Z",
     "shell.execute_reply.started": "2024-03-07T07:51:53.177861Z"
    }
   },
   "outputs": [],
   "source": [
    "df = pd.read_csv('/kaggle/input/review/cleaned_review.csv')"
   ]
  },
  {
   "cell_type": "code",
   "execution_count": 4,
   "id": "cc8066f0",
   "metadata": {
    "execution": {
     "iopub.execute_input": "2024-03-07T07:52:24.910642Z",
     "iopub.status.busy": "2024-03-07T07:52:24.909908Z",
     "iopub.status.idle": "2024-03-07T07:52:24.931041Z",
     "shell.execute_reply": "2024-03-07T07:52:24.930167Z",
     "shell.execute_reply.started": "2024-03-07T07:52:24.910604Z"
    }
   },
   "outputs": [
    {
     "data": {
      "text/html": [
       "<div>\n",
       "<style scoped>\n",
       "    .dataframe tbody tr th:only-of-type {\n",
       "        vertical-align: middle;\n",
       "    }\n",
       "\n",
       "    .dataframe tbody tr th {\n",
       "        vertical-align: top;\n",
       "    }\n",
       "\n",
       "    .dataframe thead th {\n",
       "        text-align: right;\n",
       "    }\n",
       "</style>\n",
       "<table border=\"1\" class=\"dataframe\">\n",
       "  <thead>\n",
       "    <tr style=\"text-align: right;\">\n",
       "      <th></th>\n",
       "      <th>Unnamed: 0</th>\n",
       "      <th>comment</th>\n",
       "      <th>nhelpful</th>\n",
       "      <th>unixtime</th>\n",
       "      <th>work</th>\n",
       "      <th>user</th>\n",
       "      <th>stars</th>\n",
       "      <th>time</th>\n",
       "      <th>user_id</th>\n",
       "    </tr>\n",
       "  </thead>\n",
       "  <tbody>\n",
       "    <tr>\n",
       "      <th>0</th>\n",
       "      <td>0</td>\n",
       "      <td>Every eveningthe brave queen of PersiaShahraza...</td>\n",
       "      <td>0</td>\n",
       "      <td>1.332288e+09</td>\n",
       "      <td>73960</td>\n",
       "      <td>Elizabeth.Wong98</td>\n",
       "      <td>4.5</td>\n",
       "      <td>Mar 212012</td>\n",
       "      <td>0</td>\n",
       "    </tr>\n",
       "    <tr>\n",
       "      <th>1</th>\n",
       "      <td>1</td>\n",
       "      <td>Its the 1983-84 school year and Edward Zanni o...</td>\n",
       "      <td>0</td>\n",
       "      <td>1.253405e+09</td>\n",
       "      <td>69413</td>\n",
       "      <td>rivkat</td>\n",
       "      <td>3.0</td>\n",
       "      <td>Sep 202009</td>\n",
       "      <td>1</td>\n",
       "    </tr>\n",
       "    <tr>\n",
       "      <th>2</th>\n",
       "      <td>2</td>\n",
       "      <td>I became privy to this bookwhen another author...</td>\n",
       "      <td>0</td>\n",
       "      <td>1.299888e+09</td>\n",
       "      <td>9523995</td>\n",
       "      <td>suz.haugland</td>\n",
       "      <td>4.0</td>\n",
       "      <td>Mar 122011</td>\n",
       "      <td>2</td>\n",
       "    </tr>\n",
       "    <tr>\n",
       "      <th>3</th>\n",
       "      <td>3</td>\n",
       "      <td>.</td>\n",
       "      <td>0</td>\n",
       "      <td>1.327277e+09</td>\n",
       "      <td>368228</td>\n",
       "      <td>amoskovacs</td>\n",
       "      <td>4.0</td>\n",
       "      <td>Jan 232012</td>\n",
       "      <td>3</td>\n",
       "    </tr>\n",
       "    <tr>\n",
       "      <th>4</th>\n",
       "      <td>4</td>\n",
       "      <td>This is a tremendous story of a freed woman an...</td>\n",
       "      <td>0</td>\n",
       "      <td>1.329005e+09</td>\n",
       "      <td>11243828</td>\n",
       "      <td>CandyH</td>\n",
       "      <td>4.0</td>\n",
       "      <td>Feb 122012</td>\n",
       "      <td>4</td>\n",
       "    </tr>\n",
       "  </tbody>\n",
       "</table>\n",
       "</div>"
      ],
      "text/plain": [
       "   Unnamed: 0                                            comment  nhelpful  \\\n",
       "0           0  Every eveningthe brave queen of PersiaShahraza...         0   \n",
       "1           1  Its the 1983-84 school year and Edward Zanni o...         0   \n",
       "2           2  I became privy to this bookwhen another author...         0   \n",
       "3           3                                              .             0   \n",
       "4           4  This is a tremendous story of a freed woman an...         0   \n",
       "\n",
       "       unixtime      work              user  stars        time  user_id  \n",
       "0  1.332288e+09     73960  Elizabeth.Wong98    4.5  Mar 212012        0  \n",
       "1  1.253405e+09     69413            rivkat    3.0  Sep 202009        1  \n",
       "2  1.299888e+09   9523995      suz.haugland    4.0  Mar 122011        2  \n",
       "3  1.327277e+09    368228        amoskovacs    4.0  Jan 232012        3  \n",
       "4  1.329005e+09  11243828            CandyH    4.0  Feb 122012        4  "
      ]
     },
     "execution_count": 4,
     "metadata": {},
     "output_type": "execute_result"
    }
   ],
   "source": [
    "df.head()"
   ]
  },
  {
   "cell_type": "code",
   "execution_count": 5,
   "id": "db92c58a",
   "metadata": {
    "execution": {
     "iopub.execute_input": "2024-03-07T07:52:24.932574Z",
     "iopub.status.busy": "2024-03-07T07:52:24.932237Z",
     "iopub.status.idle": "2024-03-07T07:52:24.938457Z",
     "shell.execute_reply": "2024-03-07T07:52:24.937630Z",
     "shell.execute_reply.started": "2024-03-07T07:52:24.932541Z"
    }
   },
   "outputs": [
    {
     "data": {
      "text/plain": [
       "(1635950, 9)"
      ]
     },
     "execution_count": 5,
     "metadata": {},
     "output_type": "execute_result"
    }
   ],
   "source": [
    "df.shape"
   ]
  },
  {
   "cell_type": "code",
   "execution_count": 6,
   "id": "3f2aaa86",
   "metadata": {
    "execution": {
     "iopub.execute_input": "2024-03-07T07:52:24.941319Z",
     "iopub.status.busy": "2024-03-07T07:52:24.940991Z",
     "iopub.status.idle": "2024-03-07T07:52:24.961169Z",
     "shell.execute_reply": "2024-03-07T07:52:24.960306Z",
     "shell.execute_reply.started": "2024-03-07T07:52:24.941290Z"
    }
   },
   "outputs": [],
   "source": [
    "df_2 = df[['user_id', 'work', 'stars']]"
   ]
  },
  {
   "cell_type": "code",
   "execution_count": 7,
   "id": "e1188312",
   "metadata": {
    "execution": {
     "iopub.execute_input": "2024-03-07T07:52:24.962462Z",
     "iopub.status.busy": "2024-03-07T07:52:24.962216Z",
     "iopub.status.idle": "2024-03-07T07:52:24.967867Z",
     "shell.execute_reply": "2024-03-07T07:52:24.966946Z",
     "shell.execute_reply.started": "2024-03-07T07:52:24.962441Z"
    }
   },
   "outputs": [
    {
     "data": {
      "text/plain": [
       "(1635950, 3)"
      ]
     },
     "execution_count": 7,
     "metadata": {},
     "output_type": "execute_result"
    }
   ],
   "source": [
    "df_2.shape"
   ]
  },
  {
   "cell_type": "code",
   "execution_count": 8,
   "id": "ec087444",
   "metadata": {
    "execution": {
     "iopub.execute_input": "2024-03-07T07:52:24.969568Z",
     "iopub.status.busy": "2024-03-07T07:52:24.969082Z",
     "iopub.status.idle": "2024-03-07T07:52:24.976575Z",
     "shell.execute_reply": "2024-03-07T07:52:24.975744Z",
     "shell.execute_reply.started": "2024-03-07T07:52:24.969536Z"
    }
   },
   "outputs": [],
   "source": [
    "min_user_threshold = 20\n",
    "min_book_threshold = 3.39"
   ]
  },
  {
   "cell_type": "code",
   "execution_count": 9,
   "id": "7a24b65e",
   "metadata": {
    "execution": {
     "iopub.execute_input": "2024-03-07T07:52:24.978196Z",
     "iopub.status.busy": "2024-03-07T07:52:24.977765Z",
     "iopub.status.idle": "2024-03-07T07:52:25.130722Z",
     "shell.execute_reply": "2024-03-07T07:52:25.129735Z",
     "shell.execute_reply.started": "2024-03-07T07:52:24.978166Z"
    }
   },
   "outputs": [],
   "source": [
    "cnt_users = pd.DataFrame(df.groupby('user_id').size(), columns=['cnt'])\n",
    "cnt_books = pd.DataFrame(df.groupby('work').size(), columns=['cnt'])"
   ]
  },
  {
   "cell_type": "code",
   "execution_count": 10,
   "id": "96a3f063",
   "metadata": {
    "execution": {
     "iopub.execute_input": "2024-03-07T07:52:25.132302Z",
     "iopub.status.busy": "2024-03-07T07:52:25.131957Z",
     "iopub.status.idle": "2024-03-07T07:52:25.166551Z",
     "shell.execute_reply": "2024-03-07T07:52:25.165817Z",
     "shell.execute_reply.started": "2024-03-07T07:52:25.132272Z"
    }
   },
   "outputs": [],
   "source": [
    "users = list(set(cnt_users.query('cnt >= @min_user_threshold').index))\n",
    "books = list(set(cnt_books.query('cnt >= @min_book_threshold').index))"
   ]
  },
  {
   "cell_type": "code",
   "execution_count": 11,
   "id": "a3d9fe0e",
   "metadata": {
    "execution": {
     "iopub.execute_input": "2024-03-07T07:52:25.168100Z",
     "iopub.status.busy": "2024-03-07T07:52:25.167717Z",
     "iopub.status.idle": "2024-03-07T07:52:25.173358Z",
     "shell.execute_reply": "2024-03-07T07:52:25.172470Z",
     "shell.execute_reply.started": "2024-03-07T07:52:25.168067Z"
    }
   },
   "outputs": [
    {
     "name": "stdout",
     "output_type": "stream",
     "text": [
      "The number of users : 14622 and the number of books: 73225\n"
     ]
    }
   ],
   "source": [
    "print(f'The number of users : {len(users)} and the number of books: {len(books)}')"
   ]
  },
  {
   "cell_type": "code",
   "execution_count": 12,
   "id": "d30a6d42",
   "metadata": {
    "execution": {
     "iopub.execute_input": "2024-03-07T07:52:25.177982Z",
     "iopub.status.busy": "2024-03-07T07:52:25.177378Z",
     "iopub.status.idle": "2024-03-07T07:52:25.435084Z",
     "shell.execute_reply": "2024-03-07T07:52:25.434313Z",
     "shell.execute_reply.started": "2024-03-07T07:52:25.177950Z"
    }
   },
   "outputs": [],
   "source": [
    "user_matrix = df[df.user_id.isin(users)]\n",
    "matrix = user_matrix[user_matrix.work.isin(books)]"
   ]
  },
  {
   "cell_type": "code",
   "execution_count": 13,
   "id": "02aab174",
   "metadata": {
    "execution": {
     "iopub.execute_input": "2024-03-07T07:52:25.436470Z",
     "iopub.status.busy": "2024-03-07T07:52:25.436181Z",
     "iopub.status.idle": "2024-03-07T07:52:25.440950Z",
     "shell.execute_reply": "2024-03-07T07:52:25.440250Z",
     "shell.execute_reply.started": "2024-03-07T07:52:25.436446Z"
    }
   },
   "outputs": [
    {
     "name": "stdout",
     "output_type": "stream",
     "text": [
      "(1635950, 9) (907014, 9)\n"
     ]
    }
   ],
   "source": [
    "print(df.shape, matrix.shape)"
   ]
  },
  {
   "cell_type": "code",
   "execution_count": 14,
   "id": "df611ed4",
   "metadata": {
    "execution": {
     "iopub.execute_input": "2024-03-07T07:52:25.442528Z",
     "iopub.status.busy": "2024-03-07T07:52:25.442255Z",
     "iopub.status.idle": "2024-03-07T07:52:25.761211Z",
     "shell.execute_reply": "2024-03-07T07:52:25.760299Z",
     "shell.execute_reply.started": "2024-03-07T07:52:25.442505Z"
    }
   },
   "outputs": [
    {
     "data": {
      "text/plain": [
       "Unnamed: 0         0\n",
       "comment          213\n",
       "nhelpful           0\n",
       "unixtime          78\n",
       "work               0\n",
       "user              79\n",
       "stars         107702\n",
       "time              78\n",
       "user_id            0\n",
       "dtype: int64"
      ]
     },
     "execution_count": 14,
     "metadata": {},
     "output_type": "execute_result"
    }
   ],
   "source": [
    "matrix.isna().sum()"
   ]
  },
  {
   "cell_type": "code",
   "execution_count": 15,
   "id": "c03dd4e4",
   "metadata": {
    "execution": {
     "iopub.execute_input": "2024-03-07T07:52:25.762559Z",
     "iopub.status.busy": "2024-03-07T07:52:25.762275Z",
     "iopub.status.idle": "2024-03-07T07:52:25.831782Z",
     "shell.execute_reply": "2024-03-07T07:52:25.830966Z",
     "shell.execute_reply.started": "2024-03-07T07:52:25.762535Z"
    }
   },
   "outputs": [],
   "source": [
    "matrix = df_2.dropna(subset=['stars'])"
   ]
  },
  {
   "cell_type": "code",
   "execution_count": 16,
   "id": "210b6cd7",
   "metadata": {
    "execution": {
     "iopub.execute_input": "2024-03-07T07:52:25.833069Z",
     "iopub.status.busy": "2024-03-07T07:52:25.832783Z",
     "iopub.status.idle": "2024-03-07T07:52:25.876672Z",
     "shell.execute_reply": "2024-03-07T07:52:25.875681Z",
     "shell.execute_reply.started": "2024-03-07T07:52:25.833044Z"
    }
   },
   "outputs": [],
   "source": [
    "users = matrix['user_id'].unique()\n",
    "books = matrix['work'].unique()"
   ]
  },
  {
   "cell_type": "code",
   "execution_count": 17,
   "id": "cf71c547",
   "metadata": {
    "execution": {
     "iopub.execute_input": "2024-03-07T07:52:25.878157Z",
     "iopub.status.busy": "2024-03-07T07:52:25.877881Z",
     "iopub.status.idle": "2024-03-07T07:52:25.883129Z",
     "shell.execute_reply": "2024-03-07T07:52:25.882057Z",
     "shell.execute_reply.started": "2024-03-07T07:52:25.878134Z"
    }
   },
   "outputs": [
    {
     "name": "stdout",
     "output_type": "stream",
     "text": [
      "Total unique users: 69631 & total unique books: 381378\n"
     ]
    }
   ],
   "source": [
    "print(f'Total unique users: {len(users)} & total unique books: {len(books)}')"
   ]
  },
  {
   "cell_type": "code",
   "execution_count": 18,
   "id": "41725570",
   "metadata": {
    "execution": {
     "iopub.execute_input": "2024-03-07T07:52:25.884639Z",
     "iopub.status.busy": "2024-03-07T07:52:25.884340Z",
     "iopub.status.idle": "2024-03-07T07:52:26.047064Z",
     "shell.execute_reply": "2024-03-07T07:52:26.046197Z",
     "shell.execute_reply.started": "2024-03-07T07:52:25.884610Z"
    }
   },
   "outputs": [],
   "source": [
    "user2idx = {o:i for i, o in enumerate(users)}\n",
    "book2idx = {o:i for i, o in enumerate(books)}"
   ]
  },
  {
   "cell_type": "code",
   "execution_count": 132,
   "id": "d2ca337a",
   "metadata": {
    "execution": {
     "iopub.execute_input": "2024-03-07T09:06:25.966040Z",
     "iopub.status.busy": "2024-03-07T09:06:25.965335Z",
     "iopub.status.idle": "2024-03-07T09:06:25.969659Z",
     "shell.execute_reply": "2024-03-07T09:06:25.968761Z",
     "shell.execute_reply.started": "2024-03-07T09:06:25.966007Z"
    }
   },
   "outputs": [],
   "source": [
    "matrix['user_id'] = matrix['user_id'].apply(lambda x: user2idx[x])\n",
    "matrix['work'] = matrix['work'].apply(lambda x: book2idx[x])"
   ]
  },
  {
   "cell_type": "code",
   "execution_count": 19,
   "id": "202ed842",
   "metadata": {
    "execution": {
     "iopub.execute_input": "2024-03-07T06:58:04.272544Z",
     "iopub.status.busy": "2024-03-07T06:58:04.272185Z",
     "iopub.status.idle": "2024-03-07T06:58:04.852448Z",
     "shell.execute_reply": "2024-03-07T06:58:04.851561Z",
     "shell.execute_reply.started": "2024-03-07T06:58:04.272500Z"
    }
   },
   "outputs": [],
   "source": [
    "train = pd.read_csv('Train.csv')\n",
    "test = pd.read_csv('Test_data.csv')"
   ]
  },
  {
   "cell_type": "code",
   "execution_count": 103,
   "id": "139d83fe",
   "metadata": {
    "execution": {
     "iopub.execute_input": "2024-03-06T10:36:40.557383Z",
     "iopub.status.busy": "2024-03-06T10:36:40.556881Z",
     "iopub.status.idle": "2024-03-06T10:36:40.743060Z",
     "shell.execute_reply": "2024-03-06T10:36:40.741931Z",
     "shell.execute_reply.started": "2024-03-06T10:36:40.557324Z"
    }
   },
   "outputs": [],
   "source": [
    "train, test = train_test_split(matrix[['user_id', 'work', 'stars']], test_size=0.2, random_state=42)"
   ]
  },
  {
   "cell_type": "code",
   "execution_count": 104,
   "id": "ece18ed5",
   "metadata": {
    "execution": {
     "iopub.execute_input": "2024-03-06T10:36:42.398198Z",
     "iopub.status.busy": "2024-03-06T10:36:42.397796Z",
     "iopub.status.idle": "2024-03-06T10:36:42.406644Z",
     "shell.execute_reply": "2024-03-06T10:36:42.405358Z",
     "shell.execute_reply.started": "2024-03-06T10:36:42.398167Z"
    }
   },
   "outputs": [
    {
     "data": {
      "text/plain": [
       "(272699, 3)"
      ]
     },
     "execution_count": 104,
     "metadata": {},
     "output_type": "execute_result"
    }
   ],
   "source": [
    "test.shape"
   ]
  },
  {
   "cell_type": "code",
   "execution_count": 105,
   "id": "67003aa4",
   "metadata": {
    "execution": {
     "iopub.execute_input": "2024-03-06T10:36:49.194228Z",
     "iopub.status.busy": "2024-03-06T10:36:49.193862Z",
     "iopub.status.idle": "2024-03-06T10:36:49.256405Z",
     "shell.execute_reply": "2024-03-06T10:36:49.255422Z",
     "shell.execute_reply.started": "2024-03-06T10:36:49.194202Z"
    }
   },
   "outputs": [],
   "source": [
    "test = test[test['user_id'].isin(train['user_id'].unique())]\n",
    "test = test[test['work'].isin(train['work'].unique())]"
   ]
  },
  {
   "cell_type": "code",
   "execution_count": 106,
   "id": "d8c65374",
   "metadata": {
    "execution": {
     "iopub.execute_input": "2024-03-06T10:36:50.136222Z",
     "iopub.status.busy": "2024-03-06T10:36:50.135759Z",
     "iopub.status.idle": "2024-03-06T10:36:50.144451Z",
     "shell.execute_reply": "2024-03-06T10:36:50.143121Z",
     "shell.execute_reply.started": "2024-03-06T10:36:50.136189Z"
    }
   },
   "outputs": [
    {
     "data": {
      "text/plain": [
       "(214804, 3)"
      ]
     },
     "execution_count": 106,
     "metadata": {},
     "output_type": "execute_result"
    }
   ],
   "source": [
    "test.shape"
   ]
  },
  {
   "cell_type": "code",
   "execution_count": 107,
   "id": "afa760f7",
   "metadata": {
    "execution": {
     "iopub.execute_input": "2024-03-06T10:36:53.030981Z",
     "iopub.status.busy": "2024-03-06T10:36:53.030552Z",
     "iopub.status.idle": "2024-03-06T10:36:53.061678Z",
     "shell.execute_reply": "2024-03-06T10:36:53.060527Z",
     "shell.execute_reply.started": "2024-03-06T10:36:53.030952Z"
    }
   },
   "outputs": [],
   "source": [
    "test_leave_one_out = test.groupby('user_id').last().reset_index()"
   ]
  },
  {
   "cell_type": "code",
   "execution_count": 108,
   "id": "dc3a35c1",
   "metadata": {
    "execution": {
     "iopub.execute_input": "2024-03-06T10:37:48.149710Z",
     "iopub.status.busy": "2024-03-06T10:37:48.149215Z",
     "iopub.status.idle": "2024-03-06T10:37:48.170683Z",
     "shell.execute_reply": "2024-03-06T10:37:48.169258Z",
     "shell.execute_reply.started": "2024-03-06T10:37:48.149673Z"
    }
   },
   "outputs": [],
   "source": [
    "test_rest = test[~test['work'].isin(test_leave_one_out['work'].unique())]"
   ]
  },
  {
   "cell_type": "code",
   "execution_count": 110,
   "id": "84c8359c",
   "metadata": {
    "execution": {
     "iopub.execute_input": "2024-03-06T10:39:25.715750Z",
     "iopub.status.busy": "2024-03-06T10:39:25.715249Z",
     "iopub.status.idle": "2024-03-06T10:39:25.732004Z",
     "shell.execute_reply": "2024-03-06T10:39:25.730430Z",
     "shell.execute_reply.started": "2024-03-06T10:39:25.715713Z"
    }
   },
   "outputs": [],
   "source": [
    "train_last = pd.concat([train, test_rest], ignore_index=True)"
   ]
  },
  {
   "cell_type": "code",
   "execution_count": 112,
   "id": "df714537",
   "metadata": {
    "execution": {
     "iopub.execute_input": "2024-03-06T10:40:19.996026Z",
     "iopub.status.busy": "2024-03-06T10:40:19.995646Z",
     "iopub.status.idle": "2024-03-06T10:40:22.609738Z",
     "shell.execute_reply": "2024-03-06T10:40:22.608529Z",
     "shell.execute_reply.started": "2024-03-06T10:40:19.995999Z"
    }
   },
   "outputs": [],
   "source": [
    "train_last.to_csv('Train.csv')\n",
    "test_leave_one_out.to_csv('Test_leave_one_out.csv')\n",
    "test.to_csv('Test_default.csv')"
   ]
  },
  {
   "cell_type": "code",
   "execution_count": 42,
   "id": "900295f9",
   "metadata": {
    "execution": {
     "iopub.execute_input": "2024-03-06T11:18:54.340283Z",
     "iopub.status.busy": "2024-03-06T11:18:54.339433Z",
     "iopub.status.idle": "2024-03-06T11:18:54.612976Z",
     "shell.execute_reply": "2024-03-06T11:18:54.611988Z",
     "shell.execute_reply.started": "2024-03-06T11:18:54.340249Z"
    }
   },
   "outputs": [],
   "source": [
    "train = pd.read_csv('Train_data.csv')\n",
    "test = pd.read_csv('Test_leave_one_out.csv')"
   ]
  },
  {
   "cell_type": "code",
   "execution_count": 22,
   "id": "e246bf52",
   "metadata": {
    "execution": {
     "iopub.execute_input": "2024-03-06T12:48:40.564523Z",
     "iopub.status.busy": "2024-03-06T12:48:40.563887Z",
     "iopub.status.idle": "2024-03-06T12:48:40.597943Z",
     "shell.execute_reply": "2024-03-06T12:48:40.597196Z",
     "shell.execute_reply.started": "2024-03-06T12:48:40.564492Z"
    }
   },
   "outputs": [],
   "source": [
    "n_latent_factors= 300\n",
    "n_users = len(matrix['user_id'].unique())\n",
    "n_books = len(matrix['work'].unique())"
   ]
  },
  {
   "cell_type": "code",
   "execution_count": 151,
   "id": "55c55fe9",
   "metadata": {
    "execution": {
     "iopub.execute_input": "2024-03-06T16:13:39.440486Z",
     "iopub.status.busy": "2024-03-06T16:13:39.439804Z",
     "iopub.status.idle": "2024-03-06T16:13:39.444453Z",
     "shell.execute_reply": "2024-03-06T16:13:39.443516Z",
     "shell.execute_reply.started": "2024-03-06T16:13:39.440449Z"
    }
   },
   "outputs": [],
   "source": [
    "batch_size=48\n",
    "epochs=50"
   ]
  },
  {
   "cell_type": "code",
   "execution_count": 20,
   "id": "4a27ec24",
   "metadata": {
    "execution": {
     "iopub.execute_input": "2024-03-07T07:52:28.600998Z",
     "iopub.status.busy": "2024-03-07T07:52:28.600555Z",
     "iopub.status.idle": "2024-03-07T07:52:28.605483Z",
     "shell.execute_reply": "2024-03-07T07:52:28.604583Z",
     "shell.execute_reply.started": "2024-03-07T07:52:28.600964Z"
    }
   },
   "outputs": [],
   "source": [
    "from keras import saving"
   ]
  },
  {
   "cell_type": "code",
   "execution_count": 21,
   "id": "e2cc26e9",
   "metadata": {
    "execution": {
     "iopub.execute_input": "2024-03-07T07:52:28.606873Z",
     "iopub.status.busy": "2024-03-07T07:52:28.606585Z",
     "iopub.status.idle": "2024-03-07T07:52:28.623130Z",
     "shell.execute_reply": "2024-03-07T07:52:28.622219Z",
     "shell.execute_reply.started": "2024-03-07T07:52:28.606845Z"
    }
   },
   "outputs": [],
   "source": [
    "@saving.register_keras_serializable('my_package')\n",
    "class MF_Neural_Net_Model(keras.Model):\n",
    "    def __init__(self, n_users, n_books, n_latent_factors, reg = 0, dropout_rate=0.3, **kwargs):    \n",
    "        super(MF_Neural_Net_Model, self).__init__(**kwargs)\n",
    "        self.n_users = n_users\n",
    "        self.n_books = n_books\n",
    "        self.n_latent_factors = n_latent_factors\n",
    "        self.reg = reg\n",
    "        self.dropout_rate = dropout_rate\n",
    "\n",
    "        self.user_embedding = keras.layers.Embedding(n_users, n_latent_factors, embeddings_regularizer=keras.regularizers.l2(reg), name='user_embedding')\n",
    "        self.book_embedding = keras.layers.Embedding(n_books, n_latent_factors, embeddings_regularizer=keras.regularizers.l2(reg), name='book_embedding')\n",
    "        \n",
    "    \n",
    "        self.user_flatten = keras.layers.Flatten(name='FlattenUsers')\n",
    "        self.book_flatten = keras.layers.Flatten(name='FlattenBooks')\n",
    "        \n",
    "        \n",
    "        self.user_dense_1 = keras.layers.Dense(96, activation='relu')\n",
    "        self.user_dense_2 = keras.layers.Dense(48, activation='relu')\n",
    "        self.book_dense_1 = keras.layers.Dense(96, activation='relu')\n",
    "        self.book_dense_2 = keras.layers.Dense(48, activation='relu')\n",
    "                                            \n",
    "        \n",
    "        self.user_dropout = keras.layers.Dropout(dropout_rate)\n",
    "        self.book_dropout = keras.layers.Dropout(dropout_rate)\n",
    "        self.dot_sim = keras.layers.Dot(axes=1, name='Similarity-Dot-Product')\n",
    "            \n",
    "        self.dense_1 = keras.layers.Dense(96, activation='relu')\n",
    "        self.dense_2 = keras.layers.Dense(1, activation='relu')\n",
    "\n",
    "    def call(self, inputs):\n",
    "        user_input, book_input = inputs\n",
    "        user_embedding = self.user_embedding(user_input)\n",
    "        book_embedding = self.book_embedding(book_input)\n",
    "        \n",
    "\n",
    "        user_vec = self.user_flatten(user_embedding)\n",
    "        user_vec = self.user_dense_1(user_vec)\n",
    "        user_vec = self.user_dense_2(user_vec)\n",
    "\n",
    "        book_vec = self.book_flatten(book_embedding)\n",
    "        book_vec = self.book_dense_1(book_vec)\n",
    "        book_vec = self.book_dense_2(book_vec)\n",
    "\n",
    "      \n",
    "        user_vec = self.user_dropout(user_vec)\n",
    "        book_vec = self.book_dropout(book_vec)\n",
    "        sim = self.dot_sim([user_vec, book_vec])\n",
    "\n",
    "        nn_inp = self.dense_1(sim)\n",
    "      \n",
    "        output = self.dense_2(nn_inp)\n",
    "        \n",
    "        return output\n",
    "    \n",
    "    def get_config(self):\n",
    "        config = super().get_config()\n",
    "        config.update({\n",
    "            'n_users': self.n_users,\n",
    "            'n_books': self.n_books,\n",
    "            'n_latent_factors': self.n_latent_factors,\n",
    "            'reg': self.reg,\n",
    "            'dropout_rate': self.dropout_rate\n",
    "        })\n",
    "        return config"
   ]
  },
  {
   "cell_type": "markdown",
   "id": "92225db0",
   "metadata": {},
   "source": [
    "- As we can see here, we have used Dense layers to find out the complext relations between users and the books.\n",
    "- Using this approach, we can improve the error of our model"
   ]
  },
  {
   "cell_type": "code",
   "execution_count": 147,
   "id": "cdea4cbf",
   "metadata": {
    "execution": {
     "iopub.execute_input": "2024-03-06T16:06:20.748863Z",
     "iopub.status.busy": "2024-03-06T16:06:20.748013Z",
     "iopub.status.idle": "2024-03-06T16:06:20.753829Z",
     "shell.execute_reply": "2024-03-06T16:06:20.752881Z",
     "shell.execute_reply.started": "2024-03-06T16:06:20.748831Z"
    }
   },
   "outputs": [],
   "source": [
    "checkpoint_cb = keras.callbacks.ModelCheckpoint(\"MF_model_nn.keras\", monitor='val_loss', save_best_only=True)\n",
    "early_stopping_cb = keras.callbacks.EarlyStopping(patience=5, restore_best_weights=True)\n",
    "lr_decay_cb = keras.callbacks.ReduceLROnPlateau(monitor='loss', patience=1, factor=0.5, min_lr=1e-8)"
   ]
  },
  {
   "cell_type": "code",
   "execution_count": 152,
   "id": "8e584b29",
   "metadata": {
    "execution": {
     "iopub.execute_input": "2024-03-06T16:13:42.446216Z",
     "iopub.status.busy": "2024-03-06T16:13:42.445856Z",
     "iopub.status.idle": "2024-03-06T16:13:42.464738Z",
     "shell.execute_reply": "2024-03-06T16:13:42.463936Z",
     "shell.execute_reply.started": "2024-03-06T16:13:42.446190Z"
    }
   },
   "outputs": [],
   "source": [
    "model = MF_Neural_Net_Model(n_users, n_books, n_latent_factors)"
   ]
  },
  {
   "cell_type": "code",
   "execution_count": 153,
   "id": "261f2633",
   "metadata": {
    "execution": {
     "iopub.execute_input": "2024-03-06T16:13:42.827630Z",
     "iopub.status.busy": "2024-03-06T16:13:42.827007Z",
     "iopub.status.idle": "2024-03-06T16:13:42.836488Z",
     "shell.execute_reply": "2024-03-06T16:13:42.835695Z",
     "shell.execute_reply.started": "2024-03-06T16:13:42.827600Z"
    }
   },
   "outputs": [],
   "source": [
    "model.compile(optimizer=tf.optimizers.Adam(learning_rate=1e-3), loss='mse', metrics=['mae', keras.metrics.R2Score()])"
   ]
  },
  {
   "cell_type": "code",
   "execution_count": 29,
   "id": "1c1fa0d9",
   "metadata": {
    "execution": {
     "iopub.execute_input": "2024-03-06T12:48:52.129302Z",
     "iopub.status.busy": "2024-03-06T12:48:52.128409Z",
     "iopub.status.idle": "2024-03-06T13:57:49.251917Z",
     "shell.execute_reply": "2024-03-06T13:57:49.251091Z",
     "shell.execute_reply.started": "2024-03-06T12:48:52.129268Z"
    }
   },
   "outputs": [
    {
     "name": "stdout",
     "output_type": "stream",
     "text": [
      "Epoch 1/50\n"
     ]
    },
    {
     "name": "stderr",
     "output_type": "stream",
     "text": [
      "/opt/conda/lib/python3.10/site-packages/tensorflow/python/framework/indexed_slices.py:446: UserWarning: Converting sparse IndexedSlices to a dense Tensor with 114413400 elements. This may consume a large amount of memory.\n",
      "  warnings.warn(\n"
     ]
    },
    {
     "name": "stdout",
     "output_type": "stream",
     "text": [
      "\u001b[1m   10/19865\u001b[0m \u001b[37m━━━━━━━━━━━━━━━━━━━━\u001b[0m \u001b[1m6:11\u001b[0m 19ms/step - loss: 15.1039 - mae: 3.7607 - r2_score: -14.8531"
     ]
    },
    {
     "name": "stderr",
     "output_type": "stream",
     "text": [
      "WARNING: All log messages before absl::InitializeLog() is called are written to STDERR\n",
      "I0000 00:00:1709729336.636971     153 device_compiler.h:186] Compiled cluster using XLA!  This line is logged at most once for the lifetime of the process.\n"
     ]
    },
    {
     "name": "stdout",
     "output_type": "stream",
     "text": [
      "\u001b[1m19865/19865\u001b[0m \u001b[32m━━━━━━━━━━━━━━━━━━━━\u001b[0m\u001b[37m\u001b[0m \u001b[1m389s\u001b[0m 19ms/step - loss: 1.1026 - mae: 0.7892 - r2_score: -0.1069 - val_loss: 0.7740 - val_mae: 0.6772 - val_r2_score: 0.2011 - learning_rate: 0.0010\n",
      "Epoch 2/50\n",
      "\u001b[1m19865/19865\u001b[0m \u001b[32m━━━━━━━━━━━━━━━━━━━━\u001b[0m\u001b[37m\u001b[0m \u001b[1m375s\u001b[0m 19ms/step - loss: 0.6255 - mae: 0.5950 - r2_score: 0.3726 - val_loss: 0.7958 - val_mae: 0.6849 - val_r2_score: 0.1786 - learning_rate: 0.0010\n",
      "Epoch 3/50\n",
      "\u001b[1m19865/19865\u001b[0m \u001b[32m━━━━━━━━━━━━━━━━━━━━\u001b[0m\u001b[37m\u001b[0m \u001b[1m375s\u001b[0m 19ms/step - loss: 0.5240 - mae: 0.5273 - r2_score: 0.4742 - val_loss: 0.8474 - val_mae: 0.6941 - val_r2_score: 0.1253 - learning_rate: 0.0010\n",
      "Epoch 4/50\n",
      "\u001b[1m19865/19865\u001b[0m \u001b[32m━━━━━━━━━━━━━━━━━━━━\u001b[0m\u001b[37m\u001b[0m \u001b[1m374s\u001b[0m 19ms/step - loss: 0.4472 - mae: 0.4744 - r2_score: 0.5505 - val_loss: 0.8547 - val_mae: 0.7112 - val_r2_score: 0.1177 - learning_rate: 0.0010\n",
      "Epoch 5/50\n",
      "\u001b[1m19865/19865\u001b[0m \u001b[32m━━━━━━━━━━━━━━━━━━━━\u001b[0m\u001b[37m\u001b[0m \u001b[1m374s\u001b[0m 19ms/step - loss: 0.3893 - mae: 0.4341 - r2_score: 0.6096 - val_loss: 0.9093 - val_mae: 0.7244 - val_r2_score: 0.0613 - learning_rate: 0.0010\n",
      "Epoch 6/50\n",
      "\u001b[1m19865/19865\u001b[0m \u001b[32m━━━━━━━━━━━━━━━━━━━━\u001b[0m\u001b[37m\u001b[0m \u001b[1m374s\u001b[0m 19ms/step - loss: 0.3419 - mae: 0.3988 - r2_score: 0.6573 - val_loss: 0.9273 - val_mae: 0.7309 - val_r2_score: 0.0427 - learning_rate: 0.0010\n",
      "Epoch 7/50\n",
      "\u001b[1m19865/19865\u001b[0m \u001b[32m━━━━━━━━━━━━━━━━━━━━\u001b[0m\u001b[37m\u001b[0m \u001b[1m374s\u001b[0m 19ms/step - loss: 0.3058 - mae: 0.3710 - r2_score: 0.6929 - val_loss: 1.0068 - val_mae: 0.7500 - val_r2_score: -0.0394 - learning_rate: 0.0010\n",
      "Epoch 8/50\n",
      "\u001b[1m19865/19865\u001b[0m \u001b[32m━━━━━━━━━━━━━━━━━━━━\u001b[0m\u001b[37m\u001b[0m \u001b[1m375s\u001b[0m 19ms/step - loss: 0.2780 - mae: 0.3489 - r2_score: 0.7205 - val_loss: 0.9370 - val_mae: 0.7345 - val_r2_score: 0.0327 - learning_rate: 0.0010\n",
      "Epoch 9/50\n",
      "\u001b[1m19865/19865\u001b[0m \u001b[32m━━━━━━━━━━━━━━━━━━━━\u001b[0m\u001b[37m\u001b[0m \u001b[1m375s\u001b[0m 19ms/step - loss: 0.2563 - mae: 0.3317 - r2_score: 0.7433 - val_loss: 0.9453 - val_mae: 0.7376 - val_r2_score: 0.0240 - learning_rate: 0.0010\n",
      "Epoch 10/50\n",
      "\u001b[1m19865/19865\u001b[0m \u001b[32m━━━━━━━━━━━━━━━━━━━━\u001b[0m\u001b[37m\u001b[0m \u001b[1m375s\u001b[0m 19ms/step - loss: 0.2386 - mae: 0.3169 - r2_score: 0.7612 - val_loss: 0.9474 - val_mae: 0.7430 - val_r2_score: 0.0220 - learning_rate: 0.0010\n",
      "Epoch 11/50\n",
      "\u001b[1m19865/19865\u001b[0m \u001b[32m━━━━━━━━━━━━━━━━━━━━\u001b[0m\u001b[37m\u001b[0m \u001b[1m375s\u001b[0m 19ms/step - loss: 0.2239 - mae: 0.3039 - r2_score: 0.7755 - val_loss: 0.9737 - val_mae: 0.7484 - val_r2_score: -0.0053 - learning_rate: 0.0010\n"
     ]
    }
   ],
   "source": [
    "History = model.fit([train.user_id, train.work], train.stars, batch_size=batch_size, epochs=epochs, validation_split=0.2, callbacks=[checkpoint_cb, lr_decay_cb, early_stopping_cb], verbose=1)"
   ]
  },
  {
   "cell_type": "code",
   "execution_count": 31,
   "id": "a74892c0",
   "metadata": {
    "execution": {
     "iopub.execute_input": "2024-03-06T14:33:52.984499Z",
     "iopub.status.busy": "2024-03-06T14:33:52.984158Z",
     "iopub.status.idle": "2024-03-06T14:33:52.988713Z",
     "shell.execute_reply": "2024-03-06T14:33:52.987745Z",
     "shell.execute_reply.started": "2024-03-06T14:33:52.984474Z"
    }
   },
   "outputs": [],
   "source": [
    "import matplotlib.pyplot as plt"
   ]
  },
  {
   "cell_type": "code",
   "execution_count": 96,
   "id": "89efe166",
   "metadata": {
    "execution": {
     "iopub.execute_input": "2024-03-06T15:15:50.376541Z",
     "iopub.status.busy": "2024-03-06T15:15:50.376145Z",
     "iopub.status.idle": "2024-03-06T15:15:50.718072Z",
     "shell.execute_reply": "2024-03-06T15:15:50.716976Z",
     "shell.execute_reply.started": "2024-03-06T15:15:50.376509Z"
    }
   },
   "outputs": [
    {
     "data": {
      "image/png": "[encoded data removed]",
      "text/plain": [
       "<Figure size 640x480 with 1 Axes>"
      ]
     },
     "metadata": {},
     "output_type": "display_data"
    }
   ],
   "source": [
    "plt.plot(History.history['loss'], 'g')\n",
    "plt.plot(History.history['val_loss'], 'b')\n",
    "plt.title('model loss')\n",
    "plt.xlabel('epoch')\n",
    "plt.ylabel('loss')\n",
    "plt.legend(['train', 'test'], loc='upper right')\n",
    "plt.grid(True)\n",
    "plt.show()"
   ]
  },
  {
   "cell_type": "code",
   "execution_count": 44,
   "id": "6932f324",
   "metadata": {
    "execution": {
     "iopub.execute_input": "2024-03-06T14:53:17.873719Z",
     "iopub.status.busy": "2024-03-06T14:53:17.872862Z",
     "iopub.status.idle": "2024-03-06T14:53:19.388820Z",
     "shell.execute_reply": "2024-03-06T14:53:19.387572Z",
     "shell.execute_reply.started": "2024-03-06T14:53:17.873687Z"
    }
   },
   "outputs": [],
   "source": [
    "tf.saved_model.save(model, export_dir='Final_model.tf')"
   ]
  },
  {
   "cell_type": "code",
   "execution_count": 39,
   "id": "a9be7924",
   "metadata": {
    "execution": {
     "iopub.execute_input": "2024-03-04T17:36:56.500231Z",
     "iopub.status.busy": "2024-03-04T17:36:56.499880Z",
     "iopub.status.idle": "2024-03-04T17:36:57.574229Z",
     "shell.execute_reply": "2024-03-04T17:36:57.573202Z",
     "shell.execute_reply.started": "2024-03-04T17:36:56.500204Z"
    }
   },
   "outputs": [
    {
     "name": "stdout",
     "output_type": "stream",
     "text": [
      "\u001b[1m390/390\u001b[0m \u001b[32m━━━━━━━━━━━━━━━━━━━━\u001b[0m\u001b[37m\u001b[0m \u001b[1m1s\u001b[0m 2ms/step\n"
     ]
    },
    {
     "data": {
      "text/plain": [
       "array([[4.570698 ],\n",
       "       [2.7514753],\n",
       "       [3.6355681],\n",
       "       ...,\n",
       "       [2.9972973],\n",
       "       [2.9722366],\n",
       "       [3.1849334]], dtype=float32)"
      ]
     },
     "execution_count": 39,
     "metadata": {},
     "output_type": "execute_result"
    }
   ],
   "source": [
    "model.predict([test_leave_one_out.user_id, test_leave_one_out.work])"
   ]
  },
  {
   "cell_type": "code",
   "execution_count": 34,
   "id": "49235fcd",
   "metadata": {
    "execution": {
     "iopub.execute_input": "2024-03-06T14:42:20.059389Z",
     "iopub.status.busy": "2024-03-06T14:42:20.059006Z",
     "iopub.status.idle": "2024-03-06T14:42:36.630306Z",
     "shell.execute_reply": "2024-03-06T14:42:36.629418Z",
     "shell.execute_reply.started": "2024-03-06T14:42:20.059360Z"
    }
   },
   "outputs": [
    {
     "name": "stdout",
     "output_type": "stream",
     "text": [
      "\u001b[1m4957/4957\u001b[0m \u001b[32m━━━━━━━━━━━━━━━━━━━━\u001b[0m\u001b[37m\u001b[0m \u001b[1m17s\u001b[0m 3ms/step - loss: 1.1274 - mae: 0.8377 - r2_score: -0.1996\n"
     ]
    },
    {
     "data": {
      "text/plain": [
       "[1.124827265739441, 0.8363585472106934, -0.20190143585205078]"
      ]
     },
     "execution_count": 34,
     "metadata": {},
     "output_type": "execute_result"
    }
   ],
   "source": [
    "model.evaluate([test.user_id, test.work], test.stars)"
   ]
  },
  {
   "cell_type": "markdown",
   "id": "367b4168",
   "metadata": {},
   "source": [
    "- As we can see, the MSE of the test dataset is 1.12, which is much lower than the conventional matrix factorization model."
   ]
  },
  {
   "cell_type": "code",
   "execution_count": 22,
   "id": "44944851",
   "metadata": {
    "execution": {
     "iopub.execute_input": "2024-03-07T07:52:44.501043Z",
     "iopub.status.busy": "2024-03-07T07:52:44.500600Z",
     "iopub.status.idle": "2024-03-07T07:53:04.314896Z",
     "shell.execute_reply": "2024-03-07T07:53:04.314100Z",
     "shell.execute_reply.started": "2024-03-07T07:52:44.501010Z"
    }
   },
   "outputs": [],
   "source": [
    "model = saving.load_model('Final_model.keras')"
   ]
  },
  {
   "cell_type": "code",
   "execution_count": 56,
   "id": "38964f8c",
   "metadata": {
    "execution": {
     "iopub.execute_input": "2024-03-07T08:27:20.031197Z",
     "iopub.status.busy": "2024-03-07T08:27:20.030825Z",
     "iopub.status.idle": "2024-03-07T08:27:20.089331Z",
     "shell.execute_reply": "2024-03-07T08:27:20.088562Z",
     "shell.execute_reply.started": "2024-03-07T08:27:20.031167Z"
    }
   },
   "outputs": [],
   "source": [
    "idx2book = {i:b for b, i in book2idx.items()}"
   ]
  },
  {
   "cell_type": "code",
   "execution_count": 205,
   "id": "c05d3184",
   "metadata": {
    "execution": {
     "iopub.execute_input": "2024-03-07T09:50:22.475573Z",
     "iopub.status.busy": "2024-03-07T09:50:22.475212Z",
     "iopub.status.idle": "2024-03-07T09:50:22.485313Z",
     "shell.execute_reply": "2024-03-07T09:50:22.484282Z",
     "shell.execute_reply.started": "2024-03-07T09:50:22.475544Z"
    }
   },
   "outputs": [],
   "source": [
    "def make_recommendations(df, user, model, k = 10):\n",
    "    if not user in user2idx:\n",
    "        return 'Please review more books to get recommendations'\n",
    "    \n",
    "    rated_books = df[df['user_id'] == user]['work']\n",
    "    unrate_books = [i for i in books if i not in rated_books]\n",
    "    unrated_books = pd.DataFrame()\n",
    "    \n",
    "    unrated_books['work'] = unrate_books\n",
    "    \n",
    "    unrated_books['work_id']= unrated_books['work'].apply(lambda x: book2idx[x] if x in book2idx else None)\n",
    "    \n",
    "    unrated_books = unrated_books.dropna()\n",
    "    \n",
    "    unrated_books['user_id'] = user2idx[user]\n",
    "    unrated_books['original_user_id'] = user\n",
    "\n",
    "    unrated_books['rating'] = model.predict([unrated_books['user_id'], unrated_books['work_id']], verbose=0)\n",
    "    \n",
    "    \n",
    "    \n",
    "        \n",
    "    top_k = unrated_books.sort_values('rating', ascending=False).iloc[:k]\n",
    "    avg_ratings = df[df['work'].isin(top_k['work_id'].tolist())][['work', 'avg_rating']]\n",
    "\n",
    "    avg_ratings.drop_duplicates(subset='work', inplace=True)\n",
    "    \n",
    "    avg_ratings.rename(columns={'work': 'work_id'}, inplace=True)\n",
    "    \n",
    "    top_k = top_k.merge(avg_ratings, on='work_id', how='left')\n",
    "\n",
    "\n",
    "    return top_k"
   ]
  },
  {
   "cell_type": "code",
   "execution_count": 27,
   "id": "93789ce9",
   "metadata": {
    "execution": {
     "iopub.execute_input": "2024-03-07T07:54:48.657629Z",
     "iopub.status.busy": "2024-03-07T07:54:48.657283Z",
     "iopub.status.idle": "2024-03-07T07:54:48.663862Z",
     "shell.execute_reply": "2024-03-07T07:54:48.662798Z",
     "shell.execute_reply.started": "2024-03-07T07:54:48.657601Z"
    }
   },
   "outputs": [
    {
     "data": {
      "text/plain": [
       "[<Embedding name=user_embedding, built=True>,\n",
       " <Embedding name=book_embedding, built=True>,\n",
       " <Flatten name=FlattenUsers, built=True>,\n",
       " <Flatten name=FlattenBooks, built=True>,\n",
       " <Dense name=dense, built=True>,\n",
       " <Dense name=dense_1, built=True>,\n",
       " <Dense name=dense_2, built=True>,\n",
       " <Dense name=dense_3, built=True>,\n",
       " <Dropout name=dropout, built=True>,\n",
       " <Dropout name=dropout_1, built=True>,\n",
       " <Dot name=Similarity-Dot-Product, built=True>,\n",
       " <Dense name=dense_4, built=True>,\n",
       " <Dense name=dense_5, built=True>]"
      ]
     },
     "execution_count": 27,
     "metadata": {},
     "output_type": "execute_result"
    }
   ],
   "source": [
    "model.layers"
   ]
  },
  {
   "cell_type": "code",
   "execution_count": 45,
   "id": "869ce059",
   "metadata": {
    "execution": {
     "iopub.execute_input": "2024-03-07T08:06:39.381043Z",
     "iopub.status.busy": "2024-03-07T08:06:39.380689Z",
     "iopub.status.idle": "2024-03-07T08:06:40.343910Z",
     "shell.execute_reply": "2024-03-07T08:06:40.343113Z",
     "shell.execute_reply.started": "2024-03-07T08:06:39.381017Z"
    }
   },
   "outputs": [],
   "source": [
    "user_latent_matrix = model.layers[0].weights[0].numpy()\n",
    "book_latent_matrix = model.layers[1].weights[0].numpy()"
   ]
  },
  {
   "cell_type": "code",
   "execution_count": 51,
   "id": "d6f6019a",
   "metadata": {
    "execution": {
     "iopub.execute_input": "2024-03-07T08:17:33.469242Z",
     "iopub.status.busy": "2024-03-07T08:17:33.468559Z",
     "iopub.status.idle": "2024-03-07T08:17:33.474155Z",
     "shell.execute_reply": "2024-03-07T08:17:33.473117Z",
     "shell.execute_reply.started": "2024-03-07T08:17:33.469205Z"
    }
   },
   "outputs": [],
   "source": [
    "def cosine_similarity(i1, i2):\n",
    "    b1 = book_latent_matrix[i1]\n",
    "    b2 = book_latent_matrix[i2]\n",
    "    return np.dot(b1, b2) / (np.linalg.norm(b1) * np.linalg.norm(b2))"
   ]
  },
  {
   "cell_type": "code",
   "execution_count": 147,
   "id": "83540c4a",
   "metadata": {
    "execution": {
     "iopub.execute_input": "2024-03-07T09:13:02.300345Z",
     "iopub.status.busy": "2024-03-07T09:13:02.299978Z",
     "iopub.status.idle": "2024-03-07T09:13:02.589893Z",
     "shell.execute_reply": "2024-03-07T09:13:02.589081Z",
     "shell.execute_reply.started": "2024-03-07T09:13:02.300317Z"
    }
   },
   "outputs": [],
   "source": [
    "average_ratings = matrix.groupby('work')['stars'].mean().reset_index()\n",
    "average_ratings.rename(columns={'stars': 'avg_rating'}, inplace=True)\n",
    "\n",
    "matrix = matrix.merge(average_ratings, on='work', how='left')"
   ]
  },
  {
   "cell_type": "code",
   "execution_count": 186,
   "id": "095b22d8",
   "metadata": {
    "execution": {
     "iopub.execute_input": "2024-03-07T09:35:07.504471Z",
     "iopub.status.busy": "2024-03-07T09:35:07.504102Z",
     "iopub.status.idle": "2024-03-07T09:35:07.511922Z",
     "shell.execute_reply": "2024-03-07T09:35:07.510832Z",
     "shell.execute_reply.started": "2024-03-07T09:35:07.504443Z"
    }
   },
   "outputs": [],
   "source": [
    "def get_best_diverse(items, ranking, pred_ratings, avg_ratings, reg):\n",
    "    \n",
    "    maxi = 0\n",
    "    first = 0\n",
    "    \n",
    "    temp = ranking\n",
    "    if len(ranking) == 0:\n",
    "        temp = items\n",
    "    \n",
    "    for i in range(len(items)):\n",
    "        score = 0\n",
    "        for j in temp:\n",
    "            if items[i] == j:\n",
    "                continue\n",
    "            score += 1 - cosine_similarity(items[i], j)\n",
    "\n",
    "        f_score = ((1 - reg) *  (score / (len(items)-1))) + (reg * pred_ratings[i] / avg_ratings[i])\n",
    "            \n",
    "        if maxi < f_score:\n",
    "            maxi = f_score\n",
    "            first = i\n",
    "            \n",
    "    return first"
   ]
  },
  {
   "cell_type": "markdown",
   "id": "362b53c9",
   "metadata": {},
   "source": [
    "- We have used the above function to improve diveristy in our model."
   ]
  },
  {
   "cell_type": "code",
   "execution_count": 212,
   "id": "aadd5ffb",
   "metadata": {
    "execution": {
     "iopub.execute_input": "2024-03-07T09:53:10.887242Z",
     "iopub.status.busy": "2024-03-07T09:53:10.886587Z",
     "iopub.status.idle": "2024-03-07T09:53:10.895209Z",
     "shell.execute_reply": "2024-03-07T09:53:10.894295Z",
     "shell.execute_reply.started": "2024-03-07T09:53:10.887213Z"
    }
   },
   "outputs": [],
   "source": [
    "def diverse_recommendations(df, user, model, reg = 0.25, k = 10):\n",
    "    top_k = make_recommendations(df, user, model, 100)\n",
    "    \n",
    "    if type(top_k) == 'str':\n",
    "        return top_k\n",
    "    \n",
    "    ranking = []\n",
    "    items = top_k['work_id'].tolist()\n",
    "    pred_ratings = top_k['rating'].tolist()\n",
    "    average_rating = top_k['avg_rating'].tolist()\n",
    "    \n",
    "    \n",
    "    while len(ranking) < k:\n",
    "        index = get_best_diverse(items, ranking, pred_ratings, average_rating, reg)\n",
    "        ranking.append(items[index])\n",
    "        del items[index]\n",
    "    \n",
    "    final_rankings = [idx2book[i] for i in ranking]\n",
    "    \n",
    "    return final_rankings\n",
    "    "
   ]
  },
  {
   "cell_type": "code",
   "execution_count": 89,
   "id": "5f18ccc2",
   "metadata": {
    "execution": {
     "iopub.execute_input": "2024-03-07T08:43:56.723890Z",
     "iopub.status.busy": "2024-03-07T08:43:56.723544Z",
     "iopub.status.idle": "2024-03-07T08:43:56.729396Z",
     "shell.execute_reply": "2024-03-07T08:43:56.728409Z",
     "shell.execute_reply.started": "2024-03-07T08:43:56.723863Z"
    }
   },
   "outputs": [],
   "source": [
    "def cal_ILD(rankings):\n",
    "    score = 0\n",
    "    \n",
    "    for i in rankings:\n",
    "        for j in rankings:\n",
    "            if i == j:\n",
    "                continue\n",
    "            \n",
    "            score += 1 - cosine_similarity(book2idx[i], book2idx[j])\n",
    "    \n",
    "    return score / (len(rankings) * len(rankings) - 1)                "
   ]
  },
  {
   "cell_type": "code",
   "execution_count": 206,
   "id": "6f1468aa",
   "metadata": {
    "execution": {
     "iopub.execute_input": "2024-03-07T09:50:30.506182Z",
     "iopub.status.busy": "2024-03-07T09:50:30.505852Z",
     "iopub.status.idle": "2024-03-07T09:50:56.958622Z",
     "shell.execute_reply": "2024-03-07T09:50:56.957837Z",
     "shell.execute_reply.started": "2024-03-07T09:50:30.506159Z"
    }
   },
   "outputs": [],
   "source": [
    "normal_rec = make_recommendations(matrix, 22, model, k=20)"
   ]
  },
  {
   "cell_type": "code",
   "execution_count": 213,
   "id": "f2e53adf",
   "metadata": {
    "execution": {
     "iopub.execute_input": "2024-03-07T09:53:13.408004Z",
     "iopub.status.busy": "2024-03-07T09:53:13.407400Z",
     "iopub.status.idle": "2024-03-07T09:53:39.568370Z",
     "shell.execute_reply": "2024-03-07T09:53:39.567502Z",
     "shell.execute_reply.started": "2024-03-07T09:53:13.407968Z"
    }
   },
   "outputs": [],
   "source": [
    "diverse_rec = diverse_recommendations(matrix, 22, model, k = 20)"
   ]
  },
  {
   "cell_type": "code",
   "execution_count": 214,
   "id": "7cd8cf78",
   "metadata": {
    "execution": {
     "iopub.execute_input": "2024-03-07T09:53:39.570460Z",
     "iopub.status.busy": "2024-03-07T09:53:39.570134Z",
     "iopub.status.idle": "2024-03-07T09:53:39.594748Z",
     "shell.execute_reply": "2024-03-07T09:53:39.593845Z",
     "shell.execute_reply.started": "2024-03-07T09:53:39.570433Z"
    }
   },
   "outputs": [
    {
     "data": {
      "text/plain": [
       "0.33645838379561155"
      ]
     },
     "execution_count": 214,
     "metadata": {},
     "output_type": "execute_result"
    }
   ],
   "source": [
    "cal_ILD(normal_rec['work'].tolist())"
   ]
  },
  {
   "cell_type": "code",
   "execution_count": 215,
   "id": "000b10ec",
   "metadata": {
    "execution": {
     "iopub.execute_input": "2024-03-07T09:53:39.596552Z",
     "iopub.status.busy": "2024-03-07T09:53:39.596125Z",
     "iopub.status.idle": "2024-03-07T09:53:39.616066Z",
     "shell.execute_reply": "2024-03-07T09:53:39.615221Z",
     "shell.execute_reply.started": "2024-03-07T09:53:39.596518Z"
    }
   },
   "outputs": [
    {
     "data": {
      "text/plain": [
       "0.45482085581710163"
      ]
     },
     "execution_count": 215,
     "metadata": {},
     "output_type": "execute_result"
    }
   ],
   "source": [
    "cal_ILD(diverse_rec)"
   ]
  },
  {
   "cell_type": "markdown",
   "id": "d6d0bb33",
   "metadata": {},
   "source": [
    "- As we can see above, by using diveristy approach, the diversity of the recommendation model is increased."
   ]
  }
 ],
 "metadata": {
  "accelerator": "GPU",
  "colab": {
   "gpuType": "T4",
   "provenance": []
  },
  "kaggle": {
   "accelerator": "gpu",
   "dataSources": [
    {
     "datasetId": 4522932,
     "sourceId": 7738644,
     "sourceType": "datasetVersion"
    },
    {
     "datasetId": 4551379,
     "sourceId": 7778079,
     "sourceType": "datasetVersion"
    }
   ],
   "dockerImageVersionId": 30665,
   "isGpuEnabled": true,
   "isInternetEnabled": false,
   "language": "python",
   "sourceType": "notebook"
  },
  "kernelspec": {
   "display_name": "Python 3 (ipykernel)",
   "language": "python",
   "name": "python3"
  },
  "language_info": {
   "codemirror_mode": {
    "name": "ipython",
    "version": 3
   },
   "file_extension": ".py",
   "mimetype": "text/x-python",
   "name": "python",
   "nbconvert_exporter": "python",
   "pygments_lexer": "ipython3",
   "version": "3.11.7"
  }
 },
 "nbformat": 4,
 "nbformat_minor": 5
}
